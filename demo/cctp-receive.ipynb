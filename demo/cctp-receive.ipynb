{
 "cells": [
  {
   "cell_type": "code",
   "execution_count": null,
   "id": "e510ee47-10f8-43f4-9630-eee1d947fb99",
   "metadata": {},
   "outputs": [],
   "source": [
    "from web3 import Web3\n",
    "w3 = Web3(Web3.HTTPProvider('http://127.0.0.1:9933'))\n",
    "w3.isConnected()"
   ]
  },
  {
   "cell_type": "code",
   "execution_count": null,
   "id": "f81c055e-5c76-48bc-93a4-226413ec2fa9",
   "metadata": {},
   "outputs": [],
   "source": [
    "import os\n",
    "\n",
    "home = os.environ['HOME']\n",
    "print(home)\n",
    "abiFile = home + '/code/evm-cctp-contracts/out/MessageTransmitter.sol/MessageTransmitter.json'\n",
    "print(abiFile)"
   ]
  },
  {
   "cell_type": "code",
   "execution_count": null,
   "id": "c645a983-76c6-46d9-b3f9-5cd3db69395d",
   "metadata": {},
   "outputs": [],
   "source": [
    "import json\n",
    "\n",
    "with open(abiFile) as f:\n",
    "    info_json = json.load(f)\n",
    "\n",
    "abi = info_json['abi']\n",
    "#print(abi)"
   ]
  },
  {
   "cell_type": "code",
   "execution_count": null,
   "id": "2bd2294f-8cb3-465f-b80d-6d9583c5cd0e",
   "metadata": {},
   "outputs": [],
   "source": [
    "# Need moonbeam deployment details\n",
    "messageTransmitterAddress = '0x467F4E635418fB8212dDe418B3aDF2A151c1f47D'"
   ]
  },
  {
   "cell_type": "code",
   "execution_count": null,
   "id": "3c6dda03-e68f-4423-8290-17c7e6be5290",
   "metadata": {},
   "outputs": [],
   "source": [
    "mt = w3.eth.contract(address=messageTransmitterAddress, abi=abi)"
   ]
  },
  {
   "cell_type": "code",
   "execution_count": null,
   "id": "31652cf5-1f2d-4a66-9e34-2e37a4f82c58",
   "metadata": {},
   "outputs": [],
   "source": [
    "mt.functions.owner().call()"
   ]
  },
  {
   "cell_type": "code",
   "execution_count": null,
   "id": "b3a63789-9f19-4451-a917-fc5bf20e6415",
   "metadata": {},
   "outputs": [],
   "source": [
    "# Moonbeam accounts\n",
    "MBACCT0='0xf24FF3a9CF04c71Dbc94D0b566f7A27B94566cac'\n",
    "MBACCT1='0x3Cd0A705a2DC65e5b1E1205896BaA2be8A07c6e0'\n",
    "MBACCT9='0x2898FE7a42Be376C8BC7AF536A940F7Fd5aDd423'"
   ]
  },
  {
   "cell_type": "code",
   "execution_count": null,
   "id": "7cfdc47d-6b8e-4867-a15c-bbac5d216f73",
   "metadata": {},
   "outputs": [],
   "source": [
    "MBACCT0KEY='0x5fb92d6e98884f76de468fa3f6278f8807c48bebc13595d45af5bdc4da702133'\n",
    "MBACCT1KEY='0x8075991ce870b93a8870eca0c0f91913d12f47948ca0fd25b49c6fa7cdbeee8b'\n",
    "MBACCT9KEY='0x94c49300a58d576011096bcb006aa06f5a91b34b4383891e8029c21dc39fbb8b'\n"
   ]
  },
  {
   "cell_type": "code",
   "execution_count": null,
   "id": "4dd7a497-cfa0-4fe1-8c54-1c4091e5514a",
   "metadata": {},
   "outputs": [],
   "source": [
    "w3.eth.getBalance(MBACCT1)"
   ]
  },
  {
   "cell_type": "code",
   "execution_count": null,
   "id": "93fefeb5-0ef2-42bc-80ac-19141556e922",
   "metadata": {},
   "outputs": [],
   "source": [
    "fiddyAddress = '0xc01Ee7f10EA4aF4673cFff62710E1D7792aBa8f3'"
   ]
  },
  {
   "cell_type": "code",
   "execution_count": null,
   "id": "f45e8727-11c6-4c9e-8b5b-9015751ad11b",
   "metadata": {},
   "outputs": [],
   "source": [
    "fiddyAbiFile = home + '/code/cctp-components/out/Token.sol/FiddyCent.json'"
   ]
  },
  {
   "cell_type": "code",
   "execution_count": null,
   "id": "051c2b91-3f8f-4fba-aec4-b68dabc699ba",
   "metadata": {},
   "outputs": [],
   "source": [
    "with open(fiddyAbiFile) as f:\n",
    "    fiddy_json = json.load(f)\n",
    "\n",
    "fiddyAbi = fiddy_json['abi']\n",
    "#print(fiddyAbi)"
   ]
  },
  {
   "cell_type": "code",
   "execution_count": null,
   "id": "13952a77-55dc-48ab-8daa-e9715544bc03",
   "metadata": {},
   "outputs": [],
   "source": [
    "fiddy = w3.eth.contract(address=fiddyAddress, abi=fiddyAbi)"
   ]
  },
  {
   "cell_type": "code",
   "execution_count": null,
   "id": "1dc109f8-fbc7-459e-8348-638fd3f1e019",
   "metadata": {},
   "outputs": [],
   "source": [
    "fiddy.functions.totalSupply().call()"
   ]
  },
  {
   "cell_type": "code",
   "execution_count": null,
   "id": "93b38447-89aa-4448-9d00-53bc285904c7",
   "metadata": {},
   "outputs": [],
   "source": [
    "fiddy.functions.balanceOf(MBACCT0).call()"
   ]
  },
  {
   "cell_type": "code",
   "execution_count": null,
   "id": "66541175-e197-44b4-b98d-859f83eb18c6",
   "metadata": {},
   "outputs": [],
   "source": [
    "# From listener output\n",
    "from hexbytes import HexBytes\n",
    "mb = HexBytes('0x000000000000000100000002000000000000000d00000000000000000000000074fd5221dfcf8059a95e934cd31694c224d0643b0000000000000000000000000f5078e4bb393df0286d31759c0c6da63ea98451000000000000000000000000000000000000000000000000000000000000000000000000000000000000000000000000db98a5bfba239000213813b2615b8a96e950a79b3cd0a705a2dc65e5b1e1205896baa2be8a07c6e000000000000000000000000000000000000000000000000000000000000000000000000000000000000000010000000000000000000000009949f7e672a568bb3ebeb777d5e8d1c1107e96e5')\n",
    "ms = HexBytes('0x82ea18e68774628e1452389eca8e2f90c948ed9a02036d05d9b469180f5c853e5559ff0c80bcc0b26abc583ec3f8a6ddd4afc9c0b34b7c85d61dbb3203422e971c')"
   ]
  },
  {
   "cell_type": "code",
   "execution_count": null,
   "id": "9ad40e6f-f23c-4832-b100-2bb40e5d28d0",
   "metadata": {},
   "outputs": [],
   "source": [
    "tx = mt.functions.receiveMessage(mb,ms).build_transaction(\n",
    "     {\n",
    "        \"from\":MBACCT9,\n",
    "        \"nonce\": w3.eth.get_transaction_count(MBACCT9),\n",
    "    }\n",
    ")"
   ]
  },
  {
   "cell_type": "code",
   "execution_count": null,
   "id": "9adf8bbe-4acb-458b-8581-1ad7f06b0abe",
   "metadata": {},
   "outputs": [],
   "source": [
    "mt.all_functions"
   ]
  },
  {
   "cell_type": "code",
   "execution_count": null,
   "id": "a5d38c83-30b3-47db-9eec-bf88f601144f",
   "metadata": {},
   "outputs": [],
   "source": [
    "mt.functions.getEnabledAttester(0).call()"
   ]
  },
  {
   "cell_type": "code",
   "execution_count": null,
   "id": "4b1d68b7-8b6e-4188-886f-9ab138c3d264",
   "metadata": {},
   "outputs": [],
   "source": [
    "mt.functions.owner().call()"
   ]
  },
  {
   "cell_type": "code",
   "execution_count": null,
   "id": "333ba885-9a59-4969-b6ad-1cd39bdf7258",
   "metadata": {},
   "outputs": [],
   "source": [
    "MBACCT9='0x2898FE7a42Be376C8BC7AF536A940F7Fd5aDd423'\n",
    "MBACCT9KEY='0x94c49300a58d576011096bcb006aa06f5a91b34b4383891e8029c21dc39fbb8b'\n",
    "\n",
    "tx = fiddy.functions.transfer(MBACCT1, 100).build_transaction(\n",
    "    {\n",
    "        \"from\":MBACCT0,\n",
    "        \"nonce\": w3.eth.get_transaction_count(MBACCT0),\n",
    "    }\n",
    ")"
   ]
  },
  {
   "cell_type": "code",
   "execution_count": null,
   "id": "c389f644-5454-4825-bec5-12f5f3967d0a",
   "metadata": {},
   "outputs": [],
   "source": [
    "tx = fiddy.functions.mint(MBACCT1,1).build_transaction(\n",
    "    {\n",
    "        \"from\":MBACCT9,\n",
    "        \"nonce\": w3.eth.get_transaction_count(MBACCT9),\n",
    "    }\n",
    ")"
   ]
  },
  {
   "cell_type": "code",
   "execution_count": null,
   "id": "9b5d7a68-47cf-4a57-b8c2-f848e983ebc1",
   "metadata": {},
   "outputs": [],
   "source": [
    "signed_tx = w3.eth.account.sign_transaction(tx, MBACCT9KEY)\n",
    "tx_hash = w3.eth.send_raw_transaction(signed_tx.rawTransaction)\n",
    "tx_receipt = w3.eth.wait_for_transaction_receipt(tx_hash)\n",
    "print(tx_receipt)"
   ]
  },
  {
   "cell_type": "code",
   "execution_count": null,
   "id": "c1e03bfa-6398-47b9-b510-24894e2dea63",
   "metadata": {},
   "outputs": [],
   "source": [
    "fiddy.functions.balanceOf(MBACCT1).call()"
   ]
  },
  {
   "cell_type": "code",
   "execution_count": null,
   "id": "06c7dd99-1ea8-4104-8997-a2b83322c86f",
   "metadata": {},
   "outputs": [],
   "source": [
    "fiddy.functions.totalSupply().call()"
   ]
  },
  {
   "cell_type": "code",
   "execution_count": null,
   "id": "c23a8889-c06d-4fa0-a569-2b5cf8238dff",
   "metadata": {},
   "outputs": [],
   "source": [
    "minter = fiddy.functions.MINTER_ROLE().call()"
   ]
  },
  {
   "cell_type": "code",
   "execution_count": null,
   "id": "b3381a5e-c691-4406-994b-9b36fa048817",
   "metadata": {},
   "outputs": [],
   "source": [
    "tx = fiddy.functions.grantRole(minter, MBACCT9).build_transaction(\n",
    "    {\n",
    "        \"from\":MBACCT0,\n",
    "        \"nonce\": w3.eth.get_transaction_count(MBACCT0),\n",
    "    }\n",
    ")"
   ]
  },
  {
   "cell_type": "code",
   "execution_count": null,
   "id": "460b5e84-427e-4663-bb8c-de3466a48183",
   "metadata": {},
   "outputs": [],
   "source": [
    "signed_tx = w3.eth.account.sign_transaction(tx, MBACCT0KEY)\n",
    "tx_hash = w3.eth.send_raw_transaction(signed_tx.rawTransaction)\n",
    "tx_receipt = w3.eth.wait_for_transaction_receipt(tx_hash)\n",
    "print(tx_receipt)"
   ]
  },
  {
   "cell_type": "code",
   "execution_count": null,
   "id": "75f1f50f-f068-4750-a4fd-2c4fb63e4e27",
   "metadata": {},
   "outputs": [],
   "source": [
    "## For looking at the local token messenger\n",
    "import os\n",
    "\n",
    "home = os.environ['HOME']\n",
    "print(home)\n",
    "abiFile = home + '/code/evm-cctp-contracts/out/TokenMessenger.sol/TokenMessenger.json'\n",
    "print(abiFile)"
   ]
  },
  {
   "cell_type": "code",
   "execution_count": null,
   "id": "8a631084-cc75-4ab0-b00e-7e7ba0df3309",
   "metadata": {},
   "outputs": [],
   "source": [
    "import json\n",
    "\n",
    "with open(abiFile) as f:\n",
    "    info_json = json.load(f)\n",
    "\n",
    "abi = info_json['abi']"
   ]
  },
  {
   "cell_type": "code",
   "execution_count": null,
   "id": "abfc4b21-4206-486d-9eed-ca00753f023b",
   "metadata": {},
   "outputs": [],
   "source": [
    "#export MESSAGE_TRANSMITTER=0x467F4E635418fB8212dDe418B3aDF2A151c1f47D\n",
    "#export TOKEN_MESSENGER=0xAb90e5033f7d5fC616330a35bdebaeaF64a169f8\n",
    "#export TOKEN_MINTER=0xbfC36f6f91F75EA561aAB04c2687e6757Bb1575E\n",
    "\n",
    "tokenMessengerAddr = '0xAb90e5033f7d5fC616330a35bdebaeaF64a169f8'"
   ]
  },
  {
   "cell_type": "code",
   "execution_count": null,
   "id": "41ae2df4-089c-4d3a-aec6-20524d5ae8ce",
   "metadata": {},
   "outputs": [],
   "source": [
    "tm = w3.eth.contract(address=tokenMessengerAddr, abi=abi)"
   ]
  },
  {
   "cell_type": "code",
   "execution_count": null,
   "id": "2e0d9d37-7f41-490f-bd74-20140f557625",
   "metadata": {},
   "outputs": [],
   "source": [
    "tm.all_functions()"
   ]
  },
  {
   "cell_type": "code",
   "execution_count": null,
   "id": "f277a1e7-8698-41fb-99d9-6875c46f018d",
   "metadata": {},
   "outputs": [],
   "source": [
    "tm.functions.localMinter().call()"
   ]
  },
  {
   "cell_type": "code",
   "execution_count": null,
   "id": "d51f9cf1-a060-4a89-bf47-d33b9ae66fe2",
   "metadata": {},
   "outputs": [],
   "source": [
    "fiddy.address"
   ]
  },
  {
   "cell_type": "code",
   "execution_count": null,
   "id": "c3c6507f-6391-4eb1-8daa-00c7292ddab3",
   "metadata": {},
   "outputs": [],
   "source": [
    "tx = tm.functions.addLocalMinter(fiddy.address).build_transaction(\n",
    "    {\n",
    "        \"from\":MBACCT0,\n",
    "        \"nonce\": w3.eth.get_transaction_count(MBACCT0),\n",
    "    }\n",
    ")"
   ]
  },
  {
   "cell_type": "code",
   "execution_count": null,
   "id": "12bb94f3-8900-489c-8a35-859ae7190eec",
   "metadata": {},
   "outputs": [],
   "source": []
  }
 ],
 "metadata": {
  "kernelspec": {
   "display_name": "Python 3 (ipykernel)",
   "language": "python",
   "name": "python3"
  },
  "language_info": {
   "codemirror_mode": {
    "name": "ipython",
    "version": 3
   },
   "file_extension": ".py",
   "mimetype": "text/x-python",
   "name": "python",
   "nbconvert_exporter": "python",
   "pygments_lexer": "ipython3",
   "version": "3.8.10"
  }
 },
 "nbformat": 4,
 "nbformat_minor": 5
}
