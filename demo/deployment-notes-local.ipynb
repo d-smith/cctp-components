{
 "cells": [
  {
   "cell_type": "markdown",
   "id": "eaaf3272-ecfa-433b-a2c7-5b25ea8933c4",
   "metadata": {},
   "source": [
    "## Deployment\n",
    "\n",
    "Deployment notes and scripts\n",
    "\n",
    "Prior to starting Jupyter be sure node js is avaiable - set it via nvm if needed.\n",
    "\n",
    "NOTE: This copy of the book deploys two domains to the same test net. This is done to troubleshoot the set up prior to two chain deployment."
   ]
  },
  {
   "cell_type": "code",
   "execution_count": null,
   "id": "b5fb09d1-ff5b-4760-8078-18744c299261",
   "metadata": {},
   "outputs": [],
   "source": [
    "import json\n",
    "\n",
    "from web3 import Web3\n",
    "w3 = Web3(Web3.HTTPProvider('http://127.0.0.1:8545'))"
   ]
  },
  {
   "cell_type": "code",
   "execution_count": null,
   "id": "4df8ac36-d0d0-495e-9d2c-dfe73c66ece6",
   "metadata": {},
   "outputs": [],
   "source": [
    "# Eth test account addresses\n",
    "ACCT0='0x892BB2e4F6b14a2B5b82Ba8d33E5925D42D4431F'\n",
    "ACCT1='0x9949f7e672a568bB3EBEB777D5e8D1c1107e96E5'\n",
    "ACCT2='0x835F0Aa692b8eBCdEa8E64742e5Bce30303669c2'\n",
    "ACCT3='0x7bA7d161F9E8B707694f434d65c218a1F0853B1C'\n",
    "ACCT4='0xB4C3D79CDC0eb7A8576a8bf224Bbc6Bec790c320'\n",
    "ACCT5='0x5Ad35F89D8C1d03089BDe2578Ce43883E3f2A7B0'\n",
    "ACCT6='0x0234643975F308b76d1241897e7d70b02C155daa'\n",
    "ACCT7='0x5199524B11e801c52161CA76dB9BFD72f4a4E1E1'\n",
    "ACCT8='0x549381D65fe61046911d11743D5c0941Ed704640'\n",
    "ACCT9='0x73dA1eD554De26C467d97ADE090af6d52851745E'"
   ]
  },
  {
   "cell_type": "code",
   "execution_count": null,
   "id": "55e1ab4c-709e-4eae-99aa-002e3add710b",
   "metadata": {},
   "outputs": [],
   "source": [
    "# Eth test account private keys\n",
    "ACCT0KEY='0xcb1a18dff8cfcee16202bf86f1f89f8b3881107b8192cd06836fda9dbc0fde1b'\n",
    "ACCT1KEY='0xa54f24f80839b659fc44fbb19492507bc734ea572f6f5672787cd8e9a198bf28'\n",
    "ACCT2KEY='0x824f9e081f93102ca26e9e696bb6804079a5e4e3fca3a05216e2b6e0538fcab9'\n",
    "ACCT3KEY='0x3e56e9b2db8389123a03816c37dd4515e07077483fbe865156a2d8f6003b6725'\n",
    "ACCT4KEY='0xca55c5904f97405816f8d24c5e7810aaec2aa347ea0e1f920f19eca05669ae7b'\n",
    "ACCT5KEY='0x6100006a16d6a0fd065f62165e64d412920afd0e8fc59956ad7a9116e363b72e'\n",
    "ACCT6KEY='0x55b0e7919eb08e618dbddf025341094eefc0db60244736c1faac1412d68868f3'\n",
    "ACCT7KEY='0x81b475051c4686cffe815e50216a9bac397c0e5d9108170823b290d41823fa8a'\n",
    "ACCT8KEY='0xc3599ced1484dc8eccbb477cf8c318ca48ef1f2aac81a10a3774fe40d3b678de'\n",
    "ACCT9KEY='0xf9832eeac47db42efeb2eca01e6479bfde00fda8fdd0624d45efd0e4b9ddcd3b'"
   ]
  },
  {
   "cell_type": "code",
   "execution_count": null,
   "id": "6dbd06f9-80fb-4cd8-8680-785c87a1387d",
   "metadata": {},
   "outputs": [],
   "source": [
    "domain_1_acct = ACCT0\n",
    "domain_1_key = ACCT0KEY\n",
    "\n",
    "domain_2_acct = ACCT9\n",
    "domain_2_key = ACCT9KEY\n",
    "\n",
    "domain_2_mint_recipient = ACCT4\n",
    "domain_2_mint_recipient_key = ACCT4KEY\n",
    "\n",
    "domain_1_mint_recipient = ACCT5\n",
    "domain_1_mint_recipient_key = ACCT5KEY\n",
    "\n",
    "attestor = ACCT8\n",
    "attestor_key = ACCT8KEY"
   ]
  },
  {
   "cell_type": "code",
   "execution_count": null,
   "id": "d91c46b8-9f81-43cd-9066-10c6d42c4096",
   "metadata": {},
   "outputs": [],
   "source": [
    "print(domain_1_acct)"
   ]
  },
  {
   "cell_type": "markdown",
   "id": "d962f84a-750a-4133-9308-d8fef594a180",
   "metadata": {},
   "source": [
    "## Fiddy Deployment - Domain 1\n",
    "\n",
    "1. Pick account for deploying FIDDY\n",
    "2. Deploy it\n",
    "3. Grab the address\n",
    "\n",
    "\n",
    "\n",
    "\n",
    "\n",
    "\n",
    "\n"
   ]
  },
  {
   "cell_type": "code",
   "execution_count": null,
   "id": "72beba41-84b1-4bc9-a280-61f1a11e2fb2",
   "metadata": {},
   "outputs": [],
   "source": [
    "home = ! echo $HOME\n",
    "exec_home = home[0] + '/code/cctp-components'\n",
    "print(exec_home)"
   ]
  },
  {
   "cell_type": "code",
   "execution_count": null,
   "id": "47bf5a9d-39c1-4c8a-b5f0-335c6b1b9501",
   "metadata": {
    "scrolled": true
   },
   "outputs": [],
   "source": [
    "# Fiddy deployment\n",
    "!cd {exec_home} && DEPLOYER_KEY={domain_1_key} OWNER_ADDRESS={domain_1_acct} forge script script/Token.s.sol:DeployScript --broadcast --rpc-url http://127.0.0.1:8545 --extra-output-files abi --extra-output-files bin\n"
   ]
  },
  {
   "cell_type": "code",
   "execution_count": null,
   "id": "2e0f787e-b8da-4b5a-8aae-8301d9d2e0bf",
   "metadata": {},
   "outputs": [],
   "source": [
    "%%bash -s \"$exec_home\" --out DOMAIN1_FIDDY_ADDRESS\n",
    "cd $1\n",
    "ls\n",
    "node script/deploy-details.js"
   ]
  },
  {
   "cell_type": "code",
   "execution_count": null,
   "id": "1393e98e-fad7-4c79-8dc9-3b1434568c32",
   "metadata": {},
   "outputs": [],
   "source": [
    "DOMAIN1_FIDDY_ADDRESS = DOMAIN1_FIDDY_ADDRESS.strip()\n",
    "print(DOMAIN1_FIDDY_ADDRESS)"
   ]
  },
  {
   "cell_type": "markdown",
   "id": "ab10bc62-75b5-4b20-91e6-72a9a250ced3",
   "metadata": {},
   "source": [
    "## Fiddy Domain 2 Deployment\n",
    "\n",
    "1. Pick account for deploying FIDDY\n",
    "2. Deploy it\n",
    "3. Grab the address"
   ]
  },
  {
   "cell_type": "code",
   "execution_count": null,
   "id": "24b15fce-4396-4853-aa4d-d366e821bdaf",
   "metadata": {},
   "outputs": [],
   "source": [
    "# PG deployment\n",
    "!cd {exec_home} && DEPLOYER_KEY={domain_2_key} OWNER_ADDRESS={domain_2_acct} forge script script/Token.s.sol:DeployScript --broadcast --rpc-url http://127.0.0.1:8545 --extra-output-files abi --extra-output-files bin\n"
   ]
  },
  {
   "cell_type": "code",
   "execution_count": null,
   "id": "76929450-b1fa-4115-abbc-2da2ae69a170",
   "metadata": {},
   "outputs": [],
   "source": [
    "%%bash -s \"$exec_home\" --out DOMAIN2_FIDDY_ADDRESS\n",
    "cd $1\n",
    "ls\n",
    "node script/deploy-details.js"
   ]
  },
  {
   "cell_type": "code",
   "execution_count": null,
   "id": "53037a22-35d3-4ec0-8837-399a4ce509d7",
   "metadata": {},
   "outputs": [],
   "source": [
    "DOMAIN2_FIDDY_ADDRESS = DOMAIN2_FIDDY_ADDRESS.strip()\n",
    "print(DOMAIN2_FIDDY_ADDRESS)"
   ]
  },
  {
   "cell_type": "markdown",
   "id": "80587993-47be-4403-8f6a-c74d2ea21d9d",
   "metadata": {},
   "source": [
    "## CCTP Set Up - Domain 1\n"
   ]
  },
  {
   "cell_type": "code",
   "execution_count": null,
   "id": "faf144e8-6f75-416c-8142-a60df55ab70d",
   "metadata": {},
   "outputs": [],
   "source": [
    "# Adapted from https://github.com/circlefin/evm-cctp-contracts/blob/master/scripts/precomputeRemoteMessengerAddress.py\n",
    "\n",
    "from web3 import Web3\n",
    "\n",
    "import os\n",
    "import rlp\n",
    "\n",
    "def compute_address(sender, nonce):\n",
    "    \"\"\"\n",
    "    Computes the address for a deployed contract given the address\n",
    "    of the sender and the current nonce.\n",
    "    \"\"\"\n",
    "    sender_as_bytes = Web3.toBytes(hexstr=sender)\n",
    "    contract_address = Web3.toHex(Web3.keccak(rlp.encode([sender_as_bytes, nonce])))[-40:]\n",
    "    return contract_address\n",
    "\n",
    "def precompute_remote_token_messenger_address(remote_rpc_url, remote_deployer):\n",
    "    \"\"\"\n",
    "    Computes expected address for remote token messenger contract on the\n",
    "    input remote_rpc_url\n",
    "    \"\"\"\n",
    "    remote_token_messenger_deployer = remote_deployer\n",
    "    remote_domain_node = Web3(Web3.HTTPProvider(remote_rpc_url))\n",
    "\n",
    "    remote_token_messenger_deployer_nonce =  remote_domain_node.eth.get_transaction_count(remote_token_messenger_deployer)\n",
    "    \n",
    "    remote_token_messenger_address = compute_address(remote_token_messenger_deployer, remote_token_messenger_deployer_nonce)\n",
    "\n",
    "    return remote_token_messenger_address\n",
    "\n"
   ]
  },
  {
   "cell_type": "code",
   "execution_count": null,
   "id": "cdbaee5d-8064-4d55-8897-482dee5c3503",
   "metadata": {},
   "outputs": [],
   "source": [
    "domain2TokenMessengerAddress = precompute_remote_token_messenger_address('http://localhost:8545', domain_2_acct)\n",
    "print(domain2TokenMessengerAddress)"
   ]
  },
  {
   "cell_type": "code",
   "execution_count": null,
   "id": "90a4d801-de8f-4f5b-9908-9dca547a7ee8",
   "metadata": {},
   "outputs": [],
   "source": [
    "home = ! echo $HOME\n",
    "cctp_home = home[0] + '/code/evm-cctp-contracts'\n",
    "print(cctp_home)"
   ]
  },
  {
   "cell_type": "code",
   "execution_count": null,
   "id": "d599f5c3-f687-440d-a6db-4f9c8a277cbd",
   "metadata": {},
   "outputs": [],
   "source": [
    "%%bash -s \"$cctp_home\" \"$domain_1_acct\" \"$domain_1_key\" \"$DOMAIN1_FIDDY_ADDRESS\" \"$DOMAIN2_FIDDY_ADDRESS\" \"$domain2TokenMessengerAddress\" \"$attestor\"\n",
    "\n",
    "cd $1\n",
    "ls $1\n",
    "echo $2\n",
    "export MESSAGE_TRANSMITTER_DEPLOYER_KEY=$3\n",
    "export TOKEN_MESSENGER_DEPLOYER_KEY=$3\n",
    "export TOKEN_MINTER_DEPLOYER_KEY=$3\n",
    "export TOKEN_CONTROLLER_DEPLOYER_KEY=$3\n",
    "export ATTESTER_ADDRESS=$7\n",
    "export USDC_CONTRACT_ADDRESS=$4\n",
    "export TOKEN_CONTROLLER_ADDRESS=$2\n",
    "export BURN_LIMIT_PER_MESSAGE=1000\n",
    "export REMOTE_USDC_CONTRACT_ADDRESS=$5\n",
    "export DOMAIN=1\n",
    "export REMOTE_DOMAIN=2\n",
    "export MESSAGE_TRANSMITTER_PAUSER_ADDRESS=$2\n",
    "export TOKEN_MINTER_PAUSER_ADDRESS=$2\n",
    "export MESSAGE_TRANSMITTER_RESCUER_ADDRESS=$2\n",
    "export TOKEN_MESSENGER_RESCUER_ADDRESS=$2\n",
    "export TOKEN_MINTER_RESCUER_ADDRESS=$2\n",
    "export REMOTE_TOKEN_MESSENGER_ADDRESS=$6\n",
    "\n",
    "\n",
    "make simulate RPC_URL=http://localhost:8545 SENDER=$2"
   ]
  },
  {
   "cell_type": "code",
   "execution_count": null,
   "id": "4b7e11ff-bd35-4384-b328-baf693cce8eb",
   "metadata": {},
   "outputs": [],
   "source": [
    "%%bash -s \"$cctp_home\" \"$domain_1_acct\" \"$domain_1_key\" \"$DOMAIN1_FIDDY_ADDRESS\" \"$DOMAIN2_FIDDY_ADDRESS\" \"$domain2TokenMessengerAddress\" \"$attestor\"\n",
    "\n",
    "cd $1\n",
    "ls $1\n",
    "echo $2\n",
    "export MESSAGE_TRANSMITTER_DEPLOYER_KEY=$3\n",
    "export TOKEN_MESSENGER_DEPLOYER_KEY=$3\n",
    "export TOKEN_MINTER_DEPLOYER_KEY=$3\n",
    "export TOKEN_CONTROLLER_DEPLOYER_KEY=$3\n",
    "export ATTESTER_ADDRESS=$7\n",
    "export USDC_CONTRACT_ADDRESS=$4\n",
    "export TOKEN_CONTROLLER_ADDRESS=$2\n",
    "export BURN_LIMIT_PER_MESSAGE=1000\n",
    "export REMOTE_USDC_CONTRACT_ADDRESS=$5\n",
    "export DOMAIN=1\n",
    "export REMOTE_DOMAIN=2\n",
    "export MESSAGE_TRANSMITTER_PAUSER_ADDRESS=$2\n",
    "export TOKEN_MINTER_PAUSER_ADDRESS=$2\n",
    "export MESSAGE_TRANSMITTER_RESCUER_ADDRESS=$2\n",
    "export TOKEN_MESSENGER_RESCUER_ADDRESS=$2\n",
    "export TOKEN_MINTER_RESCUER_ADDRESS=$2\n",
    "export REMOTE_TOKEN_MESSENGER_ADDRESS=$6\n",
    "\n",
    "\n",
    "make deploy RPC_URL=http://localhost:8545 SENDER=$2\n"
   ]
  },
  {
   "cell_type": "code",
   "execution_count": null,
   "id": "8f0f4826-dc3e-4ef6-b8ac-6da84a9cb0bb",
   "metadata": {},
   "outputs": [],
   "source": [
    "#export CCTPCTX=$HOME/code/evm-cctp-contracts/broadcast/deploy.s.sol/31337/run-latest.json\n",
    "cctp_ctx = home[0] + '/code/evm-cctp-contracts/broadcast/deploy.s.sol/31337/run-latest.json'\n",
    "print(cctp_ctx)"
   ]
  },
  {
   "cell_type": "code",
   "execution_count": null,
   "id": "4b0f18b3-da77-4872-9859-6597d03f2b92",
   "metadata": {},
   "outputs": [],
   "source": [
    "%%bash -s \"$exec_home\" \"$cctp_ctx\" --out CCTP_AGGREGATE\n",
    "cd $1\n",
    "export CCTPCTX=$2\n",
    "ls\n",
    "node script/cctp-details.js"
   ]
  },
  {
   "cell_type": "code",
   "execution_count": null,
   "id": "00a63a1f-b4fd-4fe0-804e-d61281c90473",
   "metadata": {},
   "outputs": [],
   "source": [
    "CCTP_AGGREGATE = CCTP_AGGREGATE.strip()\n",
    "parts = CCTP_AGGREGATE.split(':')\n",
    "print(parts)"
   ]
  },
  {
   "cell_type": "code",
   "execution_count": null,
   "id": "a02b5b70-f988-41f4-8e27-01ab05550fcc",
   "metadata": {},
   "outputs": [],
   "source": [
    "domain1MessageTransmitterAddr = parts[0]\n",
    "domain1TokenMessengerAddr = parts[1]\n",
    "domain1TokenMinterAddr = parts[2]"
   ]
  },
  {
   "cell_type": "code",
   "execution_count": null,
   "id": "95bf409c-c110-42db-bb1b-7b1d4bd6838d",
   "metadata": {},
   "outputs": [],
   "source": [
    "print(f'domain1MessageTransmitterAddr {domain1MessageTransmitterAddr}')\n",
    "print(f'domain1TokenMessengerAddr     {domain1TokenMessengerAddr}')\n",
    "print(f'domain1TokenMinterAddr        {domain1TokenMinterAddr}')"
   ]
  },
  {
   "cell_type": "markdown",
   "id": "f57725cd-ca34-485a-8879-244c8d213849",
   "metadata": {},
   "source": [
    "## CCTP Setup - Domain 2"
   ]
  },
  {
   "cell_type": "code",
   "execution_count": null,
   "id": "578cce73-6054-4269-91b8-c8973f813fd5",
   "metadata": {},
   "outputs": [],
   "source": [
    "%%bash -s \"$cctp_home\" \"$domain_2_acct\" \"$domain_2_key\" \"$DOMAIN2_FIDDY_ADDRESS\" \"$DOMAIN1_FIDDY_ADDRESS\" \"$domain1TokenMessengerAddr\" \"$attestor\"\n",
    "\n",
    "cd $1\n",
    "ls $1\n",
    "echo $2\n",
    "export MESSAGE_TRANSMITTER_DEPLOYER_KEY=$3\n",
    "export TOKEN_MESSENGER_DEPLOYER_KEY=$3\n",
    "export TOKEN_MINTER_DEPLOYER_KEY=$3\n",
    "export TOKEN_CONTROLLER_DEPLOYER_KEY=$3\n",
    "export ATTESTER_ADDRESS=$7\n",
    "export USDC_CONTRACT_ADDRESS=$4\n",
    "export TOKEN_CONTROLLER_ADDRESS=$2\n",
    "export BURN_LIMIT_PER_MESSAGE=1000\n",
    "export REMOTE_USDC_CONTRACT_ADDRESS=$5\n",
    "export DOMAIN=2\n",
    "export REMOTE_DOMAIN=1\n",
    "export MESSAGE_TRANSMITTER_PAUSER_ADDRESS=$2\n",
    "export TOKEN_MINTER_PAUSER_ADDRESS=$2\n",
    "export MESSAGE_TRANSMITTER_RESCUER_ADDRESS=$2\n",
    "export TOKEN_MESSENGER_RESCUER_ADDRESS=$2\n",
    "export TOKEN_MINTER_RESCUER_ADDRESS=$2\n",
    "export REMOTE_TOKEN_MESSENGER_ADDRESS=$6\n",
    "\n",
    "\n",
    "make simulate RPC_URL=http://localhost:8545 SENDER=$2"
   ]
  },
  {
   "cell_type": "code",
   "execution_count": null,
   "id": "3953d2c1-1021-41f0-858a-0c7795d16ab7",
   "metadata": {},
   "outputs": [],
   "source": [
    "%%bash -s \"$cctp_home\" \"$domain_2_acct\" \"$domain_2_key\" \"$DOMAIN2_FIDDY_ADDRESS\" \"$DOMAIN1_FIDDY_ADDRESS\" \"$domain1TokenMessengerAddr\" \"$attestor\"\n",
    "\n",
    "cd $1\n",
    "ls $1\n",
    "echo $2\n",
    "export MESSAGE_TRANSMITTER_DEPLOYER_KEY=$3\n",
    "export TOKEN_MESSENGER_DEPLOYER_KEY=$3\n",
    "export TOKEN_MINTER_DEPLOYER_KEY=$3\n",
    "export TOKEN_CONTROLLER_DEPLOYER_KEY=$3\n",
    "export ATTESTER_ADDRESS=$7\n",
    "export USDC_CONTRACT_ADDRESS=$4\n",
    "export TOKEN_CONTROLLER_ADDRESS=$2\n",
    "export BURN_LIMIT_PER_MESSAGE=1000\n",
    "export REMOTE_USDC_CONTRACT_ADDRESS=$5\n",
    "export DOMAIN=2\n",
    "export REMOTE_DOMAIN=1\n",
    "export MESSAGE_TRANSMITTER_PAUSER_ADDRESS=$2\n",
    "export TOKEN_MINTER_PAUSER_ADDRESS=$2\n",
    "export MESSAGE_TRANSMITTER_RESCUER_ADDRESS=$2\n",
    "export TOKEN_MESSENGER_RESCUER_ADDRESS=$2\n",
    "export TOKEN_MINTER_RESCUER_ADDRESS=$2\n",
    "export REMOTE_TOKEN_MESSENGER_ADDRESS=$6\n",
    "\n",
    "\n",
    "make deploy RPC_URL=http://localhost:8545 SENDER=$2"
   ]
  },
  {
   "cell_type": "code",
   "execution_count": null,
   "id": "443ad417-bf65-4914-86d5-7265fd6ae447",
   "metadata": {},
   "outputs": [],
   "source": [
    "%%bash -s \"$exec_home\" \"$cctp_ctx\" --out CCTP_AGGREGATE\n",
    "cd $1\n",
    "export CCTPCTX=$2\n",
    "ls\n",
    "node script/cctp-details.js"
   ]
  },
  {
   "cell_type": "code",
   "execution_count": null,
   "id": "79ae0d9e-c9ed-46ce-bf3a-ca9353da814b",
   "metadata": {},
   "outputs": [],
   "source": [
    "CCTP_AGGREGATE = CCTP_AGGREGATE.strip()\n",
    "parts = CCTP_AGGREGATE.split(':')\n",
    "print(parts)"
   ]
  },
  {
   "cell_type": "code",
   "execution_count": null,
   "id": "0c8b4db9-5e6a-4c12-9922-1eac3e228b9b",
   "metadata": {},
   "outputs": [],
   "source": [
    "domain2MessageTransmitterAddr = parts[0]\n",
    "domain2TokenMessengerAddr = parts[1]\n",
    "domain2TokenMinterAddr = parts[2]"
   ]
  },
  {
   "cell_type": "code",
   "execution_count": null,
   "id": "314c45eb-344c-43e9-bf5e-3de34b56ade9",
   "metadata": {},
   "outputs": [],
   "source": [
    "print(f'domain2MessageTransmitterAddr { domain2MessageTransmitterAddr }')\n",
    "print(f'domain2TokenMessengerAddr     { domain2TokenMessengerAddr }')\n",
    "print(f'domain2TokenMinterAddr        { domain2TokenMinterAddr }')"
   ]
  },
  {
   "cell_type": "markdown",
   "id": "2f476641-6298-4988-94aa-b2660532ea20",
   "metadata": {},
   "source": [
    "## Fix Token Messenger if Needed\n",
    "\n",
    "***Note - looks like the first contract deployed is Message, which means it won't match the precompute - need to adjust logic***"
   ]
  },
  {
   "cell_type": "code",
   "execution_count": null,
   "id": "1211918d-f632-4ffb-a0f2-bfe4194d92f2",
   "metadata": {},
   "outputs": [],
   "source": [
    "# Did the precompute match the deployment address?\n",
    "print(domain2TokenMessengerAddr)\n",
    "print(domain2TokenMessengerAddress)\n",
    "domain2TokenMessengerAddr == domain2TokenMessengerAddress"
   ]
  },
  {
   "cell_type": "code",
   "execution_count": null,
   "id": "28e5d1c5-f62c-41a2-9ecb-d226e289bc4c",
   "metadata": {},
   "outputs": [],
   "source": [
    "domain2TokenMessAddrBytes32 = bytes.fromhex(domain2TokenMessengerAddr[2:])\n",
    "domain2TokenMessAddrBytes32 =  b'\\0'*12 + domain2TokenMessAddrBytes32\n",
    "print(domain2TokenMessAddrBytes32.hex())"
   ]
  },
  {
   "cell_type": "code",
   "execution_count": null,
   "id": "0c72133b-9274-4824-a61d-cc3abb5ece23",
   "metadata": {},
   "outputs": [],
   "source": [
    "ethTokenMessengerAbiFile = home[0] + '/code/evm-cctp-contracts/out/TokenMessenger.sol/TokenMessenger.json'\n",
    "print(ethTokenMessengerAbiFile)"
   ]
  },
  {
   "cell_type": "code",
   "execution_count": null,
   "id": "7f7c84ba-1360-4425-8891-05fb9b8efaed",
   "metadata": {},
   "outputs": [],
   "source": [
    "tokenMessengerAbiFile = home[0] + '/code/evm-cctp-contracts/out/TokenMessenger.sol/TokenMessenger.json'\n",
    "print(tokenMessengerAbiFile)"
   ]
  },
  {
   "cell_type": "code",
   "execution_count": null,
   "id": "7f8c6695-141a-4ea5-8312-4cecce843506",
   "metadata": {},
   "outputs": [],
   "source": [
    "import json\n",
    "\n",
    "with open(tokenMessengerAbiFile) as f:\n",
    "    tm_json = json.load(f)\n",
    "\n",
    "tokenMessengerAbi = tm_json['abi']"
   ]
  },
  {
   "cell_type": "code",
   "execution_count": null,
   "id": "256fa875-faf8-4592-afac-2f96c043e6dd",
   "metadata": {},
   "outputs": [],
   "source": [
    "print(tokenMessengerAbi)"
   ]
  },
  {
   "cell_type": "code",
   "execution_count": null,
   "id": "92ae85b0-4333-4eed-9b54-533f8281110e",
   "metadata": {},
   "outputs": [],
   "source": [
    "from web3 import Web3\n",
    "w3 = Web3(Web3.HTTPProvider('http://127.0.0.1:8545'))\n",
    "domain1TokenMessenger = w3.eth.contract(address=domain1TokenMessengerAddr, abi=tokenMessengerAbi)"
   ]
  },
  {
   "cell_type": "code",
   "execution_count": null,
   "id": "dcaf8568-995b-4385-ad44-e04eb754c816",
   "metadata": {},
   "outputs": [],
   "source": [
    "domain1TokenMessenger.functions.remoteTokenMessengers(2).call().hex()"
   ]
  },
  {
   "cell_type": "code",
   "execution_count": null,
   "id": "16f59827-9153-4f4d-b9d8-d8a38ceef417",
   "metadata": {},
   "outputs": [],
   "source": [
    "tx = domain1TokenMessenger.functions.removeRemoteTokenMessenger(2).build_transaction({\n",
    "    \"from\":domain_1_acct,\n",
    "    \"nonce\": w3.eth.get_transaction_count(domain_1_acct),\n",
    "})"
   ]
  },
  {
   "cell_type": "code",
   "execution_count": null,
   "id": "fff9ee51-24c9-4af6-874a-ce37ef9f0a9d",
   "metadata": {},
   "outputs": [],
   "source": [
    "signed_tx = w3.eth.account.sign_transaction(tx, domain_1_key)\n",
    "tx_hash = w3.eth.send_raw_transaction(signed_tx.rawTransaction)\n",
    "tx_receipt = w3.eth.wait_for_transaction_receipt(tx_hash)\n",
    "print(tx_receipt)\n",
    "print(f\"Tx successful with hash: { tx_receipt.transactionHash.hex() }\")"
   ]
  },
  {
   "cell_type": "code",
   "execution_count": null,
   "id": "87027448-b065-4a0c-adec-cf01833c3bc5",
   "metadata": {},
   "outputs": [],
   "source": [
    "tx = domain1TokenMessenger.functions.addRemoteTokenMessenger(2, domain2TokenMessAddrBytes32).build_transaction({\n",
    "    \"from\":ACCT0,\n",
    "    \"nonce\": w3.eth.get_transaction_count(domain_1_acct),\n",
    "})"
   ]
  },
  {
   "cell_type": "code",
   "execution_count": null,
   "id": "6e51f9b6-9ba6-49af-a2e3-075ac2859637",
   "metadata": {},
   "outputs": [],
   "source": [
    "signed_tx = w3.eth.account.sign_transaction(tx, domain_1_key)\n",
    "tx_hash = w3.eth.send_raw_transaction(signed_tx.rawTransaction)\n",
    "tx_receipt = w3.eth.wait_for_transaction_receipt(tx_hash)\n",
    "print(tx_receipt)\n",
    "print(f\"Tx successful with hash: { tx_receipt.transactionHash.hex() }\")"
   ]
  },
  {
   "cell_type": "code",
   "execution_count": null,
   "id": "3f67152f-0d86-46f3-aa01-a48a014fcb11",
   "metadata": {},
   "outputs": [],
   "source": [
    "domain1TokenMessenger.functions.remoteTokenMessengers(2).call().hex()"
   ]
  },
  {
   "cell_type": "markdown",
   "id": "4a23882a-a13b-41e1-839e-7eca9f5e3611",
   "metadata": {},
   "source": [
    "## Working with Fiddy and CCTP on Domain 1"
   ]
  },
  {
   "cell_type": "code",
   "execution_count": null,
   "id": "c6e5111a-15a3-4323-add8-4b96275fd762",
   "metadata": {},
   "outputs": [],
   "source": [
    "fiddyAbiFile = home[0] + '/code/cctp-components/out/Token.sol/FiddyCent.json'"
   ]
  },
  {
   "cell_type": "code",
   "execution_count": null,
   "id": "92162157-d49e-4861-b8c1-4c98de3721ca",
   "metadata": {},
   "outputs": [],
   "source": [
    "import json\n",
    "\n",
    "with open(fiddyAbiFile) as f:\n",
    "    fiddy_json = json.load(f)\n",
    "\n",
    "fiddyAbi = fiddy_json['abi']\n"
   ]
  },
  {
   "cell_type": "code",
   "execution_count": null,
   "id": "98b88c42-c81d-43ff-89b7-1511d489202c",
   "metadata": {},
   "outputs": [],
   "source": [
    "domain1Fiddy = w3.eth.contract(address=DOMAIN1_FIDDY_ADDRESS, abi=fiddyAbi)"
   ]
  },
  {
   "cell_type": "code",
   "execution_count": null,
   "id": "98574d3f-61ae-49fd-b038-831c42b49f82",
   "metadata": {},
   "outputs": [],
   "source": []
  },
  {
   "cell_type": "code",
   "execution_count": null,
   "id": "edd1f49d-8793-4d47-a899-29627101c932",
   "metadata": {},
   "outputs": [],
   "source": [
    "# Initial balance\n",
    "domain1Fiddy.functions.balanceOf(ACCT1).call()"
   ]
  },
  {
   "cell_type": "code",
   "execution_count": null,
   "id": "eec1c7d2-1483-492c-b39f-4fbd1c141512",
   "metadata": {},
   "outputs": [],
   "source": [
    "# Transfer some fiddy coin to acct1\n",
    "tx = domain1Fiddy.functions.transfer(ACCT1, 100).build_transaction(\n",
    "    {\n",
    "        \"from\":ACCT0,\n",
    "        \"nonce\": w3.eth.get_transaction_count(ACCT0),\n",
    "    }\n",
    ")"
   ]
  },
  {
   "cell_type": "code",
   "execution_count": null,
   "id": "db602f1e-777c-4dd6-a089-fdf3e9871686",
   "metadata": {},
   "outputs": [],
   "source": [
    "signed_tx = w3.eth.account.sign_transaction(tx, ACCT0KEY)"
   ]
  },
  {
   "cell_type": "code",
   "execution_count": null,
   "id": "971760d4-170a-42e7-ac36-4b283fb83bb6",
   "metadata": {},
   "outputs": [],
   "source": [
    "tx_hash = w3.eth.send_raw_transaction(signed_tx.rawTransaction)\n",
    "tx_receipt = w3.eth.wait_for_transaction_receipt(tx_hash)\n",
    "\n",
    "print(f\"Tx successful with hash: { tx_receipt.transactionHash.hex() }\")"
   ]
  },
  {
   "cell_type": "code",
   "execution_count": null,
   "id": "e412b111-24ac-479c-9a38-e31eb6ec11d2",
   "metadata": {},
   "outputs": [],
   "source": [
    "domain1Fiddy.functions.balanceOf(ACCT1).call()"
   ]
  },
  {
   "cell_type": "code",
   "execution_count": null,
   "id": "096f9669-0d1b-4448-82b7-3f2cd11e0d06",
   "metadata": {},
   "outputs": [],
   "source": [
    "# Check the allowance for ACCT1 on the messenger contract\n",
    "domain1Fiddy.functions.allowance(ACCT1, domain1TokenMessengerAddr).call()"
   ]
  },
  {
   "cell_type": "code",
   "execution_count": null,
   "id": "4c0df835-63da-4fc9-927e-9464ffb91004",
   "metadata": {},
   "outputs": [],
   "source": [
    "# Set an allowance\n",
    "tx = domain1Fiddy.functions.approve(domain1TokenMessengerAddr, 100).build_transaction(\n",
    "    {\n",
    "        \"from\":ACCT1,\n",
    "        \"nonce\": w3.eth.get_transaction_count(ACCT1),\n",
    "    }\n",
    ")"
   ]
  },
  {
   "cell_type": "code",
   "execution_count": null,
   "id": "642951d8-e937-4624-a0e4-c9fe6b6ad62d",
   "metadata": {},
   "outputs": [],
   "source": [
    "signed_tx = w3.eth.account.sign_transaction(tx, ACCT1KEY)\n",
    "tx_hash = w3.eth.send_raw_transaction(signed_tx.rawTransaction)\n",
    "tx_receipt = w3.eth.wait_for_transaction_receipt(tx_hash)\n",
    "\n",
    "print(f\"Tx successful with hash: { tx_receipt.transactionHash.hex() }\")\n",
    "print(f\"New allowance: { domain1Fiddy.functions.allowance(ACCT1, domain1TokenMessengerAddr).call() }\")"
   ]
  },
  {
   "cell_type": "markdown",
   "id": "d3a4c5c6-0d5b-4ddf-9b3f-7872937d6669",
   "metadata": {},
   "source": [
    "## Deposit for Burn - Domain 1 Side"
   ]
  },
  {
   "cell_type": "code",
   "execution_count": null,
   "id": "f959dbed-c4cd-429d-afe6-0e9f587c45fe",
   "metadata": {},
   "outputs": [],
   "source": [
    "domain1TokenMessenger.functions.remoteTokenMessengers(2).call().hex()"
   ]
  },
  {
   "cell_type": "code",
   "execution_count": null,
   "id": "080ac19d-e994-4efc-87b9-46f681eb7c32",
   "metadata": {},
   "outputs": [],
   "source": [
    "# Bytes 32 encoding of recipient\n",
    "domain2MintReceiptientBytes32 = bytes.fromhex(domain_2_mint_recipient[2:])\n",
    "domain2MintReceiptientBytes32 =  b'\\0'*12 + domain2MintReceiptientBytes32\n",
    "print(domain2MintReceiptientBytes32.hex())"
   ]
  },
  {
   "cell_type": "code",
   "execution_count": null,
   "id": "d6c5e530-9ea6-4848-b7dd-a19eb941ab85",
   "metadata": {},
   "outputs": [],
   "source": [
    "# Deposit some coinage for burn - args are amount, destination domain, mint recipient, contract that burns the deposit\n",
    "tx = domain1TokenMessenger.functions.depositForBurn(5, 2, domain2MintReceiptientBytes32, DOMAIN1_FIDDY_ADDRESS).build_transaction(\n",
    "     {\n",
    "        \"from\":ACCT1,\n",
    "        \"nonce\": w3.eth.get_transaction_count(ACCT1),\n",
    "    }\n",
    ")"
   ]
  },
  {
   "cell_type": "code",
   "execution_count": null,
   "id": "0f0290dd-c038-4f8b-b4fc-c986c266e907",
   "metadata": {},
   "outputs": [],
   "source": [
    "signed_tx = w3.eth.account.sign_transaction(tx, ACCT1KEY)\n",
    "tx_hash = w3.eth.send_raw_transaction(signed_tx.rawTransaction)\n",
    "tx_receipt = w3.eth.wait_for_transaction_receipt(tx_hash)\n",
    "print(tx_receipt)\n",
    "print(f\"Tx successful with hash: { tx_receipt.transactionHash.hex() }\")"
   ]
  },
  {
   "cell_type": "code",
   "execution_count": null,
   "id": "dfb255cd-de6e-45a6-be58-618c4020e8fd",
   "metadata": {
    "jupyter": {
     "source_hidden": true
    }
   },
   "outputs": [],
   "source": [
    "domain1Fiddy.functions.balanceOf(ACCT1).call()"
   ]
  },
  {
   "cell_type": "code",
   "execution_count": null,
   "id": "e438b122-1758-4d33-ba21-a5e4767a093b",
   "metadata": {},
   "outputs": [],
   "source": [
    "domain1Fiddy.functions.totalSupply().call()"
   ]
  },
  {
   "cell_type": "markdown",
   "id": "e467c863-82f0-49c9-b4b2-d6027866cbec",
   "metadata": {},
   "source": [
    "## Message Transmitter Events"
   ]
  },
  {
   "cell_type": "code",
   "execution_count": null,
   "id": "6535fb1f-b0a9-4d96-9766-19abca55b8ee",
   "metadata": {},
   "outputs": [],
   "source": [
    "msgTransmitterAbiFile = home[0] + '/code/evm-cctp-contracts/out/MessageTransmitter.sol/MessageTransmitter.json'\n",
    "print(msgTransmitterAbiFile)"
   ]
  },
  {
   "cell_type": "code",
   "execution_count": null,
   "id": "75a24463-21d2-4558-9a66-5e2173dcd372",
   "metadata": {},
   "outputs": [],
   "source": [
    "with open(msgTransmitterAbiFile) as f:\n",
    "    mt_json = json.load(f)\n",
    "\n",
    "msgTransmitterAbi = mt_json['abi']"
   ]
  },
  {
   "cell_type": "code",
   "execution_count": null,
   "id": "83a93053-6350-457d-b57c-5b2932d6cb6b",
   "metadata": {},
   "outputs": [],
   "source": [
    "print(msgTransmitterAbi)"
   ]
  },
  {
   "cell_type": "code",
   "execution_count": null,
   "id": "2197113b-9d3c-4fcc-b0f3-6119259180b4",
   "metadata": {},
   "outputs": [],
   "source": [
    "domain1MessageTransmitter = w3.eth.contract(address=domain1MessageTransmitterAddr, abi=msgTransmitterAbi)"
   ]
  },
  {
   "cell_type": "code",
   "execution_count": null,
   "id": "1d4c7979-b9dc-49dd-a203-52f476184dbc",
   "metadata": {},
   "outputs": [],
   "source": [
    "messageSentEvents = domain1MessageTransmitter.events.MessageSent.getLogs(fromBlock=1)\n",
    "print(messageSentEvents)"
   ]
  },
  {
   "cell_type": "code",
   "execution_count": null,
   "id": "c57558e9-c965-4fa3-a999-25a1ea64d419",
   "metadata": {},
   "outputs": [],
   "source": [
    "len(messageSentEvents)"
   ]
  },
  {
   "cell_type": "code",
   "execution_count": null,
   "id": "58627cd5-11c7-4d4c-9c2e-f5562c79623b",
   "metadata": {},
   "outputs": [],
   "source": [
    "lastMessageSentEvent = messageSentEvents[len(messageSentEvents) - 1]"
   ]
  },
  {
   "cell_type": "code",
   "execution_count": null,
   "id": "3632d48c-c807-4c21-9495-8c564562f040",
   "metadata": {},
   "outputs": [],
   "source": [
    "lastMessageSentEvent"
   ]
  },
  {
   "cell_type": "code",
   "execution_count": null,
   "id": "e6a87a7d-970b-46f9-93a6-b04ce4190fdd",
   "metadata": {},
   "outputs": [],
   "source": [
    "messageSentBytes = lastMessageSentEvent.args.message\n",
    "print(messageSentBytes.hex())"
   ]
  },
  {
   "cell_type": "markdown",
   "id": "951ddc75-5b70-441a-b97b-311d8ea2560e",
   "metadata": {},
   "source": [
    "## Attestation\n",
    "\n"
   ]
  },
  {
   "cell_type": "code",
   "execution_count": null,
   "id": "95327e35-28e4-4dfe-99d9-848868b1ed15",
   "metadata": {},
   "outputs": [],
   "source": [
    "mbHash = Web3.keccak(messageSentBytes)\n",
    "signedHash = w3.eth.account.signHash(mbHash, private_key=attestor_key)"
   ]
  },
  {
   "cell_type": "markdown",
   "id": "e97e6543-6964-4c50-8c5e-d46a735673bc",
   "metadata": {},
   "source": [
    "## Redeem Using Attested Message"
   ]
  },
  {
   "cell_type": "code",
   "execution_count": null,
   "id": "bf96c6b6-a6bb-44f7-86c0-c1504a4c34e7",
   "metadata": {},
   "outputs": [],
   "source": [
    "# To redeem on polygon, we call ReceiveMessage on message transmitter\n",
    "domain2MessageTransmitter = w3.eth.contract(address=domain2MessageTransmitterAddr, abi=msgTransmitterAbi)"
   ]
  },
  {
   "cell_type": "code",
   "execution_count": null,
   "id": "8316bde5-7cf4-49ba-b0e6-517884720343",
   "metadata": {},
   "outputs": [],
   "source": [
    "# Check config\n",
    "print(f'domain 2 transmitter local domain {domain2MessageTransmitter.functions.localDomain().call()}')\n",
    "print(f'domain 2 attestor enabled? {domain2MessageTransmitter.functions.getEnabledAttester(0).call() == attestor}')"
   ]
  },
  {
   "cell_type": "code",
   "execution_count": null,
   "id": "ab3ac74f-90c2-49f8-95da-cf8bec9fd4f7",
   "metadata": {},
   "outputs": [],
   "source": [
    "messageSentBytes.hex()"
   ]
  },
  {
   "cell_type": "code",
   "execution_count": null,
   "id": "cf6512fd-8948-47d1-b405-e2cd35dfe107",
   "metadata": {},
   "outputs": [],
   "source": [
    "domain2TokenMessenger = w3.eth.contract(address=domain2TokenMessengerAddr, abi=tokenMessengerAbi)"
   ]
  },
  {
   "cell_type": "code",
   "execution_count": null,
   "id": "207da8f3-0999-4b71-b77a-a2664d74199e",
   "metadata": {},
   "outputs": [],
   "source": [
    "domain2TokenMessenger.functions.localMinter().call() == domain2TokenMinterAddr"
   ]
  },
  {
   "cell_type": "code",
   "execution_count": null,
   "id": "dd4eaea3-0d44-4456-b13e-625a9aef6b17",
   "metadata": {},
   "outputs": [],
   "source": [
    "\n",
    "# Should fail - not a minter\n",
    "tx = domain2MessageTransmitter.functions.receiveMessage(messageSentBytes,signedHash.signature).build_transaction({\n",
    "    \"from\":domain_2_acct,\n",
    "    \"nonce\": w3.eth.get_transaction_count(domain_2_acct),\n",
    "})"
   ]
  },
  {
   "cell_type": "code",
   "execution_count": null,
   "id": "b1b126b6-a7fa-475d-975a-1bab0db19870",
   "metadata": {},
   "outputs": [],
   "source": [
    "######"
   ]
  },
  {
   "cell_type": "code",
   "execution_count": null,
   "id": "6da7e60c-8fb6-47f7-97c3-adf192d05ac4",
   "metadata": {},
   "outputs": [],
   "source": [
    "domain2Fiddy = w3.eth.contract(address=DOMAIN2_FIDDY_ADDRESS, abi=fiddyAbi)"
   ]
  },
  {
   "cell_type": "code",
   "execution_count": null,
   "id": "68acefb8-4384-4b0c-afe3-8e7fba1c3278",
   "metadata": {},
   "outputs": [],
   "source": [
    "domain2Fiddy.functions.MINTER_ROLE().call()"
   ]
  },
  {
   "cell_type": "code",
   "execution_count": null,
   "id": "c1d84c9a-0008-4b9f-98eb-830d83bf5788",
   "metadata": {},
   "outputs": [],
   "source": [
    "tx = domain2Fiddy.functions.grantRole(domain2Fiddy.functions.MINTER_ROLE().call(),domain2TokenMinterAddr).build_transaction({\n",
    "    \"from\":domain_2_acct,\n",
    "    \"nonce\": w3.eth.get_transaction_count(domain_2_acct),\n",
    "})\n"
   ]
  },
  {
   "cell_type": "code",
   "execution_count": null,
   "id": "bf24dd0a-bf4f-40d8-9dc3-5b1fc0e1c675",
   "metadata": {},
   "outputs": [],
   "source": [
    "signed_tx = w3.eth.account.sign_transaction(tx, domain_2_key)\n",
    "tx_hash = w3.eth.send_raw_transaction(signed_tx.rawTransaction)\n",
    "tx_receipt = w3.eth.wait_for_transaction_receipt(tx_hash)\n",
    "\n",
    "print(f\"Tx successful with hash: { tx_receipt.transactionHash.hex() }\")\n"
   ]
  },
  {
   "cell_type": "code",
   "execution_count": null,
   "id": "eb30a6af-db12-432c-8841-f11b70bcc84d",
   "metadata": {},
   "outputs": [],
   "source": [
    "domain2Fiddy.functions.hasRole(domain2Fiddy.functions.MINTER_ROLE().call(),domain2TokenMinterAddr).call()"
   ]
  },
  {
   "cell_type": "code",
   "execution_count": null,
   "id": "0cef838e-5e37-4c96-a98e-7e294d282c9d",
   "metadata": {},
   "outputs": [],
   "source": [
    "domain2TokenMessenger.functions.localMinter().call()"
   ]
  },
  {
   "cell_type": "code",
   "execution_count": null,
   "id": "edc9de4f-b348-45a9-83a8-0c760eed7462",
   "metadata": {},
   "outputs": [],
   "source": [
    "# Should not throw a role-based exception\n",
    "tx = domain2MessageTransmitter.functions.receiveMessage(messageSentBytes,signedHash.signature).build_transaction({\n",
    "    \"from\":domain_2_acct,\n",
    "    \"nonce\": w3.eth.get_transaction_count(domain_2_acct),\n",
    "})"
   ]
  },
  {
   "cell_type": "code",
   "execution_count": null,
   "id": "a0cfeedf-8433-4419-8c4b-3e8c968ea0e9",
   "metadata": {},
   "outputs": [],
   "source": [
    "signed_tx = w3.eth.account.sign_transaction(tx, domain_2_key)\n",
    "tx_hash = w3.eth.send_raw_transaction(signed_tx.rawTransaction)\n",
    "tx_receipt = w3.eth.wait_for_transaction_receipt(tx_hash)\n",
    "\n",
    "print(f\"Tx successful with hash: { tx_receipt.transactionHash.hex() }\")"
   ]
  },
  {
   "cell_type": "code",
   "execution_count": null,
   "id": "598f2434-0ef2-4c84-a8b8-da6b6d9785d5",
   "metadata": {},
   "outputs": [],
   "source": [
    "domain2Fiddy.events.Transfer.getLogs(fromBlock=1)\n"
   ]
  },
  {
   "cell_type": "code",
   "execution_count": null,
   "id": "dbbb731e-33dc-4307-b2b0-2c0318a3baee",
   "metadata": {},
   "outputs": [],
   "source": [
    "domain2Fiddy.functions.balanceOf(domain_2_mint_recipient).call()"
   ]
  },
  {
   "cell_type": "code",
   "execution_count": null,
   "id": "2264e178-219a-4017-817a-95db56d530fd",
   "metadata": {},
   "outputs": [],
   "source": [
    "print(domain2TokenMinterAddr)"
   ]
  },
  {
   "cell_type": "code",
   "execution_count": null,
   "id": "11d1d1af-e9b1-4a98-ab06-041a34ceb64d",
   "metadata": {},
   "outputs": [],
   "source": [
    "tokenMinterAbiFile = home[0] + '/code/evm-cctp-contracts/out/TokenMinter.sol/TokenMinter.json'\n",
    "print(tokenMinterAbiFile)"
   ]
  },
  {
   "cell_type": "code",
   "execution_count": null,
   "id": "7025ab75-343b-45a4-a29c-3e750314e964",
   "metadata": {},
   "outputs": [],
   "source": [
    "import json\n",
    "\n",
    "with open(tokenMinterAbiFile) as f:\n",
    "    mt_json = json.load(f)\n",
    "\n",
    "tokenMinterAbi = mt_json['abi']"
   ]
  },
  {
   "cell_type": "code",
   "execution_count": null,
   "id": "e834a38c-e7b8-4911-885a-0961a5fe4491",
   "metadata": {},
   "outputs": [],
   "source": [
    "domain2TokenMinter = w3.eth.contract(address=domain2TokenMinterAddr, abi=tokenMinterAbi)"
   ]
  },
  {
   "cell_type": "code",
   "execution_count": null,
   "id": "1dd01f5d-5514-4a45-af68-89043e2a2597",
   "metadata": {},
   "outputs": [],
   "source": [
    "tokenPairLinkedEvents = domain2TokenMinter.events.TokenPairLinked.getLogs(fromBlock=1)\n",
    "print(tokenPairLinkedEvents[0].args.localToken)\n",
    "print(tokenPairLinkedEvents[0].args.remoteDomain)\n",
    "print(tokenPairLinkedEvents[0].args.remoteToken.hex())\n",
    "print(f'local token is domain 2 fiddy? {tokenPairLinkedEvents[0].args.localToken == DOMAIN2_FIDDY_ADDRESS}')"
   ]
  },
  {
   "cell_type": "code",
   "execution_count": null,
   "id": "5b82eebd-1827-45ce-9727-1632bc901259",
   "metadata": {},
   "outputs": [],
   "source": [
    "domain2Fiddy.functions.totalSupply().call()"
   ]
  },
  {
   "cell_type": "markdown",
   "id": "b38f7d35-d251-46f0-a82b-4e7bbe3abf30",
   "metadata": {},
   "source": [
    "## Domain 2 To Domain 1\n",
    "### Fund Account to Burn From, Grant Allowance to Token Messenger"
   ]
  },
  {
   "cell_type": "code",
   "execution_count": null,
   "id": "8dcb310b-6330-402b-9ed9-5f7da98c7401",
   "metadata": {},
   "outputs": [],
   "source": [
    "# Initial balance\n",
    "domain2Fiddy.functions.balanceOf(ACCT1).call()"
   ]
  },
  {
   "cell_type": "code",
   "execution_count": null,
   "id": "4e4989d8-2e53-4583-b794-8f234e5ce6c9",
   "metadata": {},
   "outputs": [],
   "source": [
    "# Transfer some fiddy coin to acct1\n",
    "tx = domain2Fiddy.functions.transfer(ACCT1, 100).build_transaction(\n",
    "    {\n",
    "        \"from\":domain_2_acct,\n",
    "        \"nonce\": w3.eth.get_transaction_count(domain_2_acct),\n",
    "    }\n",
    ")"
   ]
  },
  {
   "cell_type": "code",
   "execution_count": null,
   "id": "3b87459e-9ef5-434c-8a03-89c100b78ece",
   "metadata": {},
   "outputs": [],
   "source": [
    "signed_tx = w3.eth.account.sign_transaction(tx, domain_2_key)"
   ]
  },
  {
   "cell_type": "code",
   "execution_count": null,
   "id": "0488a9b5-23c0-4b3f-83b1-e017e2d34a8b",
   "metadata": {},
   "outputs": [],
   "source": [
    "tx_hash = w3.eth.send_raw_transaction(signed_tx.rawTransaction)\n",
    "tx_receipt = w3.eth.wait_for_transaction_receipt(tx_hash)\n",
    "\n",
    "print(f\"Tx successful with hash: { tx_receipt.transactionHash.hex() }\")"
   ]
  },
  {
   "cell_type": "code",
   "execution_count": null,
   "id": "12ef195a-f146-4fb6-bf44-e48d0c9d7065",
   "metadata": {},
   "outputs": [],
   "source": [
    "domain2Fiddy.functions.balanceOf(ACCT1).call()"
   ]
  },
  {
   "cell_type": "code",
   "execution_count": null,
   "id": "23cffd30-a3b4-4687-928e-8ba3858f7333",
   "metadata": {},
   "outputs": [],
   "source": [
    "# Check the allowance for ACCT1 on the messenger contract\n",
    "domain2Fiddy.functions.allowance(ACCT1, domain1TokenMessengerAddr).call()"
   ]
  },
  {
   "cell_type": "code",
   "execution_count": null,
   "id": "3418a946-21f3-482a-a01a-5f2cd083d186",
   "metadata": {},
   "outputs": [],
   "source": [
    "# Set an allowance\n",
    "tx = domain2Fiddy.functions.approve(domain2TokenMessengerAddr, 100).build_transaction(\n",
    "    {\n",
    "        \"from\":ACCT1,\n",
    "        \"nonce\": w3.eth.get_transaction_count(ACCT1),\n",
    "    }\n",
    ")"
   ]
  },
  {
   "cell_type": "code",
   "execution_count": null,
   "id": "a073def4-beee-41a2-8957-6747b70e806f",
   "metadata": {},
   "outputs": [],
   "source": [
    "signed_tx = w3.eth.account.sign_transaction(tx, ACCT1KEY)\n",
    "tx_hash = w3.eth.send_raw_transaction(signed_tx.rawTransaction)\n",
    "tx_receipt = w3.eth.wait_for_transaction_receipt(tx_hash)\n",
    "\n",
    "print(f\"Tx successful with hash: { tx_receipt.transactionHash.hex() }\")\n",
    "print(f\"New allowance: { domain2Fiddy.functions.allowance(ACCT1, domain2TokenMessengerAddr).call() }\")"
   ]
  },
  {
   "cell_type": "markdown",
   "id": "b253b523-5ba8-4ec3-8682-7acfa1d5a6bc",
   "metadata": {},
   "source": [
    "### Deposit for Burn"
   ]
  },
  {
   "cell_type": "code",
   "execution_count": null,
   "id": "255bfdf1-2844-4757-8096-50cc7e0c372f",
   "metadata": {},
   "outputs": [],
   "source": [
    "# Bytes 32 encoding of recipient\n",
    "domain1MintReceiptientBytes32 = bytes.fromhex(domain_1_mint_recipient[2:])\n",
    "domain1MintReceiptientBytes32 =  b'\\0'*12 + domain1MintReceiptientBytes32\n",
    "print(domain1MintReceiptientBytes32.hex())"
   ]
  },
  {
   "cell_type": "code",
   "execution_count": null,
   "id": "c88a025a-5185-4d3d-a074-6777c3c5481f",
   "metadata": {},
   "outputs": [],
   "source": [
    "# Deposit some coinage for burn - args are amount, destination domain, mint recipient, contract that burns the deposit\n",
    "tx = domain2TokenMessenger.functions.depositForBurn(1, 1, domain1MintReceiptientBytes32, DOMAIN2_FIDDY_ADDRESS).build_transaction(\n",
    "     {\n",
    "        \"from\":ACCT1,\n",
    "        \"nonce\": w3.eth.get_transaction_count(ACCT1),\n",
    "    }\n",
    ")"
   ]
  },
  {
   "cell_type": "code",
   "execution_count": null,
   "id": "b4c0f3db-a661-4f7f-b88d-6911ef6a631a",
   "metadata": {},
   "outputs": [],
   "source": [
    "signed_tx = w3.eth.account.sign_transaction(tx, ACCT1KEY)\n",
    "tx_hash = w3.eth.send_raw_transaction(signed_tx.rawTransaction)\n",
    "tx_receipt = w3.eth.wait_for_transaction_receipt(tx_hash)\n",
    "print(tx_receipt)\n",
    "print(f\"Tx successful with hash: { tx_receipt.transactionHash.hex() }\")"
   ]
  },
  {
   "cell_type": "code",
   "execution_count": null,
   "id": "2ead1461-fd98-421b-a011-8ee545528e45",
   "metadata": {},
   "outputs": [],
   "source": [
    "domain2Fiddy.functions.balanceOf(ACCT1).call()"
   ]
  },
  {
   "cell_type": "code",
   "execution_count": null,
   "id": "409cd41a-2717-4d04-ae0f-029a674a0c77",
   "metadata": {},
   "outputs": [],
   "source": [
    "domain2Fiddy.functions.totalSupply().call()"
   ]
  },
  {
   "cell_type": "markdown",
   "id": "ef6ce394-e6d8-4970-be21-0d268f204071",
   "metadata": {},
   "source": [
    "### Get MessageSent Bytes from Log Emissions"
   ]
  },
  {
   "cell_type": "code",
   "execution_count": null,
   "id": "8474e145-cbc5-40d8-b9c4-092e39d3b31e",
   "metadata": {},
   "outputs": [],
   "source": [
    "domain2MessageTransmitter = w3.eth.contract(address=domain2MessageTransmitterAddr, abi=msgTransmitterAbi)"
   ]
  },
  {
   "cell_type": "code",
   "execution_count": null,
   "id": "6347c68c-c854-4478-ad4c-71c2385337c3",
   "metadata": {},
   "outputs": [],
   "source": [
    "messageSentEvents = domain2MessageTransmitter.events.MessageSent.getLogs(fromBlock=1)\n",
    "print(messageSentEvents)"
   ]
  },
  {
   "cell_type": "code",
   "execution_count": null,
   "id": "702a106e-6562-4765-a594-f0e01149c8ad",
   "metadata": {
    "scrolled": true
   },
   "outputs": [],
   "source": [
    "lastMessageSentEvent = messageSentEvents[len(messageSentEvents) - 1]"
   ]
  },
  {
   "cell_type": "code",
   "execution_count": null,
   "id": "593d0654-742f-43a1-b09d-aa9a990c826b",
   "metadata": {},
   "outputs": [],
   "source": [
    "messageSentBytes = lastMessageSentEvent.args.message\n",
    "print(messageSentBytes.hex())"
   ]
  },
  {
   "cell_type": "markdown",
   "id": "a056c9d7-b2ef-488a-afb4-fa36aeb62a22",
   "metadata": {},
   "source": [
    "### Attestation"
   ]
  },
  {
   "cell_type": "code",
   "execution_count": null,
   "id": "13b89565-1753-487a-9b63-05e61115e193",
   "metadata": {},
   "outputs": [],
   "source": [
    "mbHash = Web3.keccak(messageSentBytes)\n",
    "signedHash = w3.eth.account.signHash(mbHash, private_key=attestor_key)"
   ]
  },
  {
   "cell_type": "markdown",
   "id": "1612a6e1-68e7-43e1-87a8-482f8be0290a",
   "metadata": {},
   "source": [
    "### Redeem in Domain 1"
   ]
  },
  {
   "cell_type": "code",
   "execution_count": null,
   "id": "c74767a5-8ef0-4fbb-bf47-d7b29d34733a",
   "metadata": {},
   "outputs": [],
   "source": [
    "# To redeem on polygon, we call ReceiveMessage on message transmitter\n",
    "domain1MessageTransmitter = w3.eth.contract(address=domain1MessageTransmitterAddr, abi=msgTransmitterAbi)"
   ]
  },
  {
   "cell_type": "code",
   "execution_count": null,
   "id": "c7526fd2-16e1-4590-9ddf-c83ebdc0f633",
   "metadata": {},
   "outputs": [],
   "source": [
    "# Check config\n",
    "print(f'domain 1 transmitter local domain {domain1MessageTransmitter.functions.localDomain().call()}')\n",
    "print(f'domain 1 attestor enabled? {domain1MessageTransmitter.functions.getEnabledAttester(0).call() == attestor}')"
   ]
  },
  {
   "cell_type": "code",
   "execution_count": null,
   "id": "af9f3214-0104-4cf8-850f-3c9fd387dc5a",
   "metadata": {},
   "outputs": [],
   "source": [
    "domain1TokenMessenger = w3.eth.contract(address=domain1TokenMessengerAddr, abi=tokenMessengerAbi)"
   ]
  },
  {
   "cell_type": "code",
   "execution_count": null,
   "id": "2867d77e-4f55-454b-9205-90399456d339",
   "metadata": {},
   "outputs": [],
   "source": [
    "domain1TokenMessenger.functions.localMinter().call() == domain1TokenMinterAddr"
   ]
  },
  {
   "cell_type": "code",
   "execution_count": null,
   "id": "f8660873-d471-4682-8033-c69f61b0cfaa",
   "metadata": {},
   "outputs": [],
   "source": [
    "\n",
    "# Should fail - not a minter\n",
    "tx = domain1MessageTransmitter.functions.receiveMessage(messageSentBytes,signedHash.signature).build_transaction({\n",
    "    \"from\":domain_1_acct,\n",
    "    \"nonce\": w3.eth.get_transaction_count(domain_1_acct),\n",
    "})"
   ]
  },
  {
   "cell_type": "code",
   "execution_count": null,
   "id": "5cfa4548-975b-4e45-b4a6-2e3a7b500887",
   "metadata": {},
   "outputs": [],
   "source": [
    "domain1Fiddy = w3.eth.contract(address=DOMAIN1_FIDDY_ADDRESS, abi=fiddyAbi)"
   ]
  },
  {
   "cell_type": "code",
   "execution_count": null,
   "id": "49289268-459c-494b-93af-87379d728fd1",
   "metadata": {},
   "outputs": [],
   "source": [
    "domain1Fiddy.functions.MINTER_ROLE().call()"
   ]
  },
  {
   "cell_type": "code",
   "execution_count": null,
   "id": "37912a6a-38a1-4d34-a799-f0bdc25e0b54",
   "metadata": {},
   "outputs": [],
   "source": [
    "tx = domain1Fiddy.functions.grantRole(domain1Fiddy.functions.MINTER_ROLE().call(),domain1TokenMinterAddr).build_transaction({\n",
    "    \"from\":domain_1_acct,\n",
    "    \"nonce\": w3.eth.get_transaction_count(domain_1_acct),\n",
    "})\n"
   ]
  },
  {
   "cell_type": "code",
   "execution_count": null,
   "id": "3a5ed6aa-f671-463c-846f-8c1d0d695a8e",
   "metadata": {},
   "outputs": [],
   "source": [
    "signed_tx = w3.eth.account.sign_transaction(tx, domain_1_key)\n",
    "tx_hash = w3.eth.send_raw_transaction(signed_tx.rawTransaction)\n",
    "tx_receipt = w3.eth.wait_for_transaction_receipt(tx_hash)\n",
    "\n",
    "print(f\"Tx successful with hash: { tx_receipt.transactionHash.hex() }\")\n"
   ]
  },
  {
   "cell_type": "code",
   "execution_count": null,
   "id": "cd0e570a-4b90-438b-965d-92cf5ffd64aa",
   "metadata": {},
   "outputs": [],
   "source": [
    "domain1Fiddy.functions.hasRole(domain1Fiddy.functions.MINTER_ROLE().call(),domain1TokenMinterAddr).call()"
   ]
  },
  {
   "cell_type": "code",
   "execution_count": null,
   "id": "7e6250d9-1039-4302-9e2c-05ebecf024ea",
   "metadata": {},
   "outputs": [],
   "source": [
    "domain1TokenMessenger.functions.localMinter().call()"
   ]
  },
  {
   "cell_type": "code",
   "execution_count": null,
   "id": "3459f3dc-2522-4e5e-8b2c-7d8f043d211b",
   "metadata": {},
   "outputs": [],
   "source": [
    "# Should not throw a role-based exception\n",
    "tx = domain1MessageTransmitter.functions.receiveMessage(messageSentBytes,signedHash.signature).build_transaction({\n",
    "    \"from\":domain_1_acct,\n",
    "    \"nonce\": w3.eth.get_transaction_count(domain_1_acct),\n",
    "})"
   ]
  },
  {
   "cell_type": "code",
   "execution_count": null,
   "id": "4e50c5a3-cf44-4fa4-87fe-e104bc4baa76",
   "metadata": {},
   "outputs": [],
   "source": [
    "signed_tx = w3.eth.account.sign_transaction(tx, domain_1_key)\n",
    "tx_hash = w3.eth.send_raw_transaction(signed_tx.rawTransaction)\n",
    "tx_receipt = w3.eth.wait_for_transaction_receipt(tx_hash)\n",
    "\n",
    "print(f\"Tx successful with hash: { tx_receipt.transactionHash.hex() }\")"
   ]
  },
  {
   "cell_type": "code",
   "execution_count": null,
   "id": "ae2ccc89-2e28-4165-87d2-e626392d4f55",
   "metadata": {},
   "outputs": [],
   "source": [
    "domain1Fiddy.events.Transfer.getLogs(fromBlock=1)\n"
   ]
  },
  {
   "cell_type": "code",
   "execution_count": null,
   "id": "6af5eb30-ba3a-4487-be95-bcc5e2ac0dc7",
   "metadata": {},
   "outputs": [],
   "source": [
    "domain1Fiddy.functions.balanceOf(domain_1_mint_recipient).call()"
   ]
  },
  {
   "cell_type": "code",
   "execution_count": null,
   "id": "caab42fb-ab24-4822-ae95-77e991c92f4a",
   "metadata": {},
   "outputs": [],
   "source": [
    "domain1Fiddy.functions.totalSupply().call()"
   ]
  }
 ],
 "metadata": {
  "kernelspec": {
   "display_name": "Python 3 (ipykernel)",
   "language": "python",
   "name": "python3"
  },
  "language_info": {
   "codemirror_mode": {
    "name": "ipython",
    "version": 3
   },
   "file_extension": ".py",
   "mimetype": "text/x-python",
   "name": "python",
   "nbconvert_exporter": "python",
   "pygments_lexer": "ipython3",
   "version": "3.8.10"
  }
 },
 "nbformat": 4,
 "nbformat_minor": 5
}
