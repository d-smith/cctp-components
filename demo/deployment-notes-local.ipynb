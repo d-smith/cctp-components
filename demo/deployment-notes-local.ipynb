{
 "cells": [
  {
   "cell_type": "markdown",
   "id": "eaaf3272-ecfa-433b-a2c7-5b25ea8933c4",
   "metadata": {},
   "source": [
    "## Deployment\n",
    "\n",
    "Deployment notes and scripts\n",
    "\n",
    "Prior to starting Jupyter be sure node js is avaiable - set it via nvm if needed.\n",
    "\n",
    "NOTE: This copy of the book deploys two domains to the same test net. This is done to troubleshoot the set up prior to two chain deployment."
   ]
  },
  {
   "cell_type": "code",
   "execution_count": 2,
   "id": "4df8ac36-d0d0-495e-9d2c-dfe73c66ece6",
   "metadata": {},
   "outputs": [],
   "source": [
    "# Eth test account addresses\n",
    "ACCT0='0x892BB2e4F6b14a2B5b82Ba8d33E5925D42D4431F'\n",
    "ACCT1='0x9949f7e672a568bB3EBEB777D5e8D1c1107e96E5'\n",
    "ACCT2='0x835F0Aa692b8eBCdEa8E64742e5Bce30303669c2'\n",
    "ACCT3='0x7bA7d161F9E8B707694f434d65c218a1F0853B1C'\n",
    "ACCT4='0xB4C3D79CDC0eb7A8576a8bf224Bbc6Bec790c320'\n",
    "ACCT5='0x5Ad35F89D8C1d03089BDe2578Ce43883E3f2A7B0'\n",
    "ACCT6='0x0234643975F308b76d1241897e7d70b02C155daa'\n",
    "ACCT7='0x5199524B11e801c52161CA76dB9BFD72f4a4E1E1'\n",
    "ACCT8='0x549381D65fe61046911d11743D5c0941Ed704640'\n",
    "ACCT9='0x73dA1eD554De26C467d97ADE090af6d52851745E'"
   ]
  },
  {
   "cell_type": "code",
   "execution_count": 3,
   "id": "55e1ab4c-709e-4eae-99aa-002e3add710b",
   "metadata": {},
   "outputs": [],
   "source": [
    "# Eth test account private keys\n",
    "ACCT0KEY='0xcb1a18dff8cfcee16202bf86f1f89f8b3881107b8192cd06836fda9dbc0fde1b'\n",
    "ACCT1KEY='0xa54f24f80839b659fc44fbb19492507bc734ea572f6f5672787cd8e9a198bf28'\n",
    "ACCT2KEY='0x824f9e081f93102ca26e9e696bb6804079a5e4e3fca3a05216e2b6e0538fcab9'\n",
    "ACCT3KEY='0x3e56e9b2db8389123a03816c37dd4515e07077483fbe865156a2d8f6003b6725'\n",
    "ACCT4KEY='0xca55c5904f97405816f8d24c5e7810aaec2aa347ea0e1f920f19eca05669ae7b'\n",
    "ACCT5KEY='0x6100006a16d6a0fd065f62165e64d412920afd0e8fc59956ad7a9116e363b72e'\n",
    "ACCT6KEY='0x55b0e7919eb08e618dbddf025341094eefc0db60244736c1faac1412d68868f3'\n",
    "ACCT7KEY='0x81b475051c4686cffe815e50216a9bac397c0e5d9108170823b290d41823fa8a'\n",
    "ACCT8KEY='0xc3599ced1484dc8eccbb477cf8c318ca48ef1f2aac81a10a3774fe40d3b678de'\n",
    "ACCT9KEY='0xf9832eeac47db42efeb2eca01e6479bfde00fda8fdd0624d45efd0e4b9ddcd3b'"
   ]
  },
  {
   "cell_type": "code",
   "execution_count": 4,
   "id": "6dbd06f9-80fb-4cd8-8680-785c87a1387d",
   "metadata": {},
   "outputs": [],
   "source": [
    "domain_1_acct = ACCT0\n",
    "domain_1_key = ACCT0KEY\n",
    "\n",
    "domain_2_acct = ACCT9\n",
    "domain_2_key = ACCT9KEY\n",
    "\n",
    "domain_2_mint_recipient = ACCT4\n",
    "domain_2_mint_recipient_key = ACCT4KEY\n",
    "\n",
    "attestor = ACCT8\n",
    "attestor_key = ACCT8KEY"
   ]
  },
  {
   "cell_type": "code",
   "execution_count": 5,
   "id": "d91c46b8-9f81-43cd-9066-10c6d42c4096",
   "metadata": {},
   "outputs": [
    {
     "name": "stdout",
     "output_type": "stream",
     "text": [
      "0x892BB2e4F6b14a2B5b82Ba8d33E5925D42D4431F\n"
     ]
    }
   ],
   "source": [
    "print(domain_1_acct)"
   ]
  },
  {
   "cell_type": "markdown",
   "id": "d962f84a-750a-4133-9308-d8fef594a180",
   "metadata": {},
   "source": [
    "## Fiddy Deployment - Domain 1\n",
    "\n",
    "1. Pick account for deploying FIDDY\n",
    "2. Deploy it\n",
    "3. Grab the address\n",
    "\n",
    "\n",
    "\n",
    "\n",
    "\n",
    "\n",
    "\n"
   ]
  },
  {
   "cell_type": "code",
   "execution_count": 6,
   "id": "72beba41-84b1-4bc9-a280-61f1a11e2fb2",
   "metadata": {},
   "outputs": [
    {
     "name": "stdout",
     "output_type": "stream",
     "text": [
      "/home/dsmith/code/cctp-components\n"
     ]
    }
   ],
   "source": [
    "home = ! echo $HOME\n",
    "exec_home = home[0] + '/code/cctp-components'\n",
    "print(exec_home)"
   ]
  },
  {
   "cell_type": "code",
   "execution_count": 7,
   "id": "47bf5a9d-39c1-4c8a-b5f0-335c6b1b9501",
   "metadata": {
    "scrolled": true
   },
   "outputs": [
    {
     "name": "stdout",
     "output_type": "stream",
     "text": [
      "\u001b[1m[\u001b[32m⠒\u001b[0m]\u001b[0m Compiling...\n",
      "No files changed, compilation skipped\n",
      "\u001b[32mScript ran successfully.\u001b[0m\n",
      "\u001b[33m\n",
      "EIP-3855 is not supported in one or more of the RPCs used.\n",
      "Unsupported Chain IDs: 31337.\n",
      "Contracts deployed with a Solidity version equal or higher than 0.8.20 might not work properly.\n",
      "For more information, please see https://eips.ethereum.org/EIPS/eip-3855\u001b[0m\n",
      "\n",
      "## Setting up (1) EVMs.\n",
      "\n",
      "==========================\n",
      "\n",
      "Chain 31337\n",
      "\n",
      "Estimated gas price: 3.000005734 gwei\n",
      "\n",
      "Estimated total gas used for script: 1308258\n",
      "\n",
      "Estimated amount required: 0.003924781501551372 ETH\n",
      "\n",
      "==========================\n",
      "\n",
      "###\n",
      "Finding wallets for all the necessary addresses...\n",
      "##\n",
      "Sending transactions [0 - 0].\n",
      "\u001b[32m⠁\u001b[0m [00:00:00] [\u001b[36m#################################################\u001b[34m\u001b[0m\u001b[0m] 1/1 txes (0.0s)\n",
      "Transactions saved to: /home/dsmith/code/cctp-components/broadcast/Token.s.sol/31337/run-latest.json\n",
      "\n",
      "Sensitive values saved to: /home/dsmith/code/cctp-components/cache/Token.s.sol/31337/run-latest.json\n",
      "\n",
      "##\n",
      "Waiting for receipts.\n",
      "\u001b[2K\u001b[32m⠉\u001b[0m [00:00:00] [\u001b[36m#############################################\u001b[34m\u001b[0m\u001b[0m] 1/1 receipts (0.0s)\n",
      "##### anvil-hardhat\n",
      "✅  [Success]Hash: 0xe5b1476004e1afd672f8ae66e0d09192af5aa6d6a96043b87296824e05c1b77d\n",
      "Contract Address: 0x13B2DC341d5Ce2F9FF32c7e8aeFAe96ff2A35998\n",
      "Block: 102\n",
      "Paid: 0.003019061527958736 ETH (1006353 gas * 3.000002512 gwei)\n",
      "\n",
      "\u001b[2K\n",
      "Transactions saved to: /home/dsmith/code/cctp-components/broadcast/Token.s.sol/31337/run-latest.json\n",
      "\n",
      "Sensitive values saved to: /home/dsmith/code/cctp-components/cache/Token.s.sol/31337/run-latest.json\n",
      "\n",
      "\u001b[2K\n",
      "\n",
      "==========================\n",
      "\n",
      "ONCHAIN EXECUTION COMPLETE & SUCCESSFUL.\n",
      "Total Paid: 0.003019061527958736 ETH (1006353 gas * avg 3.000002512 gwei)\n",
      "\n",
      "Transactions saved to: /home/dsmith/code/cctp-components/broadcast/Token.s.sol/31337/run-latest.json\n",
      "\n",
      "Sensitive values saved to: /home/dsmith/code/cctp-components/cache/Token.s.sol/31337/run-latest.json\n",
      "\n"
     ]
    }
   ],
   "source": [
    "# Fiddy deployment\n",
    "!cd {exec_home} && DEPLOYER_KEY={domain_1_key} OWNER_ADDRESS={domain_1_acct} forge script script/Token.s.sol:DeployScript --broadcast --rpc-url http://127.0.0.1:8545 --extra-output-files abi --extra-output-files bin\n"
   ]
  },
  {
   "cell_type": "code",
   "execution_count": 8,
   "id": "2e0f787e-b8da-4b5a-8aae-8301d9d2e0bf",
   "metadata": {},
   "outputs": [],
   "source": [
    "%%bash -s \"$exec_home\" --out DOMAIN1_FIDDY_ADDRESS\n",
    "cd $1\n",
    "ls\n",
    "node script/deploy-details.js"
   ]
  },
  {
   "cell_type": "code",
   "execution_count": 9,
   "id": "1393e98e-fad7-4c79-8dc9-3b1434568c32",
   "metadata": {},
   "outputs": [
    {
     "name": "stdout",
     "output_type": "stream",
     "text": [
      "0x13B2DC341d5Ce2F9FF32c7e8aeFAe96ff2A35998\n"
     ]
    }
   ],
   "source": [
    "DOMAIN1_FIDDY_ADDRESS = DOMAIN1_FIDDY_ADDRESS.strip()\n",
    "print(DOMAIN1_FIDDY_ADDRESS)"
   ]
  },
  {
   "cell_type": "markdown",
   "id": "ab10bc62-75b5-4b20-91e6-72a9a250ced3",
   "metadata": {},
   "source": [
    "## Fiddy Domain 2 Deployment\n",
    "\n",
    "1. Pick account for deploying FIDDY\n",
    "2. Deploy it\n",
    "3. Grab the address"
   ]
  },
  {
   "cell_type": "code",
   "execution_count": 10,
   "id": "24b15fce-4396-4853-aa4d-d366e821bdaf",
   "metadata": {},
   "outputs": [
    {
     "name": "stdout",
     "output_type": "stream",
     "text": [
      "\u001b[1m[\u001b[32m⠃\u001b[0m]\u001b[0m Compiling...\n",
      "No files changed, compilation skipped\n",
      "\u001b[32mScript ran successfully.\u001b[0m\n",
      "\u001b[33m\n",
      "EIP-3855 is not supported in one or more of the RPCs used.\n",
      "Unsupported Chain IDs: 31337.\n",
      "Contracts deployed with a Solidity version equal or higher than 0.8.20 might not work properly.\n",
      "For more information, please see https://eips.ethereum.org/EIPS/eip-3855\u001b[0m\n",
      "\n",
      "## Setting up (1) EVMs.\n",
      "\n",
      "==========================\n",
      "\n",
      "Chain 31337\n",
      "\n",
      "Estimated gas price: 3.000005024 gwei\n",
      "\n",
      "Estimated total gas used for script: 1308258\n",
      "\n",
      "Estimated amount required: 0.003924780572688192 ETH\n",
      "\n",
      "==========================\n",
      "\n",
      "###\n",
      "Finding wallets for all the necessary addresses...\n",
      "##\n",
      "Sending transactions [0 - 0].\n",
      "\u001b[32m⠁\u001b[0m [00:00:00] [\u001b[36m#################################################\u001b[34m\u001b[0m\u001b[0m] 1/1 txes (0.0s)\n",
      "Transactions saved to: /home/dsmith/code/cctp-components/broadcast/Token.s.sol/31337/run-latest.json\n",
      "\n",
      "Sensitive values saved to: /home/dsmith/code/cctp-components/cache/Token.s.sol/31337/run-latest.json\n",
      "\n",
      "##\n",
      "Waiting for receipts.\n",
      "\u001b[2K\u001b[32m⠉\u001b[0m [00:00:00] [\u001b[36m#############################################\u001b[34m\u001b[0m\u001b[0m] 1/1 receipts (0.0s)\n",
      "##### anvil-hardhat\n",
      "✅  [Success]Hash: 0x90facea376826eb3379a5998e55b4dbc6f66f068f44cb8997cbfeba505a48afc\n",
      "Contract Address: 0xdb821F1762df70db9A6E319cE93359Cb10b865d3\n",
      "Block: 103\n",
      "Paid: 0.00301906123410366 ETH (1006353 gas * 3.00000222 gwei)\n",
      "\n",
      "\u001b[2K\n",
      "Transactions saved to: /home/dsmith/code/cctp-components/broadcast/Token.s.sol/31337/run-latest.json\n",
      "\n",
      "Sensitive values saved to: /home/dsmith/code/cctp-components/cache/Token.s.sol/31337/run-latest.json\n",
      "\n",
      "\u001b[2K\n",
      "\n",
      "==========================\n",
      "\n",
      "ONCHAIN EXECUTION COMPLETE & SUCCESSFUL.\n",
      "Total Paid: 0.00301906123410366 ETH (1006353 gas * avg 3.00000222 gwei)\n",
      "\n",
      "Transactions saved to: /home/dsmith/code/cctp-components/broadcast/Token.s.sol/31337/run-latest.json\n",
      "\n",
      "Sensitive values saved to: /home/dsmith/code/cctp-components/cache/Token.s.sol/31337/run-latest.json\n",
      "\n"
     ]
    }
   ],
   "source": [
    "# PG deployment\n",
    "!cd {exec_home} && DEPLOYER_KEY={domain_2_key} OWNER_ADDRESS={domain_2_acct} forge script script/Token.s.sol:DeployScript --broadcast --rpc-url http://127.0.0.1:8545 --extra-output-files abi --extra-output-files bin\n"
   ]
  },
  {
   "cell_type": "code",
   "execution_count": 11,
   "id": "76929450-b1fa-4115-abbc-2da2ae69a170",
   "metadata": {},
   "outputs": [],
   "source": [
    "%%bash -s \"$exec_home\" --out DOMAIN2_FIDDY_ADDRESS\n",
    "cd $1\n",
    "ls\n",
    "node script/deploy-details.js"
   ]
  },
  {
   "cell_type": "code",
   "execution_count": 12,
   "id": "53037a22-35d3-4ec0-8837-399a4ce509d7",
   "metadata": {},
   "outputs": [
    {
     "name": "stdout",
     "output_type": "stream",
     "text": [
      "0xdb821F1762df70db9A6E319cE93359Cb10b865d3\n"
     ]
    }
   ],
   "source": [
    "DOMAIN2_FIDDY_ADDRESS = DOMAIN2_FIDDY_ADDRESS.strip()\n",
    "print(DOMAIN2_FIDDY_ADDRESS)"
   ]
  },
  {
   "cell_type": "markdown",
   "id": "80587993-47be-4403-8f6a-c74d2ea21d9d",
   "metadata": {},
   "source": [
    "## CCTP Set Up - Domain 1\n"
   ]
  },
  {
   "cell_type": "code",
   "execution_count": 13,
   "id": "faf144e8-6f75-416c-8142-a60df55ab70d",
   "metadata": {},
   "outputs": [
    {
     "name": "stderr",
     "output_type": "stream",
     "text": [
      "/usr/lib/python3/dist-packages/requests/__init__.py:89: RequestsDependencyWarning: urllib3 (1.26.11) or chardet (3.0.4) doesn't match a supported version!\n",
      "  warnings.warn(\"urllib3 ({}) or chardet ({}) doesn't match a supported \"\n"
     ]
    }
   ],
   "source": [
    "# Adapted from https://github.com/circlefin/evm-cctp-contracts/blob/master/scripts/precomputeRemoteMessengerAddress.py\n",
    "\n",
    "from web3 import Web3\n",
    "\n",
    "import os\n",
    "import rlp\n",
    "\n",
    "def compute_address(sender, nonce):\n",
    "    \"\"\"\n",
    "    Computes the address for a deployed contract given the address\n",
    "    of the sender and the current nonce.\n",
    "    \"\"\"\n",
    "    sender_as_bytes = Web3.toBytes(hexstr=sender)\n",
    "    contract_address = Web3.toHex(Web3.keccak(rlp.encode([sender_as_bytes, nonce])))[-40:]\n",
    "    return contract_address\n",
    "\n",
    "def precompute_remote_token_messenger_address(remote_rpc_url, remote_deployer):\n",
    "    \"\"\"\n",
    "    Computes expected address for remote token messenger contract on the\n",
    "    input remote_rpc_url\n",
    "    \"\"\"\n",
    "    remote_token_messenger_deployer = remote_deployer\n",
    "    remote_domain_node = Web3(Web3.HTTPProvider(remote_rpc_url))\n",
    "\n",
    "    remote_token_messenger_deployer_nonce =  remote_domain_node.eth.get_transaction_count(remote_token_messenger_deployer)\n",
    "    \n",
    "    remote_token_messenger_address = compute_address(remote_token_messenger_deployer, remote_token_messenger_deployer_nonce)\n",
    "\n",
    "    return remote_token_messenger_address\n",
    "\n"
   ]
  },
  {
   "cell_type": "code",
   "execution_count": 14,
   "id": "cdbaee5d-8064-4d55-8897-482dee5c3503",
   "metadata": {},
   "outputs": [
    {
     "name": "stdout",
     "output_type": "stream",
     "text": [
      "71ed4a559c87f6d650a00744b5ccd9687153029a\n"
     ]
    }
   ],
   "source": [
    "domain2TokenMessengerAddress = precompute_remote_token_messenger_address('http://localhost:8545', domain_2_acct)\n",
    "print(domain2TokenMessengerAddress)"
   ]
  },
  {
   "cell_type": "code",
   "execution_count": 15,
   "id": "90a4d801-de8f-4f5b-9908-9dca547a7ee8",
   "metadata": {},
   "outputs": [
    {
     "name": "stdout",
     "output_type": "stream",
     "text": [
      "/home/dsmith/code/evm-cctp-contracts\n"
     ]
    }
   ],
   "source": [
    "home = ! echo $HOME\n",
    "cctp_home = home[0] + '/code/evm-cctp-contracts'\n",
    "print(cctp_home)"
   ]
  },
  {
   "cell_type": "code",
   "execution_count": 16,
   "id": "d599f5c3-f687-440d-a6db-4f9c8a277cbd",
   "metadata": {},
   "outputs": [
    {
     "name": "stdout",
     "output_type": "stream",
     "text": [
      "Dockerfile\n",
      "LICENSE\n",
      "Makefile\n",
      "NOTICES\n",
      "README.md\n",
      "anvil\n",
      "broadcast\n",
      "cache\n",
      "docs\n",
      "foundry.toml\n",
      "lib\n",
      "out\n",
      "package.json\n",
      "pictures\n",
      "remappings.txt\n",
      "requirements.txt\n",
      "scripts\n",
      "slither.config.json\n",
      "src\n",
      "test\n",
      "yarn.lock\n",
      "0x892BB2e4F6b14a2B5b82Ba8d33E5925D42D4431F\n",
      "forge script scripts/deploy.s.sol:DeployScript --rpc-url http://localhost:8545 --sender 0x892BB2e4F6b14a2B5b82Ba8d33E5925D42D4431F\n",
      "Nothing to compile\n",
      "\u001b[32mScript ran successfully.\u001b[0m\n",
      "\u001b[33m\n",
      "EIP-3855 is not supported in one or more of the RPCs used.\n",
      "Unsupported Chain IDs: 31337.\n",
      "Contracts deployed with a Solidity version equal or higher than 0.8.20 might not work properly.\n",
      "For more information, please see https://eips.ethereum.org/EIPS/eip-3855\u001b[0m\n"
     ]
    },
    {
     "name": "stderr",
     "output_type": "stream",
     "text": [
      "\n",
      "## Setting up (1) EVMs.\n"
     ]
    },
    {
     "name": "stdout",
     "output_type": "stream",
     "text": [
      "\n",
      "==========================\n",
      "\n",
      "Chain 31337\n",
      "\n",
      "Estimated gas price: 3.00000444 gwei\n",
      "\n",
      "Estimated total gas used for script: 12236923\n",
      "\n",
      "Estimated amount required: 0.03671082333193812 ETH\n",
      "\n",
      "==========================\n",
      "\n",
      "SIMULATION COMPLETE. To broadcast these transactions, add --broadcast and wallet configuration(s) to the previous command. See forge script --help for more.\n",
      "\n",
      "Transactions saved to: /home/dsmith/code/evm-cctp-contracts/broadcast/deploy.s.sol/31337/dry-run/run-latest.json\n",
      "\n",
      "Sensitive values saved to: /home/dsmith/code/evm-cctp-contracts/cache/deploy.s.sol/31337/dry-run/run-latest.json\n",
      "\n"
     ]
    }
   ],
   "source": [
    "%%bash -s \"$cctp_home\" \"$domain_1_acct\" \"$domain_1_key\" \"$DOMAIN1_FIDDY_ADDRESS\" \"$DOMAIN2_FIDDY_ADDRESS\" \"$domain2TokenMessengerAddress\" \"$attestor\"\n",
    "\n",
    "cd $1\n",
    "ls $1\n",
    "echo $2\n",
    "export MESSAGE_TRANSMITTER_DEPLOYER_KEY=$3\n",
    "export TOKEN_MESSENGER_DEPLOYER_KEY=$3\n",
    "export TOKEN_MINTER_DEPLOYER_KEY=$3\n",
    "export TOKEN_CONTROLLER_DEPLOYER_KEY=$3\n",
    "export ATTESTER_ADDRESS=$7\n",
    "export USDC_CONTRACT_ADDRESS=$4\n",
    "export TOKEN_CONTROLLER_ADDRESS=$2\n",
    "export BURN_LIMIT_PER_MESSAGE=1000\n",
    "export REMOTE_USDC_CONTRACT_ADDRESS=$5\n",
    "export DOMAIN=1\n",
    "export REMOTE_DOMAIN=2\n",
    "export MESSAGE_TRANSMITTER_PAUSER_ADDRESS=$2\n",
    "export TOKEN_MINTER_PAUSER_ADDRESS=$2\n",
    "export MESSAGE_TRANSMITTER_RESCUER_ADDRESS=$2\n",
    "export TOKEN_MESSENGER_RESCUER_ADDRESS=$2\n",
    "export TOKEN_MINTER_RESCUER_ADDRESS=$2\n",
    "export REMOTE_TOKEN_MESSENGER_ADDRESS=$6\n",
    "\n",
    "\n",
    "make simulate RPC_URL=http://localhost:8545 SENDER=$2"
   ]
  },
  {
   "cell_type": "code",
   "execution_count": 17,
   "id": "4b7e11ff-bd35-4384-b328-baf693cce8eb",
   "metadata": {},
   "outputs": [
    {
     "name": "stdout",
     "output_type": "stream",
     "text": [
      "Dockerfile\n",
      "LICENSE\n",
      "Makefile\n",
      "NOTICES\n",
      "README.md\n",
      "anvil\n",
      "broadcast\n",
      "cache\n",
      "docs\n",
      "foundry.toml\n",
      "lib\n",
      "out\n",
      "package.json\n",
      "pictures\n",
      "remappings.txt\n",
      "requirements.txt\n",
      "scripts\n",
      "slither.config.json\n",
      "src\n",
      "test\n",
      "yarn.lock\n",
      "0x892BB2e4F6b14a2B5b82Ba8d33E5925D42D4431F\n",
      "forge script --slow scripts/deploy.s.sol:DeployScript --rpc-url http://localhost:8545 --sender 0x892BB2e4F6b14a2B5b82Ba8d33E5925D42D4431F --broadcast\n",
      "Nothing to compile\n",
      "\u001b[32mScript ran successfully.\u001b[0m\n",
      "\u001b[33m\n",
      "EIP-3855 is not supported in one or more of the RPCs used.\n",
      "Unsupported Chain IDs: 31337.\n",
      "Contracts deployed with a Solidity version equal or higher than 0.8.20 might not work properly.\n",
      "For more information, please see https://eips.ethereum.org/EIPS/eip-3855\u001b[0m\n"
     ]
    },
    {
     "name": "stderr",
     "output_type": "stream",
     "text": [
      "\n",
      "## Setting up (1) EVMs.\n"
     ]
    },
    {
     "name": "stdout",
     "output_type": "stream",
     "text": [
      "\n",
      "==========================\n",
      "\n",
      "Chain 31337\n",
      "\n",
      "Estimated gas price: 3.00000444 gwei\n",
      "\n",
      "Estimated total gas used for script: 12236923\n",
      "\n",
      "Estimated amount required: 0.03671082333193812 ETH\n",
      "\n",
      "==========================\n",
      "\n",
      "###\n",
      "Finding wallets for all the necessary addresses...\n",
      "##\n",
      "Sending transactions [0 - 13].\n",
      "\n",
      "##### anvil-hardhat\n",
      "✅  [Success]Hash: 0x33e0614442bb31ec5554ef8ccc823df14e2249ffc89a8857e7e7891bb9ba3b93\n",
      "Contract Address: 0xeAf6b136BCCD73bD98000A9000F78AC2d40c0c30\n",
      "Block: 104\n",
      "Paid: 0.000342231223819074 ETH (114077 gas * 3.000001962 gwei)\n",
      "\n",
      "\n",
      "##### anvil-hardhat\n",
      "✅  [Success]Hash: 0x37c8dfadfdfce17c86c9c8aa922b9f69e8bb43a1c93fdc4116f2c6d3ad4bc018\n",
      "Contract Address: 0x4b8e6646Fbf67e6aBDe1352B7fE61BCB5252EB19\n",
      "Block: 105\n",
      "Paid: 0.011983215866378757 ETH (3994403 gas * 3.000001719 gwei)\n",
      "\n",
      "\n",
      "##### anvil-hardhat\n",
      "✅  [Success]Hash: 0x5a21a583b0734d89847fc8459faff8eac3de7e56cf7ec9ea5fde01e5827b4c3b\n",
      "Block: 106\n",
      "Paid: 0.00014163007374202 ETH (47210 gas * 3.000001562 gwei)\n",
      "\n",
      "\n",
      "##### anvil-hardhat\n",
      "✅  [Success]Hash: 0x189989aeb69928e86f03d2b6782232ddab949824efc51b3957a6a3e289a25bbe\n",
      "Block: 107\n",
      "Paid: 0.000141609064573704 ETH (47203 gas * 3.000001368 gwei)\n",
      "\n",
      "\n",
      "##### anvil-hardhat\n",
      "✅  [Success]Hash: 0xda43053461b51b6debb2367254ece819a314873798518fe60f3cef2e7375a352\n",
      "Contract Address: 0x7649eAA2E7229ada48C34E58583CDd2fceA0BFEa\n",
      "Block: 108\n",
      "Paid: 0.008723574483612686 ETH (2907857 gas * 3.000001198 gwei)\n",
      "\n",
      "\n",
      "##### anvil-hardhat\n",
      "✅  [Success]Hash: 0x9fcfb5a320fe6dbe3fc8be1461f511a3a4ec11689d8829ef3f5f4b25b35e1634\n",
      "Block: 109\n",
      "Paid: 0.00014154005086004 ETH (47180 gas * 3.000001078 gwei)\n",
      "\n",
      "\n",
      "##### anvil-hardhat\n",
      "✅  [Success]Hash: 0x604c5aeb5bbf03daa24e1b540a7160d86a34967195a5a534a189d38d0be42056\n",
      "Contract Address: 0xB048dFcCB459121b786de46DcAA81361495F9eE2\n",
      "Block: 110\n",
      "Paid: 0.005624464769831024 ETH (1874821 gas * 3.000000944 gwei)\n",
      "\n",
      "\n",
      "##### anvil-hardhat\n",
      "✅  [Success]Hash: 0xd185b44be9b8812943db9b40657c7ca205d4d7303e0bcd96b72eabdb95c98e17\n",
      "Block: 111\n",
      "Paid: 0.000141759039739773 ETH (47253 gas * 3.000000841 gwei)\n",
      "\n",
      "\n",
      "##### anvil-hardhat\n",
      "✅  [Success]Hash: 0x0e7876c32f4e30214836ba61b09229ecd7d52ae5dcad86f3185bdd0f033cf8cf\n",
      "Block: 112\n",
      "Paid: 0.00014163003479377 ETH (47210 gas * 3.000000737 gwei)\n",
      "\n",
      "\n",
      "##### anvil-hardhat\n",
      "✅  [Success]Hash: 0x63a1761b769ea3a1c790ff7f9cd96081eddd320a1d85209bd78dbd819c5e427f\n",
      "Block: 113\n",
      "Paid: 0.000141609030493138 ETH (47203 gas * 3.000000646 gwei)\n",
      "\n",
      "\n",
      "##### anvil-hardhat\n",
      "✅  [Success]Hash: 0x11c7c880b35c7c0c0ca9802791c12be849a9040e2c9e2e58fb39a04636d50a2b\n",
      "Block: 114\n",
      "Paid: 0.000141702026734444 ETH (47234 gas * 3.000000566 gwei)\n",
      "\n",
      "\n",
      "##### anvil-hardhat\n",
      "✅  [Success]Hash: 0xe612a2138d5ea41d5bf1f2889a4cd10f4bd396041b95f70b1c7509b8576e2db4\n",
      "Block: 115\n",
      "Paid: 0.000142923023629936 ETH (47641 gas * 3.000000496 gwei)\n",
      "\n",
      "\n",
      "##### anvil-hardhat\n",
      "✅  [Success]Hash: 0xb9fa06c79d995f586bfb25fdf94a4e9444b9596f8ed7debb89db95e418a744b4\n",
      "Block: 116\n",
      "Paid: 0.0001459800211671 ETH (48660 gas * 3.000000435 gwei)\n",
      "\n",
      "\n",
      "##### anvil-hardhat\n",
      "✅  [Success]Hash: 0x44a681a49c9f4e2a07f0ab08f00eb961bbb1faa078038431d15c8ca8aa99efb6\n",
      "Block: 117\n",
      "Paid: 0.000143064018169128 ETH (47688 gas * 3.000000381 gwei)\n",
      "\n",
      "\n",
      "Transactions saved to: /home/dsmith/code/evm-cctp-contracts/broadcast/deploy.s.sol/31337/run-latest.json\n",
      "\n",
      "Sensitive values saved to: /home/dsmith/code/evm-cctp-contracts/cache/deploy.s.sol/31337/run-latest.json\n",
      "\n",
      "\n",
      "\n",
      "==========================\n",
      "\n",
      "ONCHAIN EXECUTION COMPLETE & SUCCESSFUL.\n",
      "Total Paid: 0.028096932727544594 ETH (9365640 gas * avg 3.000000995 gwei)\n",
      "\n",
      "Transactions saved to: /home/dsmith/code/evm-cctp-contracts/broadcast/deploy.s.sol/31337/run-latest.json\n",
      "\n",
      "Sensitive values saved to: /home/dsmith/code/evm-cctp-contracts/cache/deploy.s.sol/31337/run-latest.json\n",
      "\n"
     ]
    }
   ],
   "source": [
    "%%bash -s \"$cctp_home\" \"$domain_1_acct\" \"$domain_1_key\" \"$DOMAIN1_FIDDY_ADDRESS\" \"$DOMAIN2_FIDDY_ADDRESS\" \"$domain2TokenMessengerAddress\" \"$attestor\"\n",
    "\n",
    "cd $1\n",
    "ls $1\n",
    "echo $2\n",
    "export MESSAGE_TRANSMITTER_DEPLOYER_KEY=$3\n",
    "export TOKEN_MESSENGER_DEPLOYER_KEY=$3\n",
    "export TOKEN_MINTER_DEPLOYER_KEY=$3\n",
    "export TOKEN_CONTROLLER_DEPLOYER_KEY=$3\n",
    "export ATTESTER_ADDRESS=$7\n",
    "export USDC_CONTRACT_ADDRESS=$4\n",
    "export TOKEN_CONTROLLER_ADDRESS=$2\n",
    "export BURN_LIMIT_PER_MESSAGE=1000\n",
    "export REMOTE_USDC_CONTRACT_ADDRESS=$5\n",
    "export DOMAIN=1\n",
    "export REMOTE_DOMAIN=2\n",
    "export MESSAGE_TRANSMITTER_PAUSER_ADDRESS=$2\n",
    "export TOKEN_MINTER_PAUSER_ADDRESS=$2\n",
    "export MESSAGE_TRANSMITTER_RESCUER_ADDRESS=$2\n",
    "export TOKEN_MESSENGER_RESCUER_ADDRESS=$2\n",
    "export TOKEN_MINTER_RESCUER_ADDRESS=$2\n",
    "export REMOTE_TOKEN_MESSENGER_ADDRESS=$6\n",
    "\n",
    "\n",
    "make deploy RPC_URL=http://localhost:8545 SENDER=$2\n"
   ]
  },
  {
   "cell_type": "code",
   "execution_count": 18,
   "id": "8f0f4826-dc3e-4ef6-b8ac-6da84a9cb0bb",
   "metadata": {},
   "outputs": [
    {
     "name": "stdout",
     "output_type": "stream",
     "text": [
      "/home/dsmith/code/evm-cctp-contracts/broadcast/deploy.s.sol/31337/run-latest.json\n"
     ]
    }
   ],
   "source": [
    "#export CCTPCTX=$HOME/code/evm-cctp-contracts/broadcast/deploy.s.sol/31337/run-latest.json\n",
    "cctp_ctx = home[0] + '/code/evm-cctp-contracts/broadcast/deploy.s.sol/31337/run-latest.json'\n",
    "print(cctp_ctx)"
   ]
  },
  {
   "cell_type": "code",
   "execution_count": 19,
   "id": "4b0f18b3-da77-4872-9859-6597d03f2b92",
   "metadata": {},
   "outputs": [],
   "source": [
    "%%bash -s \"$exec_home\" \"$cctp_ctx\" --out CCTP_AGGREGATE\n",
    "cd $1\n",
    "export CCTPCTX=$2\n",
    "ls\n",
    "node script/cctp-details.js"
   ]
  },
  {
   "cell_type": "code",
   "execution_count": 20,
   "id": "00a63a1f-b4fd-4fe0-804e-d61281c90473",
   "metadata": {},
   "outputs": [
    {
     "name": "stdout",
     "output_type": "stream",
     "text": [
      "['0x4b8e6646Fbf67e6aBDe1352B7fE61BCB5252EB19', '0x7649eAA2E7229ada48C34E58583CDd2fceA0BFEa', '0xB048dFcCB459121b786de46DcAA81361495F9eE2']\n"
     ]
    }
   ],
   "source": [
    "CCTP_AGGREGATE = CCTP_AGGREGATE.strip()\n",
    "parts = CCTP_AGGREGATE.split(':')\n",
    "print(parts)"
   ]
  },
  {
   "cell_type": "code",
   "execution_count": 21,
   "id": "a02b5b70-f988-41f4-8e27-01ab05550fcc",
   "metadata": {},
   "outputs": [],
   "source": [
    "domain1MessageTransmitterAddr = parts[0]\n",
    "domain1TokenMessengerAddr = parts[1]\n",
    "domain1TokenMinterAddr = parts[2]"
   ]
  },
  {
   "cell_type": "code",
   "execution_count": 22,
   "id": "95bf409c-c110-42db-bb1b-7b1d4bd6838d",
   "metadata": {},
   "outputs": [
    {
     "name": "stdout",
     "output_type": "stream",
     "text": [
      "domain1MessageTransmitterAddr 0x4b8e6646Fbf67e6aBDe1352B7fE61BCB5252EB19\n",
      "domain1TokenMessengerAddr     0x7649eAA2E7229ada48C34E58583CDd2fceA0BFEa\n",
      "domain1TokenMinterAddr        0xB048dFcCB459121b786de46DcAA81361495F9eE2\n"
     ]
    }
   ],
   "source": [
    "print(f'domain1MessageTransmitterAddr {domain1MessageTransmitterAddr}')\n",
    "print(f'domain1TokenMessengerAddr     {domain1TokenMessengerAddr}')\n",
    "print(f'domain1TokenMinterAddr        {domain1TokenMinterAddr}')"
   ]
  },
  {
   "cell_type": "markdown",
   "id": "f57725cd-ca34-485a-8879-244c8d213849",
   "metadata": {},
   "source": [
    "## CCTP Setup - Domain 2"
   ]
  },
  {
   "cell_type": "code",
   "execution_count": 23,
   "id": "578cce73-6054-4269-91b8-c8973f813fd5",
   "metadata": {},
   "outputs": [
    {
     "name": "stdout",
     "output_type": "stream",
     "text": [
      "Dockerfile\n",
      "LICENSE\n",
      "Makefile\n",
      "NOTICES\n",
      "README.md\n",
      "anvil\n",
      "broadcast\n",
      "cache\n",
      "docs\n",
      "foundry.toml\n",
      "lib\n",
      "out\n",
      "package.json\n",
      "pictures\n",
      "remappings.txt\n",
      "requirements.txt\n",
      "scripts\n",
      "slither.config.json\n",
      "src\n",
      "test\n",
      "yarn.lock\n",
      "0x73dA1eD554De26C467d97ADE090af6d52851745E\n",
      "forge script scripts/deploy.s.sol:DeployScript --rpc-url http://localhost:8545 --sender 0x73dA1eD554De26C467d97ADE090af6d52851745E\n",
      "Nothing to compile\n",
      "\u001b[32mScript ran successfully.\u001b[0m\n",
      "\u001b[33m\n",
      "EIP-3855 is not supported in one or more of the RPCs used.\n",
      "Unsupported Chain IDs: 31337.\n",
      "Contracts deployed with a Solidity version equal or higher than 0.8.20 might not work properly.\n",
      "For more information, please see https://eips.ethereum.org/EIPS/eip-3855\u001b[0m\n"
     ]
    },
    {
     "name": "stderr",
     "output_type": "stream",
     "text": [
      "\n",
      "## Setting up (1) EVMs.\n"
     ]
    },
    {
     "name": "stdout",
     "output_type": "stream",
     "text": [
      "\n",
      "==========================\n",
      "\n",
      "Chain 31337\n",
      "\n",
      "Estimated gas price: 3.000000762 gwei\n",
      "\n",
      "Estimated total gas used for script: 12237203\n",
      "\n",
      "Estimated amount required: 0.036711618324748686 ETH\n",
      "\n",
      "==========================\n",
      "\n",
      "SIMULATION COMPLETE. To broadcast these transactions, add --broadcast and wallet configuration(s) to the previous command. See forge script --help for more.\n",
      "\n",
      "Transactions saved to: /home/dsmith/code/evm-cctp-contracts/broadcast/deploy.s.sol/31337/dry-run/run-latest.json\n",
      "\n",
      "Sensitive values saved to: /home/dsmith/code/evm-cctp-contracts/cache/deploy.s.sol/31337/dry-run/run-latest.json\n",
      "\n"
     ]
    }
   ],
   "source": [
    "%%bash -s \"$cctp_home\" \"$domain_2_acct\" \"$domain_2_key\" \"$DOMAIN2_FIDDY_ADDRESS\" \"$DOMAIN1_FIDDY_ADDRESS\" \"$domain1TokenMessengerAddr\" \"$attestor\"\n",
    "\n",
    "cd $1\n",
    "ls $1\n",
    "echo $2\n",
    "export MESSAGE_TRANSMITTER_DEPLOYER_KEY=$3\n",
    "export TOKEN_MESSENGER_DEPLOYER_KEY=$3\n",
    "export TOKEN_MINTER_DEPLOYER_KEY=$3\n",
    "export TOKEN_CONTROLLER_DEPLOYER_KEY=$3\n",
    "export ATTESTER_ADDRESS=$7\n",
    "export USDC_CONTRACT_ADDRESS=$4\n",
    "export TOKEN_CONTROLLER_ADDRESS=$2\n",
    "export BURN_LIMIT_PER_MESSAGE=1000\n",
    "export REMOTE_USDC_CONTRACT_ADDRESS=$5\n",
    "export DOMAIN=2\n",
    "export REMOTE_DOMAIN=1\n",
    "export MESSAGE_TRANSMITTER_PAUSER_ADDRESS=$2\n",
    "export TOKEN_MINTER_PAUSER_ADDRESS=$2\n",
    "export MESSAGE_TRANSMITTER_RESCUER_ADDRESS=$2\n",
    "export TOKEN_MESSENGER_RESCUER_ADDRESS=$2\n",
    "export TOKEN_MINTER_RESCUER_ADDRESS=$2\n",
    "export REMOTE_TOKEN_MESSENGER_ADDRESS=$6\n",
    "\n",
    "\n",
    "make simulate RPC_URL=http://localhost:8545 SENDER=$2"
   ]
  },
  {
   "cell_type": "code",
   "execution_count": 24,
   "id": "3953d2c1-1021-41f0-858a-0c7795d16ab7",
   "metadata": {},
   "outputs": [
    {
     "name": "stdout",
     "output_type": "stream",
     "text": [
      "Dockerfile\n",
      "LICENSE\n",
      "Makefile\n",
      "NOTICES\n",
      "README.md\n",
      "anvil\n",
      "broadcast\n",
      "cache\n",
      "docs\n",
      "foundry.toml\n",
      "lib\n",
      "out\n",
      "package.json\n",
      "pictures\n",
      "remappings.txt\n",
      "requirements.txt\n",
      "scripts\n",
      "slither.config.json\n",
      "src\n",
      "test\n",
      "yarn.lock\n",
      "0x73dA1eD554De26C467d97ADE090af6d52851745E\n",
      "forge script --slow scripts/deploy.s.sol:DeployScript --rpc-url http://localhost:8545 --sender 0x73dA1eD554De26C467d97ADE090af6d52851745E --broadcast\n",
      "Nothing to compile\n",
      "\u001b[32mScript ran successfully.\u001b[0m\n",
      "\u001b[33m\n",
      "EIP-3855 is not supported in one or more of the RPCs used.\n",
      "Unsupported Chain IDs: 31337.\n",
      "Contracts deployed with a Solidity version equal or higher than 0.8.20 might not work properly.\n",
      "For more information, please see https://eips.ethereum.org/EIPS/eip-3855\u001b[0m\n"
     ]
    },
    {
     "name": "stderr",
     "output_type": "stream",
     "text": [
      "\n",
      "## Setting up (1) EVMs.\n"
     ]
    },
    {
     "name": "stdout",
     "output_type": "stream",
     "text": [
      "\n",
      "==========================\n",
      "\n",
      "Chain 31337\n",
      "\n",
      "Estimated gas price: 3.000000762 gwei\n",
      "\n",
      "Estimated total gas used for script: 12237203\n",
      "\n",
      "Estimated amount required: 0.036711618324748686 ETH\n",
      "\n",
      "==========================\n",
      "\n",
      "###\n",
      "Finding wallets for all the necessary addresses...\n",
      "##\n",
      "Sending transactions [0 - 13].\n",
      "\n",
      "##### anvil-hardhat\n",
      "✅  [Success]Hash: 0x9227c0140e6ee4d01b0cf493864e818ba3ba49d5f7088c7bc3e361988b7ff1a7\n",
      "Contract Address: 0x71ED4A559C87F6D650A00744B5cCD9687153029a\n",
      "Block: 118\n",
      "Paid: 0.000342231038101718 ETH (114077 gas * 3.000000334 gwei)\n",
      "\n",
      "\n",
      "##### anvil-hardhat\n",
      "✅  [Success]Hash: 0x37a2c70adf27dc8dfd066c46ced4c84abfb3e9e6d71205cc2460764228a3f9b2\n",
      "Contract Address: 0xe7793E36AAf773A408d28cf5873c671b684F12b3\n",
      "Block: 119\n",
      "Paid: 0.011983570170395239 ETH (3994523 gas * 3.000000293 gwei)\n",
      "\n",
      "\n",
      "##### anvil-hardhat\n",
      "✅  [Success]Hash: 0x46decc7591662cd633d84e78f7a739cdddf969c1c95dc1f57a7fbc45332ad147\n",
      "Block: 120\n",
      "Paid: 0.00014163001260507 ETH (47210 gas * 3.000000267 gwei)\n",
      "\n",
      "\n",
      "##### anvil-hardhat\n",
      "✅  [Success]Hash: 0x11e68b12bd05d42e637bebd2cbaf86023507b3194da4963e3cb700c11a31ab8c\n",
      "Block: 121\n",
      "Paid: 0.000141609011045502 ETH (47203 gas * 3.000000234 gwei)\n",
      "\n",
      "\n",
      "##### anvil-hardhat\n",
      "✅  [Success]Hash: 0x9c1940aacf27c081c22e9b1c299a2ab74a32bcb11357ead71129533a42a02b98\n",
      "Contract Address: 0x46Cd74668952F7c935D585BdfbB4EC524A9d4Af7\n",
      "Block: 122\n",
      "Paid: 0.008723859596130365 ETH (2907953 gas * 3.000000205 gwei)\n",
      "\n",
      "\n",
      "##### anvil-hardhat\n",
      "✅  [Success]Hash: 0x45e4cacb753717e5741047ea10db631ce770ccafe6f5741e3059915dd95ec89a\n",
      "Block: 123\n",
      "Paid: 0.0001415400087283 ETH (47180 gas * 3.000000185 gwei)\n",
      "\n",
      "\n",
      "##### anvil-hardhat\n",
      "✅  [Success]Hash: 0xffa1b195cfcc625656dcabf77db6bc7899284b419dfda6d63259522c6dbec5e1\n",
      "Contract Address: 0xF1ABDd310E026aa7D797298Ea4D4c32447f7049B\n",
      "Block: 124\n",
      "Paid: 0.005624463303721002 ETH (1874821 gas * 3.000000162 gwei)\n",
      "\n",
      "\n",
      "##### anvil-hardhat\n",
      "✅  [Success]Hash: 0x5e20a71683feba8301057793bc1711ee5fda0e05de34894810f991d953337f2a\n",
      "Block: 125\n",
      "Paid: 0.000141759006851685 ETH (47253 gas * 3.000000145 gwei)\n",
      "\n",
      "\n",
      "##### anvil-hardhat\n",
      "✅  [Success]Hash: 0xa3fcbc978b64263ea7a162d8ca637514c468109d838f7763e7b5dd43e2f6636a\n",
      "Block: 126\n",
      "Paid: 0.00014163000599567 ETH (47210 gas * 3.000000127 gwei)\n",
      "\n",
      "\n",
      "##### anvil-hardhat\n",
      "✅  [Success]Hash: 0x0ae20a16def4c355326dee5e8e46d6711c0cb8e47cc5081a9d304078aedda715\n",
      "Block: 127\n",
      "Paid: 0.000141609005286736 ETH (47203 gas * 3.000000112 gwei)\n",
      "\n",
      "\n",
      "##### anvil-hardhat\n",
      "✅  [Success]Hash: 0x22269fe8e18574518b129f933b9df91c23389534267d42f876fcf41606e28eef\n",
      "Block: 128\n",
      "Paid: 0.000141702004676166 ETH (47234 gas * 3.000000099 gwei)\n",
      "\n",
      "\n",
      "##### anvil-hardhat\n",
      "✅  [Success]Hash: 0x88f6aa8a4b7da711db1067d868cb2c2b390ef24dbebb814a77b624468d63216a\n",
      "Block: 129\n",
      "Paid: 0.000142923004144767 ETH (47641 gas * 3.000000087 gwei)\n",
      "\n",
      "\n",
      "##### anvil-hardhat\n",
      "✅  [Success]Hash: 0x8ed8d0a7acc40e06342124a20107f347b0c68140efee9df3049bde1f5bf18b69\n",
      "Block: 130\n",
      "Paid: 0.00014598000374682 ETH (48660 gas * 3.000000077 gwei)\n",
      "\n",
      "\n",
      "##### anvil-hardhat\n",
      "✅  [Success]Hash: 0x47fedfbc9a7bbc33c6082b9f8f2ed1d981a16bf416c9dbe47e9aa97845406543\n",
      "Block: 131\n",
      "Paid: 0.000143064003242784 ETH (47688 gas * 3.000000068 gwei)\n",
      "\n",
      "\n",
      "Transactions saved to: /home/dsmith/code/evm-cctp-contracts/broadcast/deploy.s.sol/31337/run-latest.json\n",
      "\n",
      "Sensitive values saved to: /home/dsmith/code/evm-cctp-contracts/cache/deploy.s.sol/31337/run-latest.json\n",
      "\n",
      "\n",
      "\n",
      "==========================\n",
      "\n",
      "ONCHAIN EXECUTION COMPLETE & SUCCESSFUL.\n",
      "Total Paid: 0.028097570174671824 ETH (9365856 gas * avg 3.000000171 gwei)\n",
      "\n",
      "Transactions saved to: /home/dsmith/code/evm-cctp-contracts/broadcast/deploy.s.sol/31337/run-latest.json\n",
      "\n",
      "Sensitive values saved to: /home/dsmith/code/evm-cctp-contracts/cache/deploy.s.sol/31337/run-latest.json\n",
      "\n"
     ]
    }
   ],
   "source": [
    "%%bash -s \"$cctp_home\" \"$domain_2_acct\" \"$domain_2_key\" \"$DOMAIN2_FIDDY_ADDRESS\" \"$DOMAIN1_FIDDY_ADDRESS\" \"$domain1TokenMessengerAddr\" \"$attestor\"\n",
    "\n",
    "cd $1\n",
    "ls $1\n",
    "echo $2\n",
    "export MESSAGE_TRANSMITTER_DEPLOYER_KEY=$3\n",
    "export TOKEN_MESSENGER_DEPLOYER_KEY=$3\n",
    "export TOKEN_MINTER_DEPLOYER_KEY=$3\n",
    "export TOKEN_CONTROLLER_DEPLOYER_KEY=$3\n",
    "export ATTESTER_ADDRESS=$7\n",
    "export USDC_CONTRACT_ADDRESS=$4\n",
    "export TOKEN_CONTROLLER_ADDRESS=$2\n",
    "export BURN_LIMIT_PER_MESSAGE=1000\n",
    "export REMOTE_USDC_CONTRACT_ADDRESS=$5\n",
    "export DOMAIN=2\n",
    "export REMOTE_DOMAIN=1\n",
    "export MESSAGE_TRANSMITTER_PAUSER_ADDRESS=$2\n",
    "export TOKEN_MINTER_PAUSER_ADDRESS=$2\n",
    "export MESSAGE_TRANSMITTER_RESCUER_ADDRESS=$2\n",
    "export TOKEN_MESSENGER_RESCUER_ADDRESS=$2\n",
    "export TOKEN_MINTER_RESCUER_ADDRESS=$2\n",
    "export REMOTE_TOKEN_MESSENGER_ADDRESS=$6\n",
    "\n",
    "\n",
    "make deploy RPC_URL=http://localhost:8545 SENDER=$2"
   ]
  },
  {
   "cell_type": "code",
   "execution_count": 25,
   "id": "443ad417-bf65-4914-86d5-7265fd6ae447",
   "metadata": {},
   "outputs": [],
   "source": [
    "%%bash -s \"$exec_home\" \"$cctp_ctx\" --out CCTP_AGGREGATE\n",
    "cd $1\n",
    "export CCTPCTX=$2\n",
    "ls\n",
    "node script/cctp-details.js"
   ]
  },
  {
   "cell_type": "code",
   "execution_count": 26,
   "id": "79ae0d9e-c9ed-46ce-bf3a-ca9353da814b",
   "metadata": {},
   "outputs": [
    {
     "name": "stdout",
     "output_type": "stream",
     "text": [
      "['0xe7793E36AAf773A408d28cf5873c671b684F12b3', '0x46Cd74668952F7c935D585BdfbB4EC524A9d4Af7', '0xF1ABDd310E026aa7D797298Ea4D4c32447f7049B']\n"
     ]
    }
   ],
   "source": [
    "CCTP_AGGREGATE = CCTP_AGGREGATE.strip()\n",
    "parts = CCTP_AGGREGATE.split(':')\n",
    "print(parts)"
   ]
  },
  {
   "cell_type": "code",
   "execution_count": 27,
   "id": "0c8b4db9-5e6a-4c12-9922-1eac3e228b9b",
   "metadata": {},
   "outputs": [],
   "source": [
    "domain2MessageTransmitterAddr = parts[0]\n",
    "domain2TokenMessengerAddr = parts[1]\n",
    "domain2TokenMinterAddr = parts[2]"
   ]
  },
  {
   "cell_type": "code",
   "execution_count": 28,
   "id": "314c45eb-344c-43e9-bf5e-3de34b56ade9",
   "metadata": {},
   "outputs": [
    {
     "name": "stdout",
     "output_type": "stream",
     "text": [
      "domain2MessageTransmitterAddr 0xe7793E36AAf773A408d28cf5873c671b684F12b3\n",
      "domain2TokenMessengerAddr     0x46Cd74668952F7c935D585BdfbB4EC524A9d4Af7\n",
      "domain2TokenMinterAddr        0xF1ABDd310E026aa7D797298Ea4D4c32447f7049B\n"
     ]
    }
   ],
   "source": [
    "print(f'domain2MessageTransmitterAddr { domain2MessageTransmitterAddr }')\n",
    "print(f'domain2TokenMessengerAddr     { domain2TokenMessengerAddr }')\n",
    "print(f'domain2TokenMinterAddr        { domain2TokenMinterAddr }')"
   ]
  },
  {
   "cell_type": "markdown",
   "id": "2f476641-6298-4988-94aa-b2660532ea20",
   "metadata": {},
   "source": [
    "## Fix Token Messenger if Needed\n",
    "\n",
    "***Note - looks like the first contract deployed is Message, which means it won't match the precompute - need to adjust logic***"
   ]
  },
  {
   "cell_type": "code",
   "execution_count": 29,
   "id": "1211918d-f632-4ffb-a0f2-bfe4194d92f2",
   "metadata": {},
   "outputs": [
    {
     "name": "stdout",
     "output_type": "stream",
     "text": [
      "0x46Cd74668952F7c935D585BdfbB4EC524A9d4Af7\n",
      "71ed4a559c87f6d650a00744b5ccd9687153029a\n"
     ]
    },
    {
     "data": {
      "text/plain": [
       "False"
      ]
     },
     "execution_count": 29,
     "metadata": {},
     "output_type": "execute_result"
    }
   ],
   "source": [
    "# Did the precompute match the deployment address?\n",
    "print(domain2TokenMessengerAddr)\n",
    "print(domain2TokenMessengerAddress)\n",
    "domain2TokenMessengerAddr == domain2TokenMessengerAddress"
   ]
  },
  {
   "cell_type": "code",
   "execution_count": 30,
   "id": "28e5d1c5-f62c-41a2-9ecb-d226e289bc4c",
   "metadata": {},
   "outputs": [
    {
     "name": "stdout",
     "output_type": "stream",
     "text": [
      "00000000000000000000000046cd74668952f7c935d585bdfbb4ec524a9d4af7\n"
     ]
    }
   ],
   "source": [
    "domain2TokenMessAddrBytes32 = bytes.fromhex(domain2TokenMessengerAddr[2:])\n",
    "domain2TokenMessAddrBytes32 =  b'\\0'*12 + domain2TokenMessAddrBytes32\n",
    "print(domain2TokenMessAddrBytes32.hex())"
   ]
  },
  {
   "cell_type": "code",
   "execution_count": 31,
   "id": "0c72133b-9274-4824-a61d-cc3abb5ece23",
   "metadata": {},
   "outputs": [
    {
     "name": "stdout",
     "output_type": "stream",
     "text": [
      "/home/dsmith/code/evm-cctp-contracts/out/TokenMessenger.sol/TokenMessenger.json\n"
     ]
    }
   ],
   "source": [
    "ethTokenMessengerAbiFile = home[0] + '/code/evm-cctp-contracts/out/TokenMessenger.sol/TokenMessenger.json'\n",
    "print(ethTokenMessengerAbiFile)"
   ]
  },
  {
   "cell_type": "code",
   "execution_count": 32,
   "id": "7f7c84ba-1360-4425-8891-05fb9b8efaed",
   "metadata": {},
   "outputs": [
    {
     "name": "stdout",
     "output_type": "stream",
     "text": [
      "/home/dsmith/code/evm-cctp-contracts/out/TokenMessenger.sol/TokenMessenger.json\n"
     ]
    }
   ],
   "source": [
    "tokenMessengerAbiFile = home[0] + '/code/evm-cctp-contracts/out/TokenMessenger.sol/TokenMessenger.json'\n",
    "print(tokenMessengerAbiFile)"
   ]
  },
  {
   "cell_type": "code",
   "execution_count": 33,
   "id": "7f8c6695-141a-4ea5-8312-4cecce843506",
   "metadata": {},
   "outputs": [],
   "source": [
    "import json\n",
    "\n",
    "with open(tokenMessengerAbiFile) as f:\n",
    "    tm_json = json.load(f)\n",
    "\n",
    "tokenMessengerAbi = tm_json['abi']"
   ]
  },
  {
   "cell_type": "code",
   "execution_count": 34,
   "id": "256fa875-faf8-4592-afac-2f96c043e6dd",
   "metadata": {},
   "outputs": [
    {
     "name": "stdout",
     "output_type": "stream",
     "text": [
      "[{'inputs': [{'internalType': 'address', 'name': '_messageTransmitter', 'type': 'address'}, {'internalType': 'uint32', 'name': '_messageBodyVersion', 'type': 'uint32'}], 'stateMutability': 'nonpayable', 'type': 'constructor'}, {'anonymous': False, 'inputs': [{'indexed': True, 'internalType': 'uint64', 'name': 'nonce', 'type': 'uint64'}, {'indexed': True, 'internalType': 'address', 'name': 'burnToken', 'type': 'address'}, {'indexed': False, 'internalType': 'uint256', 'name': 'amount', 'type': 'uint256'}, {'indexed': True, 'internalType': 'address', 'name': 'depositor', 'type': 'address'}, {'indexed': False, 'internalType': 'bytes32', 'name': 'mintRecipient', 'type': 'bytes32'}, {'indexed': False, 'internalType': 'uint32', 'name': 'destinationDomain', 'type': 'uint32'}, {'indexed': False, 'internalType': 'bytes32', 'name': 'destinationTokenMessenger', 'type': 'bytes32'}, {'indexed': False, 'internalType': 'bytes32', 'name': 'destinationCaller', 'type': 'bytes32'}], 'name': 'DepositForBurn', 'type': 'event'}, {'anonymous': False, 'inputs': [{'indexed': False, 'internalType': 'address', 'name': 'localMinter', 'type': 'address'}], 'name': 'LocalMinterAdded', 'type': 'event'}, {'anonymous': False, 'inputs': [{'indexed': False, 'internalType': 'address', 'name': 'localMinter', 'type': 'address'}], 'name': 'LocalMinterRemoved', 'type': 'event'}, {'anonymous': False, 'inputs': [{'indexed': True, 'internalType': 'address', 'name': 'mintRecipient', 'type': 'address'}, {'indexed': False, 'internalType': 'uint256', 'name': 'amount', 'type': 'uint256'}, {'indexed': True, 'internalType': 'address', 'name': 'mintToken', 'type': 'address'}], 'name': 'MintAndWithdraw', 'type': 'event'}, {'anonymous': False, 'inputs': [{'indexed': True, 'internalType': 'address', 'name': 'previousOwner', 'type': 'address'}, {'indexed': True, 'internalType': 'address', 'name': 'newOwner', 'type': 'address'}], 'name': 'OwnershipTransferStarted', 'type': 'event'}, {'anonymous': False, 'inputs': [{'indexed': True, 'internalType': 'address', 'name': 'previousOwner', 'type': 'address'}, {'indexed': True, 'internalType': 'address', 'name': 'newOwner', 'type': 'address'}], 'name': 'OwnershipTransferred', 'type': 'event'}, {'anonymous': False, 'inputs': [{'indexed': False, 'internalType': 'uint32', 'name': 'domain', 'type': 'uint32'}, {'indexed': False, 'internalType': 'bytes32', 'name': 'tokenMessenger', 'type': 'bytes32'}], 'name': 'RemoteTokenMessengerAdded', 'type': 'event'}, {'anonymous': False, 'inputs': [{'indexed': False, 'internalType': 'uint32', 'name': 'domain', 'type': 'uint32'}, {'indexed': False, 'internalType': 'bytes32', 'name': 'tokenMessenger', 'type': 'bytes32'}], 'name': 'RemoteTokenMessengerRemoved', 'type': 'event'}, {'anonymous': False, 'inputs': [{'indexed': True, 'internalType': 'address', 'name': 'newRescuer', 'type': 'address'}], 'name': 'RescuerChanged', 'type': 'event'}, {'inputs': [], 'name': 'acceptOwnership', 'outputs': [], 'stateMutability': 'nonpayable', 'type': 'function'}, {'inputs': [{'internalType': 'address', 'name': 'newLocalMinter', 'type': 'address'}], 'name': 'addLocalMinter', 'outputs': [], 'stateMutability': 'nonpayable', 'type': 'function'}, {'inputs': [{'internalType': 'uint32', 'name': 'domain', 'type': 'uint32'}, {'internalType': 'bytes32', 'name': 'tokenMessenger', 'type': 'bytes32'}], 'name': 'addRemoteTokenMessenger', 'outputs': [], 'stateMutability': 'nonpayable', 'type': 'function'}, {'inputs': [{'internalType': 'uint256', 'name': 'amount', 'type': 'uint256'}, {'internalType': 'uint32', 'name': 'destinationDomain', 'type': 'uint32'}, {'internalType': 'bytes32', 'name': 'mintRecipient', 'type': 'bytes32'}, {'internalType': 'address', 'name': 'burnToken', 'type': 'address'}], 'name': 'depositForBurn', 'outputs': [{'internalType': 'uint64', 'name': '_nonce', 'type': 'uint64'}], 'stateMutability': 'nonpayable', 'type': 'function'}, {'inputs': [{'internalType': 'uint256', 'name': 'amount', 'type': 'uint256'}, {'internalType': 'uint32', 'name': 'destinationDomain', 'type': 'uint32'}, {'internalType': 'bytes32', 'name': 'mintRecipient', 'type': 'bytes32'}, {'internalType': 'address', 'name': 'burnToken', 'type': 'address'}, {'internalType': 'bytes32', 'name': 'destinationCaller', 'type': 'bytes32'}], 'name': 'depositForBurnWithCaller', 'outputs': [{'internalType': 'uint64', 'name': 'nonce', 'type': 'uint64'}], 'stateMutability': 'nonpayable', 'type': 'function'}, {'inputs': [{'internalType': 'uint32', 'name': 'remoteDomain', 'type': 'uint32'}, {'internalType': 'bytes32', 'name': 'sender', 'type': 'bytes32'}, {'internalType': 'bytes', 'name': 'messageBody', 'type': 'bytes'}], 'name': 'handleReceiveMessage', 'outputs': [{'internalType': 'bool', 'name': '', 'type': 'bool'}], 'stateMutability': 'nonpayable', 'type': 'function'}, {'inputs': [], 'name': 'localMessageTransmitter', 'outputs': [{'internalType': 'contract IMessageTransmitter', 'name': '', 'type': 'address'}], 'stateMutability': 'view', 'type': 'function'}, {'inputs': [], 'name': 'localMinter', 'outputs': [{'internalType': 'contract ITokenMinter', 'name': '', 'type': 'address'}], 'stateMutability': 'view', 'type': 'function'}, {'inputs': [], 'name': 'messageBodyVersion', 'outputs': [{'internalType': 'uint32', 'name': '', 'type': 'uint32'}], 'stateMutability': 'view', 'type': 'function'}, {'inputs': [], 'name': 'owner', 'outputs': [{'internalType': 'address', 'name': '', 'type': 'address'}], 'stateMutability': 'view', 'type': 'function'}, {'inputs': [], 'name': 'pendingOwner', 'outputs': [{'internalType': 'address', 'name': '', 'type': 'address'}], 'stateMutability': 'view', 'type': 'function'}, {'inputs': [{'internalType': 'uint32', 'name': '', 'type': 'uint32'}], 'name': 'remoteTokenMessengers', 'outputs': [{'internalType': 'bytes32', 'name': '', 'type': 'bytes32'}], 'stateMutability': 'view', 'type': 'function'}, {'inputs': [], 'name': 'removeLocalMinter', 'outputs': [], 'stateMutability': 'nonpayable', 'type': 'function'}, {'inputs': [{'internalType': 'uint32', 'name': 'domain', 'type': 'uint32'}], 'name': 'removeRemoteTokenMessenger', 'outputs': [], 'stateMutability': 'nonpayable', 'type': 'function'}, {'inputs': [{'internalType': 'bytes', 'name': 'originalMessage', 'type': 'bytes'}, {'internalType': 'bytes', 'name': 'originalAttestation', 'type': 'bytes'}, {'internalType': 'bytes32', 'name': 'newDestinationCaller', 'type': 'bytes32'}, {'internalType': 'bytes32', 'name': 'newMintRecipient', 'type': 'bytes32'}], 'name': 'replaceDepositForBurn', 'outputs': [], 'stateMutability': 'nonpayable', 'type': 'function'}, {'inputs': [{'internalType': 'contract IERC20', 'name': 'tokenContract', 'type': 'address'}, {'internalType': 'address', 'name': 'to', 'type': 'address'}, {'internalType': 'uint256', 'name': 'amount', 'type': 'uint256'}], 'name': 'rescueERC20', 'outputs': [], 'stateMutability': 'nonpayable', 'type': 'function'}, {'inputs': [], 'name': 'rescuer', 'outputs': [{'internalType': 'address', 'name': '', 'type': 'address'}], 'stateMutability': 'view', 'type': 'function'}, {'inputs': [{'internalType': 'address', 'name': 'newOwner', 'type': 'address'}], 'name': 'transferOwnership', 'outputs': [], 'stateMutability': 'nonpayable', 'type': 'function'}, {'inputs': [{'internalType': 'address', 'name': 'newRescuer', 'type': 'address'}], 'name': 'updateRescuer', 'outputs': [], 'stateMutability': 'nonpayable', 'type': 'function'}]\n"
     ]
    }
   ],
   "source": [
    "print(tokenMessengerAbi)"
   ]
  },
  {
   "cell_type": "code",
   "execution_count": 35,
   "id": "92ae85b0-4333-4eed-9b54-533f8281110e",
   "metadata": {},
   "outputs": [],
   "source": [
    "from web3 import Web3\n",
    "w3 = Web3(Web3.HTTPProvider('http://127.0.0.1:8545'))\n",
    "domain1TokenMessenger = w3.eth.contract(address=domain1TokenMessengerAddr, abi=tokenMessengerAbi)"
   ]
  },
  {
   "cell_type": "code",
   "execution_count": 36,
   "id": "dcaf8568-995b-4385-ad44-e04eb754c816",
   "metadata": {},
   "outputs": [
    {
     "data": {
      "text/plain": [
       "'00000000000000000000000071ed4a559c87f6d650a00744b5ccd9687153029a'"
      ]
     },
     "execution_count": 36,
     "metadata": {},
     "output_type": "execute_result"
    }
   ],
   "source": [
    "domain1TokenMessenger.functions.remoteTokenMessengers(2).call().hex()"
   ]
  },
  {
   "cell_type": "code",
   "execution_count": 37,
   "id": "16f59827-9153-4f4d-b9d8-d8a38ceef417",
   "metadata": {},
   "outputs": [],
   "source": [
    "tx = domain1TokenMessenger.functions.removeRemoteTokenMessenger(2).build_transaction({\n",
    "    \"from\":domain_1_acct,\n",
    "    \"nonce\": w3.eth.get_transaction_count(domain_1_acct),\n",
    "})"
   ]
  },
  {
   "cell_type": "code",
   "execution_count": 38,
   "id": "fff9ee51-24c9-4af6-874a-ce37ef9f0a9d",
   "metadata": {},
   "outputs": [
    {
     "name": "stdout",
     "output_type": "stream",
     "text": [
      "AttributeDict({'transactionHash': HexBytes('0x9d60b998628a0010568a11087a8bf6d2f15f6208f4aac6ed04d633c29bf0da5d'), 'transactionIndex': 0, 'blockHash': HexBytes('0xd71cb2b702a0f83a5159181e633515a5cdd3acd3bc1d6d5792756af09b672f05'), 'blockNumber': 132, 'from': '0x892BB2e4F6b14a2B5b82Ba8d33E5925D42D4431F', 'to': '0x7649eAA2E7229ada48C34E58583CDd2fceA0BFEa', 'cumulativeGasUsed': 25518, 'gasUsed': 25518, 'contractAddress': None, 'logs': [AttributeDict({'address': '0x7649eAA2E7229ada48C34E58583CDd2fceA0BFEa', 'topics': [HexBytes('0x3dcea012093dbca2bb8ed7fd2b2ff90305ab70bddda8bbb94d4152735a98f0b1')], 'data': '0x000000000000000000000000000000000000000000000000000000000000000200000000000000000000000071ed4a559c87f6d650a00744b5ccd9687153029a', 'blockHash': HexBytes('0xd71cb2b702a0f83a5159181e633515a5cdd3acd3bc1d6d5792756af09b672f05'), 'blockNumber': 132, 'transactionHash': HexBytes('0x9d60b998628a0010568a11087a8bf6d2f15f6208f4aac6ed04d633c29bf0da5d'), 'transactionIndex': 0, 'logIndex': 0, 'transactionLogIndex': '0x0', 'removed': False})], 'status': 1, 'logsBloom': HexBytes('0x00000000000000000000000000000000000000000000000000000001000000000000000000000000000000000000000000000000000000000000000000000000000000000000000000000000000000001000000000000000000000000000000000000000000000000000000000000000000000000000000000000000020000000000000000000000000000000000000000000000000000000000010000000000000000000000000000000000000080000000000000000000020000000000000000000000000000000000000000000000000000000000000000000000000000000000000000000000000000000000000000000000000000000000000000000000'), 'type': '0x2', 'effectiveGasPrice': 1000000180})\n",
      "Tx successful with hash: 0x9d60b998628a0010568a11087a8bf6d2f15f6208f4aac6ed04d633c29bf0da5d\n"
     ]
    }
   ],
   "source": [
    "signed_tx = w3.eth.account.sign_transaction(tx, domain_1_key)\n",
    "tx_hash = w3.eth.send_raw_transaction(signed_tx.rawTransaction)\n",
    "tx_receipt = w3.eth.wait_for_transaction_receipt(tx_hash)\n",
    "print(tx_receipt)\n",
    "print(f\"Tx successful with hash: { tx_receipt.transactionHash.hex() }\")"
   ]
  },
  {
   "cell_type": "code",
   "execution_count": 39,
   "id": "87027448-b065-4a0c-adec-cf01833c3bc5",
   "metadata": {},
   "outputs": [],
   "source": [
    "tx = domain1TokenMessenger.functions.addRemoteTokenMessenger(2, domain2TokenMessAddrBytes32).build_transaction({\n",
    "    \"from\":ACCT0,\n",
    "    \"nonce\": w3.eth.get_transaction_count(domain_1_acct),\n",
    "})"
   ]
  },
  {
   "cell_type": "code",
   "execution_count": 40,
   "id": "6e51f9b6-9ba6-49af-a2e3-075ac2859637",
   "metadata": {},
   "outputs": [
    {
     "name": "stdout",
     "output_type": "stream",
     "text": [
      "AttributeDict({'transactionHash': HexBytes('0xa904cf21b6ecd213e22cd93e6c1352566341fcd922ec9f045008296ff3aecd27'), 'transactionIndex': 0, 'blockHash': HexBytes('0xb2eec1d52b2bf7fcee5ee0a2ad36b3a637558d07a6562d7dd35bc001f8e51c74'), 'blockNumber': 133, 'from': '0x892BB2e4F6b14a2B5b82Ba8d33E5925D42D4431F', 'to': '0x7649eAA2E7229ada48C34E58583CDd2fceA0BFEa', 'cumulativeGasUsed': 47688, 'gasUsed': 47688, 'contractAddress': None, 'logs': [AttributeDict({'address': '0x7649eAA2E7229ada48C34E58583CDd2fceA0BFEa', 'topics': [HexBytes('0x4bba2b08298cf59661b4895e384cc2ac3962ce2d71f1b7c11bca52e1169f9599')], 'data': '0x000000000000000000000000000000000000000000000000000000000000000200000000000000000000000046cd74668952f7c935d585bdfbb4ec524a9d4af7', 'blockHash': HexBytes('0xb2eec1d52b2bf7fcee5ee0a2ad36b3a637558d07a6562d7dd35bc001f8e51c74'), 'blockNumber': 133, 'transactionHash': HexBytes('0xa904cf21b6ecd213e22cd93e6c1352566341fcd922ec9f045008296ff3aecd27'), 'transactionIndex': 0, 'logIndex': 0, 'transactionLogIndex': '0x0', 'removed': False})], 'status': 1, 'logsBloom': HexBytes('0x00000000000000040000000000000000000000000000000000000000000000000000000000000000000000000000000000000000000000000000000000000000000000000000000000000000000000001000000000000000000000000000000000000000000000000000000000000000000000000000000000000000020000000000000000000000000000000000000000000000000000000000000000000000000000000000000000000000000080000000000000000000000000000000000000100000000000080000000000000000000000000000000000000000000000000000000000000000000000000000000000000000000000000000000000000000'), 'type': '0x2', 'effectiveGasPrice': 1000000159})\n",
      "Tx successful with hash: 0xa904cf21b6ecd213e22cd93e6c1352566341fcd922ec9f045008296ff3aecd27\n"
     ]
    }
   ],
   "source": [
    "signed_tx = w3.eth.account.sign_transaction(tx, domain_1_key)\n",
    "tx_hash = w3.eth.send_raw_transaction(signed_tx.rawTransaction)\n",
    "tx_receipt = w3.eth.wait_for_transaction_receipt(tx_hash)\n",
    "print(tx_receipt)\n",
    "print(f\"Tx successful with hash: { tx_receipt.transactionHash.hex() }\")"
   ]
  },
  {
   "cell_type": "code",
   "execution_count": 41,
   "id": "3f67152f-0d86-46f3-aa01-a48a014fcb11",
   "metadata": {},
   "outputs": [
    {
     "data": {
      "text/plain": [
       "'00000000000000000000000046cd74668952f7c935d585bdfbb4ec524a9d4af7'"
      ]
     },
     "execution_count": 41,
     "metadata": {},
     "output_type": "execute_result"
    }
   ],
   "source": [
    "domain1TokenMessenger.functions.remoteTokenMessengers(2).call().hex()"
   ]
  },
  {
   "cell_type": "markdown",
   "id": "4a23882a-a13b-41e1-839e-7eca9f5e3611",
   "metadata": {},
   "source": [
    "## Working with Fiddy and CCTP on Domain 1"
   ]
  },
  {
   "cell_type": "code",
   "execution_count": 42,
   "id": "c6e5111a-15a3-4323-add8-4b96275fd762",
   "metadata": {},
   "outputs": [],
   "source": [
    "fiddyAbiFile = home[0] + '/code/cctp-components/out/Token.sol/FiddyCent.json'"
   ]
  },
  {
   "cell_type": "code",
   "execution_count": 43,
   "id": "92162157-d49e-4861-b8c1-4c98de3721ca",
   "metadata": {},
   "outputs": [],
   "source": [
    "import json\n",
    "\n",
    "with open(fiddyAbiFile) as f:\n",
    "    fiddy_json = json.load(f)\n",
    "\n",
    "fiddyAbi = fiddy_json['abi']\n"
   ]
  },
  {
   "cell_type": "code",
   "execution_count": 44,
   "id": "98b88c42-c81d-43ff-89b7-1511d489202c",
   "metadata": {},
   "outputs": [],
   "source": [
    "domain1Fiddy = w3.eth.contract(address=DOMAIN1_FIDDY_ADDRESS, abi=fiddyAbi)"
   ]
  },
  {
   "cell_type": "code",
   "execution_count": 45,
   "id": "edd1f49d-8793-4d47-a899-29627101c932",
   "metadata": {},
   "outputs": [
    {
     "data": {
      "text/plain": [
       "0"
      ]
     },
     "execution_count": 45,
     "metadata": {},
     "output_type": "execute_result"
    }
   ],
   "source": [
    "# Initial balance\n",
    "domain1Fiddy.functions.balanceOf(ACCT1).call()"
   ]
  },
  {
   "cell_type": "code",
   "execution_count": 46,
   "id": "eec1c7d2-1483-492c-b39f-4fbd1c141512",
   "metadata": {},
   "outputs": [],
   "source": [
    "# Transfer some fiddy coin to acct1\n",
    "tx = domain1Fiddy.functions.transfer(ACCT1, 100).build_transaction(\n",
    "    {\n",
    "        \"from\":ACCT0,\n",
    "        \"nonce\": w3.eth.get_transaction_count(ACCT0),\n",
    "    }\n",
    ")"
   ]
  },
  {
   "cell_type": "code",
   "execution_count": 47,
   "id": "db602f1e-777c-4dd6-a089-fdf3e9871686",
   "metadata": {},
   "outputs": [],
   "source": [
    "signed_tx = w3.eth.account.sign_transaction(tx, ACCT0KEY)"
   ]
  },
  {
   "cell_type": "code",
   "execution_count": 48,
   "id": "971760d4-170a-42e7-ac36-4b283fb83bb6",
   "metadata": {},
   "outputs": [
    {
     "name": "stdout",
     "output_type": "stream",
     "text": [
      "Tx successful with hash: 0x2eeda0c047930d27b989776f3259c7880131a8101188015749b9b7f9b49ca713\n"
     ]
    }
   ],
   "source": [
    "tx_hash = w3.eth.send_raw_transaction(signed_tx.rawTransaction)\n",
    "tx_receipt = w3.eth.wait_for_transaction_receipt(tx_hash)\n",
    "\n",
    "print(f\"Tx successful with hash: { tx_receipt.transactionHash.hex() }\")"
   ]
  },
  {
   "cell_type": "code",
   "execution_count": 49,
   "id": "e412b111-24ac-479c-9a38-e31eb6ec11d2",
   "metadata": {},
   "outputs": [
    {
     "data": {
      "text/plain": [
       "100"
      ]
     },
     "execution_count": 49,
     "metadata": {},
     "output_type": "execute_result"
    }
   ],
   "source": [
    "domain1Fiddy.functions.balanceOf(ACCT1).call()"
   ]
  },
  {
   "cell_type": "code",
   "execution_count": 50,
   "id": "096f9669-0d1b-4448-82b7-3f2cd11e0d06",
   "metadata": {},
   "outputs": [
    {
     "data": {
      "text/plain": [
       "0"
      ]
     },
     "execution_count": 50,
     "metadata": {},
     "output_type": "execute_result"
    }
   ],
   "source": [
    "# Check the allowance for ACCT1 on the messenger contract\n",
    "domain1Fiddy.functions.allowance(ACCT1, domain1TokenMessengerAddr).call()"
   ]
  },
  {
   "cell_type": "code",
   "execution_count": 51,
   "id": "4c0df835-63da-4fc9-927e-9464ffb91004",
   "metadata": {},
   "outputs": [],
   "source": [
    "# Set an allowance\n",
    "tx = domain1Fiddy.functions.approve(domain1TokenMessengerAddr, 100).build_transaction(\n",
    "    {\n",
    "        \"from\":ACCT1,\n",
    "        \"nonce\": w3.eth.get_transaction_count(ACCT1),\n",
    "    }\n",
    ")"
   ]
  },
  {
   "cell_type": "code",
   "execution_count": 52,
   "id": "642951d8-e937-4624-a0e4-c9fe6b6ad62d",
   "metadata": {},
   "outputs": [
    {
     "name": "stdout",
     "output_type": "stream",
     "text": [
      "Tx successful with hash: 0xb5e86e684327fb1d2e082d53c3cb43b01238e576e9b9d8e13cd3f2edaaf3abb3\n",
      "New allowance: 100\n"
     ]
    }
   ],
   "source": [
    "signed_tx = w3.eth.account.sign_transaction(tx, ACCT1KEY)\n",
    "tx_hash = w3.eth.send_raw_transaction(signed_tx.rawTransaction)\n",
    "tx_receipt = w3.eth.wait_for_transaction_receipt(tx_hash)\n",
    "\n",
    "print(f\"Tx successful with hash: { tx_receipt.transactionHash.hex() }\")\n",
    "print(f\"New allowance: { domain1Fiddy.functions.allowance(ACCT1, domain1TokenMessengerAddr).call() }\")"
   ]
  },
  {
   "cell_type": "markdown",
   "id": "d3a4c5c6-0d5b-4ddf-9b3f-7872937d6669",
   "metadata": {},
   "source": [
    "## Deposit for Burn - Domain 1 Side"
   ]
  },
  {
   "cell_type": "code",
   "execution_count": 53,
   "id": "f959dbed-c4cd-429d-afe6-0e9f587c45fe",
   "metadata": {},
   "outputs": [
    {
     "data": {
      "text/plain": [
       "'00000000000000000000000046cd74668952f7c935d585bdfbb4ec524a9d4af7'"
      ]
     },
     "execution_count": 53,
     "metadata": {},
     "output_type": "execute_result"
    }
   ],
   "source": [
    "domain1TokenMessenger.functions.remoteTokenMessengers(2).call().hex()"
   ]
  },
  {
   "cell_type": "code",
   "execution_count": 54,
   "id": "d6c5e530-9ea6-4848-b7dd-a19eb941ab85",
   "metadata": {},
   "outputs": [],
   "source": [
    "# Deposit some coinage for burn - args are amount, destination domain, mint recipient, contract that burns the deposit\n",
    "tx = domain1TokenMessenger.functions.depositForBurn(1, 2, domain_2_mint_recipient, DOMAIN1_FIDDY_ADDRESS).build_transaction(\n",
    "     {\n",
    "        \"from\":ACCT1,\n",
    "        \"nonce\": w3.eth.get_transaction_count(ACCT1),\n",
    "    }\n",
    ")"
   ]
  },
  {
   "cell_type": "code",
   "execution_count": 55,
   "id": "0f0290dd-c038-4f8b-b4fc-c986c266e907",
   "metadata": {},
   "outputs": [
    {
     "name": "stdout",
     "output_type": "stream",
     "text": [
      "AttributeDict({'transactionHash': HexBytes('0x82b33b9e8138a09656f30bc3e108656e85e1fc04e97acfbab40a20f6ec290164'), 'transactionIndex': 0, 'blockHash': HexBytes('0x79b08faf6ca3748d99f525375af6f2bbd4cd1663266fca1f1fc7caea180e1c99'), 'blockNumber': 136, 'from': '0x9949f7e672a568bB3EBEB777D5e8D1c1107e96E5', 'to': '0x7649eAA2E7229ada48C34E58583CDd2fceA0BFEa', 'cumulativeGasUsed': 110288, 'gasUsed': 110288, 'contractAddress': None, 'logs': [AttributeDict({'address': '0x13B2DC341d5Ce2F9FF32c7e8aeFAe96ff2A35998', 'topics': [HexBytes('0xddf252ad1be2c89b69c2b068fc378daa952ba7f163c4a11628f55a4df523b3ef'), HexBytes('0x0000000000000000000000009949f7e672a568bb3ebeb777d5e8d1c1107e96e5'), HexBytes('0x000000000000000000000000b048dfccb459121b786de46dcaa81361495f9ee2')], 'data': '0x0000000000000000000000000000000000000000000000000000000000000001', 'blockHash': HexBytes('0x79b08faf6ca3748d99f525375af6f2bbd4cd1663266fca1f1fc7caea180e1c99'), 'blockNumber': 136, 'transactionHash': HexBytes('0x82b33b9e8138a09656f30bc3e108656e85e1fc04e97acfbab40a20f6ec290164'), 'transactionIndex': 0, 'logIndex': 0, 'transactionLogIndex': '0x0', 'removed': False}), AttributeDict({'address': '0x13B2DC341d5Ce2F9FF32c7e8aeFAe96ff2A35998', 'topics': [HexBytes('0xddf252ad1be2c89b69c2b068fc378daa952ba7f163c4a11628f55a4df523b3ef'), HexBytes('0x000000000000000000000000b048dfccb459121b786de46dcaa81361495f9ee2'), HexBytes('0x0000000000000000000000000000000000000000000000000000000000000000')], 'data': '0x0000000000000000000000000000000000000000000000000000000000000001', 'blockHash': HexBytes('0x79b08faf6ca3748d99f525375af6f2bbd4cd1663266fca1f1fc7caea180e1c99'), 'blockNumber': 136, 'transactionHash': HexBytes('0x82b33b9e8138a09656f30bc3e108656e85e1fc04e97acfbab40a20f6ec290164'), 'transactionIndex': 0, 'logIndex': 1, 'transactionLogIndex': '0x1', 'removed': False}), AttributeDict({'address': '0x4b8e6646Fbf67e6aBDe1352B7fE61BCB5252EB19', 'topics': [HexBytes('0x8c5261668696ce22758910d05bab8f186d6eb247ceac2af2e82c7dc17669b036')], 'data': '0x000000000000000000000000000000000000000000000000000000000000002000000000000000000000000000000000000000000000000000000000000000f800000000000000010000000200000000000000000000000000000000000000007649eaa2e7229ada48c34e58583cdd2fcea0bfea00000000000000000000000046cd74668952f7c935d585bdfbb4ec524a9d4af700000000000000000000000000000000000000000000000000000000000000000000000000000000000000000000000013b2dc341d5ce2f9ff32c7e8aefae96ff2a35998b4c3d79cdc0eb7a8576a8bf224bbc6bec790c32000000000000000000000000000000000000000000000000000000000000000000000000000000000000000010000000000000000000000009949f7e672a568bb3ebeb777d5e8d1c1107e96e50000000000000000', 'blockHash': HexBytes('0x79b08faf6ca3748d99f525375af6f2bbd4cd1663266fca1f1fc7caea180e1c99'), 'blockNumber': 136, 'transactionHash': HexBytes('0x82b33b9e8138a09656f30bc3e108656e85e1fc04e97acfbab40a20f6ec290164'), 'transactionIndex': 0, 'logIndex': 2, 'transactionLogIndex': '0x2', 'removed': False}), AttributeDict({'address': '0x7649eAA2E7229ada48C34E58583CDd2fceA0BFEa', 'topics': [HexBytes('0x2fa9ca894982930190727e75500a97d8dc500233a5065e0f3126c48fbe0343c0'), HexBytes('0x0000000000000000000000000000000000000000000000000000000000000000'), HexBytes('0x00000000000000000000000013b2dc341d5ce2f9ff32c7e8aefae96ff2a35998'), HexBytes('0x0000000000000000000000009949f7e672a568bb3ebeb777d5e8d1c1107e96e5')], 'data': '0x0000000000000000000000000000000000000000000000000000000000000001b4c3d79cdc0eb7a8576a8bf224bbc6bec790c320000000000000000000000000000000000000000000000000000000000000000000000000000000000000000200000000000000000000000046cd74668952f7c935d585bdfbb4ec524a9d4af70000000000000000000000000000000000000000000000000000000000000000', 'blockHash': HexBytes('0x79b08faf6ca3748d99f525375af6f2bbd4cd1663266fca1f1fc7caea180e1c99'), 'blockNumber': 136, 'transactionHash': HexBytes('0x82b33b9e8138a09656f30bc3e108656e85e1fc04e97acfbab40a20f6ec290164'), 'transactionIndex': 0, 'logIndex': 3, 'transactionLogIndex': '0x3', 'removed': False})], 'status': 1, 'logsBloom': HexBytes('0x00000000000000000000000000000400000000000000000440000000000000000000000000000200000000000000000000000000000000000000000000000000000000800000000000000008000000001000000000000000000200800000000000000000020000000000000000000800000000000040000000100012020000000000000000000800000000000000000000000000000400000000000000000000000000000000000000000020000080000004000000080000000000000000000000000002000000000400000000000000000000000000010000000000000020000000000400000000000000080000000000000000001000000000000008000000'), 'type': '0x2', 'effectiveGasPrice': 1000000111})\n",
      "Tx successful with hash: 0x82b33b9e8138a09656f30bc3e108656e85e1fc04e97acfbab40a20f6ec290164\n"
     ]
    }
   ],
   "source": [
    "signed_tx = w3.eth.account.sign_transaction(tx, ACCT1KEY)\n",
    "tx_hash = w3.eth.send_raw_transaction(signed_tx.rawTransaction)\n",
    "tx_receipt = w3.eth.wait_for_transaction_receipt(tx_hash)\n",
    "print(tx_receipt)\n",
    "print(f\"Tx successful with hash: { tx_receipt.transactionHash.hex() }\")"
   ]
  },
  {
   "cell_type": "code",
   "execution_count": 56,
   "id": "dfb255cd-de6e-45a6-be58-618c4020e8fd",
   "metadata": {},
   "outputs": [
    {
     "data": {
      "text/plain": [
       "99"
      ]
     },
     "execution_count": 56,
     "metadata": {},
     "output_type": "execute_result"
    }
   ],
   "source": [
    "domain1Fiddy.functions.balanceOf(ACCT1).call()"
   ]
  },
  {
   "cell_type": "code",
   "execution_count": 57,
   "id": "e438b122-1758-4d33-ba21-a5e4767a093b",
   "metadata": {},
   "outputs": [
    {
     "data": {
      "text/plain": [
       "999999999999999999999999999"
      ]
     },
     "execution_count": 57,
     "metadata": {},
     "output_type": "execute_result"
    }
   ],
   "source": [
    "domain1Fiddy.functions.totalSupply().call()"
   ]
  },
  {
   "cell_type": "markdown",
   "id": "e467c863-82f0-49c9-b4b2-d6027866cbec",
   "metadata": {},
   "source": [
    "## Message Transmitter Events"
   ]
  },
  {
   "cell_type": "code",
   "execution_count": 58,
   "id": "6535fb1f-b0a9-4d96-9766-19abca55b8ee",
   "metadata": {},
   "outputs": [
    {
     "name": "stdout",
     "output_type": "stream",
     "text": [
      "/home/dsmith/code/evm-cctp-contracts/out/MessageTransmitter.sol/MessageTransmitter.json\n"
     ]
    }
   ],
   "source": [
    "msgTransmitterAbiFile = home[0] + '/code/evm-cctp-contracts/out/MessageTransmitter.sol/MessageTransmitter.json'\n",
    "print(msgTransmitterAbiFile)"
   ]
  },
  {
   "cell_type": "code",
   "execution_count": 59,
   "id": "75a24463-21d2-4558-9a66-5e2173dcd372",
   "metadata": {},
   "outputs": [],
   "source": [
    "with open(msgTransmitterAbiFile) as f:\n",
    "    mt_json = json.load(f)\n",
    "\n",
    "msgTransmitterAbi = mt_json['abi']"
   ]
  },
  {
   "cell_type": "code",
   "execution_count": 60,
   "id": "83a93053-6350-457d-b57c-5b2932d6cb6b",
   "metadata": {},
   "outputs": [
    {
     "name": "stdout",
     "output_type": "stream",
     "text": [
      "[{'inputs': [{'internalType': 'uint32', 'name': '_localDomain', 'type': 'uint32'}, {'internalType': 'address', 'name': '_attester', 'type': 'address'}, {'internalType': 'uint32', 'name': '_maxMessageBodySize', 'type': 'uint32'}, {'internalType': 'uint32', 'name': '_version', 'type': 'uint32'}], 'stateMutability': 'nonpayable', 'type': 'constructor'}, {'anonymous': False, 'inputs': [{'indexed': True, 'internalType': 'address', 'name': 'attester', 'type': 'address'}], 'name': 'AttesterDisabled', 'type': 'event'}, {'anonymous': False, 'inputs': [{'indexed': True, 'internalType': 'address', 'name': 'attester', 'type': 'address'}], 'name': 'AttesterEnabled', 'type': 'event'}, {'anonymous': False, 'inputs': [{'indexed': True, 'internalType': 'address', 'name': 'previousAttesterManager', 'type': 'address'}, {'indexed': True, 'internalType': 'address', 'name': 'newAttesterManager', 'type': 'address'}], 'name': 'AttesterManagerUpdated', 'type': 'event'}, {'anonymous': False, 'inputs': [{'indexed': False, 'internalType': 'uint256', 'name': 'newMaxMessageBodySize', 'type': 'uint256'}], 'name': 'MaxMessageBodySizeUpdated', 'type': 'event'}, {'anonymous': False, 'inputs': [{'indexed': True, 'internalType': 'address', 'name': 'caller', 'type': 'address'}, {'indexed': False, 'internalType': 'uint32', 'name': 'sourceDomain', 'type': 'uint32'}, {'indexed': True, 'internalType': 'uint64', 'name': 'nonce', 'type': 'uint64'}, {'indexed': False, 'internalType': 'bytes32', 'name': 'sender', 'type': 'bytes32'}, {'indexed': False, 'internalType': 'bytes', 'name': 'messageBody', 'type': 'bytes'}], 'name': 'MessageReceived', 'type': 'event'}, {'anonymous': False, 'inputs': [{'indexed': False, 'internalType': 'bytes', 'name': 'message', 'type': 'bytes'}], 'name': 'MessageSent', 'type': 'event'}, {'anonymous': False, 'inputs': [{'indexed': True, 'internalType': 'address', 'name': 'previousOwner', 'type': 'address'}, {'indexed': True, 'internalType': 'address', 'name': 'newOwner', 'type': 'address'}], 'name': 'OwnershipTransferStarted', 'type': 'event'}, {'anonymous': False, 'inputs': [{'indexed': True, 'internalType': 'address', 'name': 'previousOwner', 'type': 'address'}, {'indexed': True, 'internalType': 'address', 'name': 'newOwner', 'type': 'address'}], 'name': 'OwnershipTransferred', 'type': 'event'}, {'anonymous': False, 'inputs': [], 'name': 'Pause', 'type': 'event'}, {'anonymous': False, 'inputs': [{'indexed': True, 'internalType': 'address', 'name': 'newAddress', 'type': 'address'}], 'name': 'PauserChanged', 'type': 'event'}, {'anonymous': False, 'inputs': [{'indexed': True, 'internalType': 'address', 'name': 'newRescuer', 'type': 'address'}], 'name': 'RescuerChanged', 'type': 'event'}, {'anonymous': False, 'inputs': [{'indexed': False, 'internalType': 'uint256', 'name': 'oldSignatureThreshold', 'type': 'uint256'}, {'indexed': False, 'internalType': 'uint256', 'name': 'newSignatureThreshold', 'type': 'uint256'}], 'name': 'SignatureThresholdUpdated', 'type': 'event'}, {'anonymous': False, 'inputs': [], 'name': 'Unpause', 'type': 'event'}, {'inputs': [], 'name': 'acceptOwnership', 'outputs': [], 'stateMutability': 'nonpayable', 'type': 'function'}, {'inputs': [], 'name': 'attesterManager', 'outputs': [{'internalType': 'address', 'name': '', 'type': 'address'}], 'stateMutability': 'view', 'type': 'function'}, {'inputs': [{'internalType': 'address', 'name': 'attester', 'type': 'address'}], 'name': 'disableAttester', 'outputs': [], 'stateMutability': 'nonpayable', 'type': 'function'}, {'inputs': [{'internalType': 'address', 'name': 'newAttester', 'type': 'address'}], 'name': 'enableAttester', 'outputs': [], 'stateMutability': 'nonpayable', 'type': 'function'}, {'inputs': [{'internalType': 'uint256', 'name': 'index', 'type': 'uint256'}], 'name': 'getEnabledAttester', 'outputs': [{'internalType': 'address', 'name': '', 'type': 'address'}], 'stateMutability': 'view', 'type': 'function'}, {'inputs': [], 'name': 'getNumEnabledAttesters', 'outputs': [{'internalType': 'uint256', 'name': '', 'type': 'uint256'}], 'stateMutability': 'view', 'type': 'function'}, {'inputs': [{'internalType': 'address', 'name': 'attester', 'type': 'address'}], 'name': 'isEnabledAttester', 'outputs': [{'internalType': 'bool', 'name': '', 'type': 'bool'}], 'stateMutability': 'view', 'type': 'function'}, {'inputs': [], 'name': 'localDomain', 'outputs': [{'internalType': 'uint32', 'name': '', 'type': 'uint32'}], 'stateMutability': 'view', 'type': 'function'}, {'inputs': [], 'name': 'maxMessageBodySize', 'outputs': [{'internalType': 'uint256', 'name': '', 'type': 'uint256'}], 'stateMutability': 'view', 'type': 'function'}, {'inputs': [], 'name': 'nextAvailableNonce', 'outputs': [{'internalType': 'uint64', 'name': '', 'type': 'uint64'}], 'stateMutability': 'view', 'type': 'function'}, {'inputs': [], 'name': 'owner', 'outputs': [{'internalType': 'address', 'name': '', 'type': 'address'}], 'stateMutability': 'view', 'type': 'function'}, {'inputs': [], 'name': 'pause', 'outputs': [], 'stateMutability': 'nonpayable', 'type': 'function'}, {'inputs': [], 'name': 'paused', 'outputs': [{'internalType': 'bool', 'name': '', 'type': 'bool'}], 'stateMutability': 'view', 'type': 'function'}, {'inputs': [], 'name': 'pauser', 'outputs': [{'internalType': 'address', 'name': '', 'type': 'address'}], 'stateMutability': 'view', 'type': 'function'}, {'inputs': [], 'name': 'pendingOwner', 'outputs': [{'internalType': 'address', 'name': '', 'type': 'address'}], 'stateMutability': 'view', 'type': 'function'}, {'inputs': [{'internalType': 'bytes', 'name': 'message', 'type': 'bytes'}, {'internalType': 'bytes', 'name': 'attestation', 'type': 'bytes'}], 'name': 'receiveMessage', 'outputs': [{'internalType': 'bool', 'name': 'success', 'type': 'bool'}], 'stateMutability': 'nonpayable', 'type': 'function'}, {'inputs': [{'internalType': 'bytes', 'name': 'originalMessage', 'type': 'bytes'}, {'internalType': 'bytes', 'name': 'originalAttestation', 'type': 'bytes'}, {'internalType': 'bytes', 'name': 'newMessageBody', 'type': 'bytes'}, {'internalType': 'bytes32', 'name': 'newDestinationCaller', 'type': 'bytes32'}], 'name': 'replaceMessage', 'outputs': [], 'stateMutability': 'nonpayable', 'type': 'function'}, {'inputs': [{'internalType': 'contract IERC20', 'name': 'tokenContract', 'type': 'address'}, {'internalType': 'address', 'name': 'to', 'type': 'address'}, {'internalType': 'uint256', 'name': 'amount', 'type': 'uint256'}], 'name': 'rescueERC20', 'outputs': [], 'stateMutability': 'nonpayable', 'type': 'function'}, {'inputs': [], 'name': 'rescuer', 'outputs': [{'internalType': 'address', 'name': '', 'type': 'address'}], 'stateMutability': 'view', 'type': 'function'}, {'inputs': [{'internalType': 'uint32', 'name': 'destinationDomain', 'type': 'uint32'}, {'internalType': 'bytes32', 'name': 'recipient', 'type': 'bytes32'}, {'internalType': 'bytes', 'name': 'messageBody', 'type': 'bytes'}], 'name': 'sendMessage', 'outputs': [{'internalType': 'uint64', 'name': '', 'type': 'uint64'}], 'stateMutability': 'nonpayable', 'type': 'function'}, {'inputs': [{'internalType': 'uint32', 'name': 'destinationDomain', 'type': 'uint32'}, {'internalType': 'bytes32', 'name': 'recipient', 'type': 'bytes32'}, {'internalType': 'bytes32', 'name': 'destinationCaller', 'type': 'bytes32'}, {'internalType': 'bytes', 'name': 'messageBody', 'type': 'bytes'}], 'name': 'sendMessageWithCaller', 'outputs': [{'internalType': 'uint64', 'name': '', 'type': 'uint64'}], 'stateMutability': 'nonpayable', 'type': 'function'}, {'inputs': [{'internalType': 'uint256', 'name': 'newMaxMessageBodySize', 'type': 'uint256'}], 'name': 'setMaxMessageBodySize', 'outputs': [], 'stateMutability': 'nonpayable', 'type': 'function'}, {'inputs': [{'internalType': 'uint256', 'name': 'newSignatureThreshold', 'type': 'uint256'}], 'name': 'setSignatureThreshold', 'outputs': [], 'stateMutability': 'nonpayable', 'type': 'function'}, {'inputs': [], 'name': 'signatureThreshold', 'outputs': [{'internalType': 'uint256', 'name': '', 'type': 'uint256'}], 'stateMutability': 'view', 'type': 'function'}, {'inputs': [{'internalType': 'address', 'name': 'newOwner', 'type': 'address'}], 'name': 'transferOwnership', 'outputs': [], 'stateMutability': 'nonpayable', 'type': 'function'}, {'inputs': [], 'name': 'unpause', 'outputs': [], 'stateMutability': 'nonpayable', 'type': 'function'}, {'inputs': [{'internalType': 'address', 'name': 'newAttesterManager', 'type': 'address'}], 'name': 'updateAttesterManager', 'outputs': [], 'stateMutability': 'nonpayable', 'type': 'function'}, {'inputs': [{'internalType': 'address', 'name': '_newPauser', 'type': 'address'}], 'name': 'updatePauser', 'outputs': [], 'stateMutability': 'nonpayable', 'type': 'function'}, {'inputs': [{'internalType': 'address', 'name': 'newRescuer', 'type': 'address'}], 'name': 'updateRescuer', 'outputs': [], 'stateMutability': 'nonpayable', 'type': 'function'}, {'inputs': [{'internalType': 'bytes32', 'name': '', 'type': 'bytes32'}], 'name': 'usedNonces', 'outputs': [{'internalType': 'uint256', 'name': '', 'type': 'uint256'}], 'stateMutability': 'view', 'type': 'function'}, {'inputs': [], 'name': 'version', 'outputs': [{'internalType': 'uint32', 'name': '', 'type': 'uint32'}], 'stateMutability': 'view', 'type': 'function'}]\n"
     ]
    }
   ],
   "source": [
    "print(msgTransmitterAbi)"
   ]
  },
  {
   "cell_type": "code",
   "execution_count": 61,
   "id": "2197113b-9d3c-4fcc-b0f3-6119259180b4",
   "metadata": {},
   "outputs": [],
   "source": [
    "domain1MessageTransmitter = w3.eth.contract(address=domain1MessageTransmitterAddr, abi=msgTransmitterAbi)"
   ]
  },
  {
   "cell_type": "code",
   "execution_count": null,
   "id": "4b7dc5db-6ab6-405c-a0b4-a8220edec933",
   "metadata": {},
   "outputs": [],
   "source": []
  },
  {
   "cell_type": "markdown",
   "id": "c2504997-1ad2-490e-8f61-ef521394e41f",
   "metadata": {},
   "source": []
  },
  {
   "cell_type": "code",
   "execution_count": 62,
   "id": "1d4c7979-b9dc-49dd-a203-52f476184dbc",
   "metadata": {},
   "outputs": [
    {
     "name": "stdout",
     "output_type": "stream",
     "text": [
      "(AttributeDict({'args': AttributeDict({'message': b'\\x00\\x00\\x00\\x00\\x00\\x00\\x00\\x01\\x00\\x00\\x00\\x02\\x00\\x00\\x00\\x00\\x00\\x00\\x00\\x00\\x00\\x00\\x00\\x00\\x00\\x00\\x00\\x00\\x00\\x00\\x00\\x00vI\\xea\\xa2\\xe7\"\\x9a\\xdaH\\xc3NXX<\\xdd/\\xce\\xa0\\xbf\\xea\\x00\\x00\\x00\\x00\\x00\\x00\\x00\\x00\\x00\\x00\\x00\\x00F\\xcdtf\\x89R\\xf7\\xc95\\xd5\\x85\\xbd\\xfb\\xb4\\xecRJ\\x9dJ\\xf7\\x00\\x00\\x00\\x00\\x00\\x00\\x00\\x00\\x00\\x00\\x00\\x00\\x00\\x00\\x00\\x00\\x00\\x00\\x00\\x00\\x00\\x00\\x00\\x00\\x00\\x00\\x00\\x00\\x00\\x00\\x00\\x00\\x00\\x00\\x00\\x00\\x00\\x00\\x00\\x00\\x00\\x00\\x00\\x00\\x00\\x00\\x00\\x00\\x13\\xb2\\xdc4\\x1d\\\\\\xe2\\xf9\\xff2\\xc7\\xe8\\xae\\xfa\\xe9o\\xf2\\xa3Y\\x98\\xb4\\xc3\\xd7\\x9c\\xdc\\x0e\\xb7\\xa8Wj\\x8b\\xf2$\\xbb\\xc6\\xbe\\xc7\\x90\\xc3 \\x00\\x00\\x00\\x00\\x00\\x00\\x00\\x00\\x00\\x00\\x00\\x00\\x00\\x00\\x00\\x00\\x00\\x00\\x00\\x00\\x00\\x00\\x00\\x00\\x00\\x00\\x00\\x00\\x00\\x00\\x00\\x00\\x00\\x00\\x00\\x00\\x00\\x00\\x00\\x00\\x00\\x00\\x00\\x01\\x00\\x00\\x00\\x00\\x00\\x00\\x00\\x00\\x00\\x00\\x00\\x00\\x99I\\xf7\\xe6r\\xa5h\\xbb>\\xbe\\xb7w\\xd5\\xe8\\xd1\\xc1\\x10~\\x96\\xe5'}), 'event': 'MessageSent', 'logIndex': 2, 'transactionIndex': 0, 'transactionHash': HexBytes('0x82b33b9e8138a09656f30bc3e108656e85e1fc04e97acfbab40a20f6ec290164'), 'address': '0x4b8e6646Fbf67e6aBDe1352B7fE61BCB5252EB19', 'blockHash': HexBytes('0x79b08faf6ca3748d99f525375af6f2bbd4cd1663266fca1f1fc7caea180e1c99'), 'blockNumber': 136}),)\n"
     ]
    }
   ],
   "source": [
    "messageSentEvents = domain1MessageTransmitter.events.MessageSent.getLogs(fromBlock=1)\n",
    "print(messageSentEvents)"
   ]
  },
  {
   "cell_type": "code",
   "execution_count": 63,
   "id": "b2dac009-a030-4ef7-a215-8e9a66f22236",
   "metadata": {},
   "outputs": [
    {
     "data": {
      "text/plain": [
       "tuple"
      ]
     },
     "execution_count": 63,
     "metadata": {},
     "output_type": "execute_result"
    }
   ],
   "source": [
    "type(messageSentEvents)"
   ]
  },
  {
   "cell_type": "code",
   "execution_count": 64,
   "id": "c57558e9-c965-4fa3-a999-25a1ea64d419",
   "metadata": {},
   "outputs": [
    {
     "data": {
      "text/plain": [
       "1"
      ]
     },
     "execution_count": 64,
     "metadata": {},
     "output_type": "execute_result"
    }
   ],
   "source": [
    "len(messageSentEvents)"
   ]
  },
  {
   "cell_type": "code",
   "execution_count": 65,
   "id": "58627cd5-11c7-4d4c-9c2e-f5562c79623b",
   "metadata": {},
   "outputs": [],
   "source": [
    "lastMessageSentEvent = messageSentEvents[len(messageSentEvents) - 1]"
   ]
  },
  {
   "cell_type": "code",
   "execution_count": 66,
   "id": "3632d48c-c807-4c21-9495-8c564562f040",
   "metadata": {},
   "outputs": [
    {
     "data": {
      "text/plain": [
       "AttributeDict({'args': AttributeDict({'message': b'\\x00\\x00\\x00\\x00\\x00\\x00\\x00\\x01\\x00\\x00\\x00\\x02\\x00\\x00\\x00\\x00\\x00\\x00\\x00\\x00\\x00\\x00\\x00\\x00\\x00\\x00\\x00\\x00\\x00\\x00\\x00\\x00vI\\xea\\xa2\\xe7\"\\x9a\\xdaH\\xc3NXX<\\xdd/\\xce\\xa0\\xbf\\xea\\x00\\x00\\x00\\x00\\x00\\x00\\x00\\x00\\x00\\x00\\x00\\x00F\\xcdtf\\x89R\\xf7\\xc95\\xd5\\x85\\xbd\\xfb\\xb4\\xecRJ\\x9dJ\\xf7\\x00\\x00\\x00\\x00\\x00\\x00\\x00\\x00\\x00\\x00\\x00\\x00\\x00\\x00\\x00\\x00\\x00\\x00\\x00\\x00\\x00\\x00\\x00\\x00\\x00\\x00\\x00\\x00\\x00\\x00\\x00\\x00\\x00\\x00\\x00\\x00\\x00\\x00\\x00\\x00\\x00\\x00\\x00\\x00\\x00\\x00\\x00\\x00\\x13\\xb2\\xdc4\\x1d\\\\\\xe2\\xf9\\xff2\\xc7\\xe8\\xae\\xfa\\xe9o\\xf2\\xa3Y\\x98\\xb4\\xc3\\xd7\\x9c\\xdc\\x0e\\xb7\\xa8Wj\\x8b\\xf2$\\xbb\\xc6\\xbe\\xc7\\x90\\xc3 \\x00\\x00\\x00\\x00\\x00\\x00\\x00\\x00\\x00\\x00\\x00\\x00\\x00\\x00\\x00\\x00\\x00\\x00\\x00\\x00\\x00\\x00\\x00\\x00\\x00\\x00\\x00\\x00\\x00\\x00\\x00\\x00\\x00\\x00\\x00\\x00\\x00\\x00\\x00\\x00\\x00\\x00\\x00\\x01\\x00\\x00\\x00\\x00\\x00\\x00\\x00\\x00\\x00\\x00\\x00\\x00\\x99I\\xf7\\xe6r\\xa5h\\xbb>\\xbe\\xb7w\\xd5\\xe8\\xd1\\xc1\\x10~\\x96\\xe5'}),\n",
       " 'event': 'MessageSent',\n",
       " 'logIndex': 2,\n",
       " 'transactionIndex': 0,\n",
       " 'transactionHash': HexBytes('0x82b33b9e8138a09656f30bc3e108656e85e1fc04e97acfbab40a20f6ec290164'),\n",
       " 'address': '0x4b8e6646Fbf67e6aBDe1352B7fE61BCB5252EB19',\n",
       " 'blockHash': HexBytes('0x79b08faf6ca3748d99f525375af6f2bbd4cd1663266fca1f1fc7caea180e1c99'),\n",
       " 'blockNumber': 136})"
      ]
     },
     "execution_count": 66,
     "metadata": {},
     "output_type": "execute_result"
    }
   ],
   "source": [
    "lastMessageSentEvent"
   ]
  },
  {
   "cell_type": "code",
   "execution_count": 67,
   "id": "e6a87a7d-970b-46f9-93a6-b04ce4190fdd",
   "metadata": {},
   "outputs": [
    {
     "name": "stdout",
     "output_type": "stream",
     "text": [
      "00000000000000010000000200000000000000000000000000000000000000007649eaa2e7229ada48c34e58583cdd2fcea0bfea00000000000000000000000046cd74668952f7c935d585bdfbb4ec524a9d4af700000000000000000000000000000000000000000000000000000000000000000000000000000000000000000000000013b2dc341d5ce2f9ff32c7e8aefae96ff2a35998b4c3d79cdc0eb7a8576a8bf224bbc6bec790c32000000000000000000000000000000000000000000000000000000000000000000000000000000000000000010000000000000000000000009949f7e672a568bb3ebeb777d5e8d1c1107e96e5\n"
     ]
    }
   ],
   "source": [
    "messageSentBytes = lastMessageSentEvent.args.message\n",
    "print(messageSentBytes.hex())"
   ]
  },
  {
   "cell_type": "markdown",
   "id": "951ddc75-5b70-441a-b97b-311d8ea2560e",
   "metadata": {},
   "source": [
    "## Attestation\n",
    "\n"
   ]
  },
  {
   "cell_type": "code",
   "execution_count": 68,
   "id": "95327e35-28e4-4dfe-99d9-848868b1ed15",
   "metadata": {},
   "outputs": [],
   "source": [
    "mbHash = Web3.keccak(messageSentBytes)\n",
    "signedHash = w3.eth.account.signHash(mbHash, private_key=attestor_key)"
   ]
  },
  {
   "cell_type": "markdown",
   "id": "e97e6543-6964-4c50-8c5e-d46a735673bc",
   "metadata": {},
   "source": [
    "## Redeem Using Attested Message"
   ]
  },
  {
   "cell_type": "code",
   "execution_count": 83,
   "id": "bf96c6b6-a6bb-44f7-86c0-c1504a4c34e7",
   "metadata": {},
   "outputs": [],
   "source": [
    "# To redeem on polygon, we call ReceiveMessage on message transmitter\n",
    "domain2MessageTransmitter = w3.eth.contract(address=domain2MessageTransmitterAddr, abi=msgTransmitterAbi)"
   ]
  },
  {
   "cell_type": "code",
   "execution_count": 84,
   "id": "8fa10de9-c5bf-4cb7-b6d4-a8f9661e59a9",
   "metadata": {},
   "outputs": [
    {
     "data": {
      "text/plain": [
       "'0xe7793E36AAf773A408d28cf5873c671b684F12b3'"
      ]
     },
     "execution_count": 84,
     "metadata": {},
     "output_type": "execute_result"
    }
   ],
   "source": [
    "domain2MessageTransmitterAddr"
   ]
  },
  {
   "cell_type": "code",
   "execution_count": 85,
   "id": "0165ede4-ad29-4399-9368-e5b53053435b",
   "metadata": {},
   "outputs": [
    {
     "data": {
      "text/plain": [
       "'0x4b8e6646Fbf67e6aBDe1352B7fE61BCB5252EB19'"
      ]
     },
     "execution_count": 85,
     "metadata": {},
     "output_type": "execute_result"
    }
   ],
   "source": [
    "domain1MessageTransmitterAddr"
   ]
  },
  {
   "cell_type": "code",
   "execution_count": 86,
   "id": "c25fe08d-027e-464a-9a9f-3ffb8d63ee89",
   "metadata": {},
   "outputs": [
    {
     "data": {
      "text/plain": [
       "1"
      ]
     },
     "execution_count": 86,
     "metadata": {},
     "output_type": "execute_result"
    }
   ],
   "source": [
    "domain1MessageTransmitter.functions.localDomain().call()"
   ]
  },
  {
   "cell_type": "code",
   "execution_count": 87,
   "id": "8316bde5-7cf4-49ba-b0e6-517884720343",
   "metadata": {},
   "outputs": [
    {
     "data": {
      "text/plain": [
       "2"
      ]
     },
     "execution_count": 87,
     "metadata": {},
     "output_type": "execute_result"
    }
   ],
   "source": [
    "domain2MessageTransmitter.functions.localDomain().call()"
   ]
  },
  {
   "cell_type": "code",
   "execution_count": 88,
   "id": "b3b530c6-e203-4538-be3e-9a804552fd12",
   "metadata": {},
   "outputs": [
    {
     "data": {
      "text/plain": [
       "0"
      ]
     },
     "execution_count": 88,
     "metadata": {},
     "output_type": "execute_result"
    }
   ],
   "source": [
    "domain2MessageTransmitter.functions.nextAvailableNonce().call()"
   ]
  },
  {
   "cell_type": "code",
   "execution_count": 89,
   "id": "13aaeefe-c2ee-4e98-85cc-732abda236fc",
   "metadata": {},
   "outputs": [
    {
     "data": {
      "text/plain": [
       "1"
      ]
     },
     "execution_count": 89,
     "metadata": {},
     "output_type": "execute_result"
    }
   ],
   "source": [
    "domain2MessageTransmitter.functions.getNumEnabledAttesters().call()"
   ]
  },
  {
   "cell_type": "code",
   "execution_count": 90,
   "id": "ef4f6dfa-6a67-4094-b317-019bbaf24a51",
   "metadata": {},
   "outputs": [
    {
     "data": {
      "text/plain": [
       "'0x549381D65fe61046911d11743D5c0941Ed704640'"
      ]
     },
     "execution_count": 90,
     "metadata": {},
     "output_type": "execute_result"
    }
   ],
   "source": [
    "domain2MessageTransmitter.functions.getEnabledAttester(0).call()"
   ]
  },
  {
   "cell_type": "code",
   "execution_count": 91,
   "id": "b8038ee2-0e04-4122-a1c4-9626eb3a3c86",
   "metadata": {},
   "outputs": [
    {
     "data": {
      "text/plain": [
       "True"
      ]
     },
     "execution_count": 91,
     "metadata": {},
     "output_type": "execute_result"
    }
   ],
   "source": [
    "domain2MessageTransmitter.functions.getEnabledAttester(0).call() == attestor"
   ]
  },
  {
   "cell_type": "code",
   "execution_count": 92,
   "id": "ab3ac74f-90c2-49f8-95da-cf8bec9fd4f7",
   "metadata": {},
   "outputs": [
    {
     "data": {
      "text/plain": [
       "'00000000000000010000000200000000000000000000000000000000000000007649eaa2e7229ada48c34e58583cdd2fcea0bfea00000000000000000000000046cd74668952f7c935d585bdfbb4ec524a9d4af700000000000000000000000000000000000000000000000000000000000000000000000000000000000000000000000013b2dc341d5ce2f9ff32c7e8aefae96ff2a35998b4c3d79cdc0eb7a8576a8bf224bbc6bec790c32000000000000000000000000000000000000000000000000000000000000000000000000000000000000000010000000000000000000000009949f7e672a568bb3ebeb777d5e8d1c1107e96e5'"
      ]
     },
     "execution_count": 92,
     "metadata": {},
     "output_type": "execute_result"
    }
   ],
   "source": [
    "messageSentBytes.hex()"
   ]
  },
  {
   "cell_type": "code",
   "execution_count": 93,
   "id": "cf6512fd-8948-47d1-b405-e2cd35dfe107",
   "metadata": {},
   "outputs": [],
   "source": [
    "domain2TokenMessenger = w3.eth.contract(address=domain2TokenMessengerAddr, abi=tokenMessengerAbi)"
   ]
  },
  {
   "cell_type": "code",
   "execution_count": 94,
   "id": "207da8f3-0999-4b71-b77a-a2664d74199e",
   "metadata": {},
   "outputs": [
    {
     "data": {
      "text/plain": [
       "'0xF1ABDd310E026aa7D797298Ea4D4c32447f7049B'"
      ]
     },
     "execution_count": 94,
     "metadata": {},
     "output_type": "execute_result"
    }
   ],
   "source": [
    "domain2TokenMessenger.functions.localMinter().call()"
   ]
  },
  {
   "cell_type": "code",
   "execution_count": 97,
   "id": "005991e2-c1ae-4dab-9931-6e4c931baf51",
   "metadata": {},
   "outputs": [
    {
     "data": {
      "text/plain": [
       "True"
      ]
     },
     "execution_count": 97,
     "metadata": {},
     "output_type": "execute_result"
    }
   ],
   "source": [
    "domain2MessageTransmitter.functions.isEnabledAttester(attestor).call()"
   ]
  },
  {
   "cell_type": "code",
   "execution_count": null,
   "id": "dd4eaea3-0d44-4456-b13e-625a9aef6b17",
   "metadata": {},
   "outputs": [],
   "source": [
    "tx = domain2MessageTransmitter.functions.receiveMessage(messageSentBytes,signedHash.signature).build_transaction({\n",
    "    \"from\":domain_2_acct,\n",
    "    \"nonce\": w3.eth.get_transaction_count(domain_2_acct),\n",
    "})"
   ]
  },
  {
   "cell_type": "code",
   "execution_count": null,
   "id": "2c78bcf9-210d-488d-8b50-47cf5a64960a",
   "metadata": {},
   "outputs": [],
   "source": [
    "pgMessageTransmitter.functions."
   ]
  }
 ],
 "metadata": {
  "kernelspec": {
   "display_name": "Python 3 (ipykernel)",
   "language": "python",
   "name": "python3"
  },
  "language_info": {
   "codemirror_mode": {
    "name": "ipython",
    "version": 3
   },
   "file_extension": ".py",
   "mimetype": "text/x-python",
   "name": "python",
   "nbconvert_exporter": "python",
   "pygments_lexer": "ipython3",
   "version": "3.8.10"
  }
 },
 "nbformat": 4,
 "nbformat_minor": 5
}
