{
 "cells": [
  {
   "cell_type": "code",
   "execution_count": null,
   "id": "a34f6aae-8780-46a9-8eab-ecde2f0b5727",
   "metadata": {},
   "outputs": [],
   "source": [
    "from web3 import Web3"
   ]
  },
  {
   "cell_type": "code",
   "execution_count": null,
   "id": "af1d4f02-0503-4150-ba65-6ea3ead7029d",
   "metadata": {},
   "outputs": [],
   "source": [
    "w3 = Web3(Web3.HTTPProvider('http://127.0.0.1:8545'))"
   ]
  },
  {
   "cell_type": "code",
   "execution_count": null,
   "id": "18970d94-826c-49b3-adc9-be3bea751009",
   "metadata": {},
   "outputs": [],
   "source": [
    "w3"
   ]
  },
  {
   "cell_type": "code",
   "execution_count": null,
   "id": "3ac12813-1657-4400-92b9-00c870e87b2b",
   "metadata": {},
   "outputs": [],
   "source": [
    "w3.isConnected()"
   ]
  },
  {
   "cell_type": "code",
   "execution_count": null,
   "id": "b00a3654-fcb3-4e19-90f3-153d9c510a68",
   "metadata": {},
   "outputs": [],
   "source": [
    "w3.eth.get_block('latest')"
   ]
  },
  {
   "cell_type": "code",
   "execution_count": null,
   "id": "a61e2154-7d83-43b7-a48b-1c2a65fe4e21",
   "metadata": {},
   "outputs": [],
   "source": [
    "import os\n",
    "\n",
    "home = os.environ['HOME']\n",
    "print(home)\n",
    "abiFile = home + '/code/evm-cctp-contracts/out/TokenMessenger.sol/TokenMessenger.json'\n",
    "print(abiFile)"
   ]
  },
  {
   "cell_type": "code",
   "execution_count": null,
   "id": "deb9d268-7d8f-475c-8435-9a59c0a8cc8d",
   "metadata": {},
   "outputs": [],
   "source": [
    "import json\n",
    "\n",
    "with open(abiFile) as f:\n",
    "    info_json = json.load(f)\n",
    "\n",
    "abi = info_json['abi']\n",
    "print(abi)"
   ]
  },
  {
   "cell_type": "code",
   "execution_count": null,
   "id": "b9ecebd4-97d8-4f8c-9d8e-3ecda2df7a87",
   "metadata": {},
   "outputs": [],
   "source": [
    "tokenMessengerAddr = '0x738D1D469142E3779A28927cA610bCf4156b169B'"
   ]
  },
  {
   "cell_type": "code",
   "execution_count": null,
   "id": "a658b370-87cf-4c10-af18-d818a489912d",
   "metadata": {},
   "outputs": [],
   "source": [
    "tm = w3.eth.contract(address=tokenMessengerAddr, abi=abi)"
   ]
  },
  {
   "cell_type": "code",
   "execution_count": null,
   "id": "2ad6b98b-32cd-4e94-a0cb-4561c0e32a48",
   "metadata": {},
   "outputs": [],
   "source": [
    "tm.functions.owner().call()"
   ]
  },
  {
   "cell_type": "code",
   "execution_count": null,
   "id": "60e8307c-f28b-4c83-a9df-da41a7fb21ec",
   "metadata": {},
   "outputs": [],
   "source": [
    "fiddyAddress = '0x95BEcB2e0fa7A2Cfb05ed04ad73650e424BE1cF6'"
   ]
  },
  {
   "cell_type": "code",
   "execution_count": null,
   "id": "3f43084b-13f1-4cd4-8b06-45171f445221",
   "metadata": {},
   "outputs": [],
   "source": [
    "fiddyAbiFile = home + '/code/cctp-components/out/Token.sol/FiddyCent.json'"
   ]
  },
  {
   "cell_type": "code",
   "execution_count": null,
   "id": "906e0714-9bca-4d3e-b5a2-ff0def4449c8",
   "metadata": {},
   "outputs": [],
   "source": [
    "with open(fiddyAbiFile) as f:\n",
    "    fiddy_json = json.load(f)\n",
    "\n",
    "fiddyAbi = fiddy_json['abi']\n",
    "print(fiddyAbi)"
   ]
  },
  {
   "cell_type": "code",
   "execution_count": null,
   "id": "87217515-44c6-4715-a006-9f20acbc7e43",
   "metadata": {},
   "outputs": [],
   "source": [
    "# Accounts\n",
    "ACCT0='0x892BB2e4F6b14a2B5b82Ba8d33E5925D42D4431F'\n",
    "ACCT1='0x9949f7e672a568bB3EBEB777D5e8D1c1107e96E5'\n",
    "ACCT2='0x835F0Aa692b8eBCdEa8E64742e5Bce30303669c2'"
   ]
  },
  {
   "cell_type": "code",
   "execution_count": null,
   "id": "df1f548d-756f-4bbb-91fe-a7c8f8434698",
   "metadata": {},
   "outputs": [],
   "source": [
    "# Keys\n",
    "ACCT0KEY='0xcb1a18dff8cfcee16202bf86f1f89f8b3881107b8192cd06836fda9dbc0fde1b'\n",
    "ACCT1KEY='0xa54f24f80839b659fc44fbb19492507bc734ea572f6f5672787cd8e9a198bf28'\n",
    "ACCT2KEY='0x824f9e081f93102ca26e9e696bb6804079a5e4e3fca3a05216e2b6e0538fcab9'"
   ]
  },
  {
   "cell_type": "code",
   "execution_count": null,
   "id": "cd47ed32-2823-495f-b8ed-2b6e3d5d6f50",
   "metadata": {},
   "outputs": [],
   "source": [
    "# Moonbeam accounts\n",
    "MBACCT0='0xf24FF3a9CF04c71Dbc94D0b566f7A27B94566cac'\n",
    "MBACCT1='0x3Cd0A705a2DC65e5b1E1205896BaA2be8A07c6e0'"
   ]
  },
  {
   "cell_type": "code",
   "execution_count": null,
   "id": "2eda1cab-d868-45a1-9cad-15ea4cfd28fe",
   "metadata": {},
   "outputs": [],
   "source": [
    "w3.eth.getBalance(ACCT1)"
   ]
  },
  {
   "cell_type": "code",
   "execution_count": null,
   "id": "64fe9843-1e1a-40c4-8565-798422d39de5",
   "metadata": {},
   "outputs": [],
   "source": [
    "## Fiddy account\n",
    "fiddy = w3.eth.contract(address=fiddyAddress, abi=fiddyAbi)"
   ]
  },
  {
   "cell_type": "code",
   "execution_count": null,
   "id": "2f4dde65-c6aa-4213-9892-864d0c1b07e4",
   "metadata": {},
   "outputs": [],
   "source": [
    "fiddy.functions.totalSupply().call()"
   ]
  },
  {
   "cell_type": "code",
   "execution_count": null,
   "id": "feb17323-1b75-46df-b835-6f8573c0a661",
   "metadata": {},
   "outputs": [],
   "source": [
    "fiddy.functions.balanceOf(ACCT1).call()"
   ]
  },
  {
   "cell_type": "code",
   "execution_count": null,
   "id": "77eb4087-10fd-43e1-bbea-bb2a18090d02",
   "metadata": {},
   "outputs": [],
   "source": [
    "tx_hash = fiddy.functions.transfer(ACCT1, 100).transact({'from': ACCT0})"
   ]
  },
  {
   "cell_type": "code",
   "execution_count": null,
   "id": "4588f513-da7c-44c2-adbf-933b3587dfc2",
   "metadata": {},
   "outputs": [],
   "source": [
    "tx_receipt = w3.eth.wait_for_transaction_receipt(tx_hash)"
   ]
  },
  {
   "cell_type": "code",
   "execution_count": null,
   "id": "296c810e-a948-4eaf-a78e-67df7fd9011b",
   "metadata": {},
   "outputs": [],
   "source": [
    "tx_receipt"
   ]
  },
  {
   "cell_type": "code",
   "execution_count": null,
   "id": "9c35905d-705f-4d6c-adb9-30cfd8dd8d9f",
   "metadata": {},
   "outputs": [],
   "source": [
    "fiddy.functions.balanceOf(ACCT1).call()"
   ]
  },
  {
   "cell_type": "code",
   "execution_count": null,
   "id": "d387787e-1679-4e25-99c9-93d0d2895083",
   "metadata": {},
   "outputs": [],
   "source": [
    "fiddy.functions.balanceOf(ACCT0).call()"
   ]
  },
  {
   "cell_type": "code",
   "execution_count": null,
   "id": "f2510b27-a3bc-4b51-8103-719c3bf8d123",
   "metadata": {},
   "outputs": [],
   "source": [
    "tx_hash = fiddy.functions.transfer(ACCT1, 100).transact({'from': ACCT2})"
   ]
  },
  {
   "cell_type": "code",
   "execution_count": null,
   "id": "d51573c6-77b2-44a0-9c90-ac976d2edcb5",
   "metadata": {},
   "outputs": [],
   "source": [
    "# Allowances\n",
    "fiddy.functions.allowance(ACCT1, tokenMessengerAddr).call()"
   ]
  },
  {
   "cell_type": "code",
   "execution_count": null,
   "id": "8b6a2017-12d1-4167-ad6c-623e6631b742",
   "metadata": {},
   "outputs": [],
   "source": [
    "fiddy.functions.approve(tokenMessengerAddr, 100).transact({'from':ACCT1})"
   ]
  },
  {
   "cell_type": "code",
   "execution_count": null,
   "id": "6d0e7cb0-743d-4698-8fdc-f8015d9aff22",
   "metadata": {},
   "outputs": [],
   "source": [
    "tm.functions.depositForBurn(1, 2, MBACCT1, fiddyAddress).transact({'from':ACCT1})"
   ]
  },
  {
   "cell_type": "code",
   "execution_count": null,
   "id": "90bd5994-beb6-4b21-9065-da2426d8f412",
   "metadata": {},
   "outputs": [],
   "source": [
    "tx_receipt = w3.eth.wait_for_transaction_receipt(0x09f9a457a2ae564b9e20a40aa21a9c9997a11ac37dbd4043e4c313e71639e482)"
   ]
  },
  {
   "cell_type": "code",
   "execution_count": null,
   "id": "d9ecbf31-2345-4268-a894-203c2ebe2b85",
   "metadata": {},
   "outputs": [],
   "source": [
    "tx_receipt"
   ]
  },
  {
   "cell_type": "code",
   "execution_count": null,
   "id": "193e6e36-f858-414f-807a-43168033bf82",
   "metadata": {},
   "outputs": [],
   "source": [
    "fiddy.functions.balanceOf(ACCT1).call()"
   ]
  },
  {
   "cell_type": "code",
   "execution_count": null,
   "id": "fe501a56-4a0a-40c6-b887-180006713044",
   "metadata": {},
   "outputs": [],
   "source": [
    "fiddy.functions.totalSupply().call()"
   ]
  },
  {
   "cell_type": "code",
   "execution_count": null,
   "id": "bd88d8c4-bba1-42c1-a84d-75de77a90032",
   "metadata": {},
   "outputs": [],
   "source": []
  }
 ],
 "metadata": {
  "kernelspec": {
   "display_name": "Python 3 (ipykernel)",
   "language": "python",
   "name": "python3"
  },
  "language_info": {
   "codemirror_mode": {
    "name": "ipython",
    "version": 3
   },
   "file_extension": ".py",
   "mimetype": "text/x-python",
   "name": "python",
   "nbconvert_exporter": "python",
   "pygments_lexer": "ipython3",
   "version": "3.8.10"
  }
 },
 "nbformat": 4,
 "nbformat_minor": 5
}
