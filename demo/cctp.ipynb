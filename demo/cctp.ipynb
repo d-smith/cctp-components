{
 "cells": [
  {
   "cell_type": "code",
   "execution_count": null,
   "id": "a34f6aae-8780-46a9-8eab-ecde2f0b5727",
   "metadata": {},
   "outputs": [],
   "source": [
    "from web3 import Web3"
   ]
  },
  {
   "cell_type": "code",
   "execution_count": null,
   "id": "af1d4f02-0503-4150-ba65-6ea3ead7029d",
   "metadata": {},
   "outputs": [],
   "source": [
    "w3 = Web3(Web3.HTTPProvider('http://127.0.0.1:8545'))"
   ]
  },
  {
   "cell_type": "code",
   "execution_count": null,
   "id": "18970d94-826c-49b3-adc9-be3bea751009",
   "metadata": {},
   "outputs": [],
   "source": [
    "w3"
   ]
  },
  {
   "cell_type": "code",
   "execution_count": null,
   "id": "3ac12813-1657-4400-92b9-00c870e87b2b",
   "metadata": {},
   "outputs": [],
   "source": [
    "w3.isConnected()"
   ]
  },
  {
   "cell_type": "code",
   "execution_count": null,
   "id": "b00a3654-fcb3-4e19-90f3-153d9c510a68",
   "metadata": {},
   "outputs": [],
   "source": [
    "w3.eth.get_block('latest')"
   ]
  },
  {
   "cell_type": "code",
   "execution_count": null,
   "id": "a61e2154-7d83-43b7-a48b-1c2a65fe4e21",
   "metadata": {},
   "outputs": [],
   "source": [
    "import os\n",
    "\n",
    "home = os.environ['HOME']\n",
    "print(home)\n",
    "abiFile = home + '/code/evm-cctp-contracts/out/TokenMessenger.sol/TokenMessenger.json'\n",
    "print(abiFile)"
   ]
  },
  {
   "cell_type": "code",
   "execution_count": null,
   "id": "deb9d268-7d8f-475c-8435-9a59c0a8cc8d",
   "metadata": {},
   "outputs": [],
   "source": [
    "import json\n",
    "\n",
    "with open(abiFile) as f:\n",
    "    info_json = json.load(f)\n",
    "\n",
    "abi = info_json['abi']\n",
    "print(abi)"
   ]
  },
  {
   "cell_type": "code",
   "execution_count": null,
   "id": "b9ecebd4-97d8-4f8c-9d8e-3ecda2df7a87",
   "metadata": {},
   "outputs": [],
   "source": [
    "tokenMessengerAddr = '0x738D1D469142E3779A28927cA610bCf4156b169B'"
   ]
  },
  {
   "cell_type": "code",
   "execution_count": null,
   "id": "a658b370-87cf-4c10-af18-d818a489912d",
   "metadata": {},
   "outputs": [],
   "source": [
    "tm = w3.eth.contract(address=tokenMessengerAddr, abi=abi)"
   ]
  },
  {
   "cell_type": "code",
   "execution_count": null,
   "id": "2ad6b98b-32cd-4e94-a0cb-4561c0e32a48",
   "metadata": {},
   "outputs": [],
   "source": [
    "tm.functions.owner().call()"
   ]
  },
  {
   "cell_type": "code",
   "execution_count": null,
   "id": "60e8307c-f28b-4c83-a9df-da41a7fb21ec",
   "metadata": {},
   "outputs": [],
   "source": [
    "fiddyAddress = '0x95BEcB2e0fa7A2Cfb05ed04ad73650e424BE1cF6'"
   ]
  },
  {
   "cell_type": "code",
   "execution_count": null,
   "id": "3f43084b-13f1-4cd4-8b06-45171f445221",
   "metadata": {},
   "outputs": [],
   "source": [
    "fiddyAbiFile = home + '/code/cctp-components/out/Token.sol/FiddyCent.json'"
   ]
  },
  {
   "cell_type": "code",
   "execution_count": null,
   "id": "906e0714-9bca-4d3e-b5a2-ff0def4449c8",
   "metadata": {},
   "outputs": [],
   "source": [
    "with open(fiddyAbiFile) as f:\n",
    "    fiddy_json = json.load(f)\n",
    "\n",
    "fiddyAbi = fiddy_json['abi']\n",
    "print(fiddyAbi)"
   ]
  },
  {
   "cell_type": "code",
   "execution_count": null,
   "id": "87217515-44c6-4715-a006-9f20acbc7e43",
   "metadata": {},
   "outputs": [],
   "source": [
    "# Accounts\n",
    "ACCT0='0x892BB2e4F6b14a2B5b82Ba8d33E5925D42D4431F'\n",
    "ACCT1='0x9949f7e672a568bB3EBEB777D5e8D1c1107e96E5'\n",
    "ACCT2='0x835F0Aa692b8eBCdEa8E64742e5Bce30303669c2'"
   ]
  },
  {
   "cell_type": "code",
   "execution_count": null,
   "id": "df1f548d-756f-4bbb-91fe-a7c8f8434698",
   "metadata": {},
   "outputs": [],
   "source": [
    "# Keys\n",
    "ACCT0KEY='0xcb1a18dff8cfcee16202bf86f1f89f8b3881107b8192cd06836fda9dbc0fde1b'\n",
    "ACCT1KEY='0xa54f24f80839b659fc44fbb19492507bc734ea572f6f5672787cd8e9a198bf28'\n",
    "ACCT2KEY='0x824f9e081f93102ca26e9e696bb6804079a5e4e3fca3a05216e2b6e0538fcab9'"
   ]
  },
  {
   "cell_type": "code",
   "execution_count": null,
   "id": "2eda1cab-d868-45a1-9cad-15ea4cfd28fe",
   "metadata": {},
   "outputs": [],
   "source": [
    "w3.eth.getBalance(ACCT1)"
   ]
  },
  {
   "cell_type": "code",
   "execution_count": null,
   "id": "704945bb-2a67-4663-99ba-a05d0b3ef8d8",
   "metadata": {},
   "outputs": [],
   "source": []
  }
 ],
 "metadata": {
  "kernelspec": {
   "display_name": "Python 3 (ipykernel)",
   "language": "python",
   "name": "python3"
  },
  "language_info": {
   "codemirror_mode": {
    "name": "ipython",
    "version": 3
   },
   "file_extension": ".py",
   "mimetype": "text/x-python",
   "name": "python",
   "nbconvert_exporter": "python",
   "pygments_lexer": "ipython3",
   "version": "3.8.10"
  }
 },
 "nbformat": 4,
 "nbformat_minor": 5
}
