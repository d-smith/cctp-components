{
 "cells": [
  {
   "cell_type": "markdown",
   "id": "eaaf3272-ecfa-433b-a2c7-5b25ea8933c4",
   "metadata": {},
   "source": [
    "## Deployment\n",
    "\n",
    "Deployment notes and scripts\n",
    "\n",
    "Prior to starting Jupyter be sure node js is avaiable - set it via nvm if needed."
   ]
  },
  {
   "cell_type": "code",
   "execution_count": null,
   "id": "4df8ac36-d0d0-495e-9d2c-dfe73c66ece6",
   "metadata": {},
   "outputs": [],
   "source": [
    "# Eth test account addresses\n",
    "ACCT0='0x892BB2e4F6b14a2B5b82Ba8d33E5925D42D4431F'\n",
    "ACCT1='0x9949f7e672a568bB3EBEB777D5e8D1c1107e96E5'\n",
    "ACCT2='0x835F0Aa692b8eBCdEa8E64742e5Bce30303669c2'\n",
    "ACCT3='0x7bA7d161F9E8B707694f434d65c218a1F0853B1C'\n",
    "ACCT4='0xB4C3D79CDC0eb7A8576a8bf224Bbc6Bec790c320'\n",
    "ACCT5='0x5Ad35F89D8C1d03089BDe2578Ce43883E3f2A7B0'\n",
    "ACCT6='0x0234643975F308b76d1241897e7d70b02C155daa'\n",
    "ACCT7='0x5199524B11e801c52161CA76dB9BFD72f4a4E1E1'\n",
    "ACCT8='0x549381D65fe61046911d11743D5c0941Ed704640'\n",
    "ACCT9='0x73dA1eD554De26C467d97ADE090af6d52851745E'"
   ]
  },
  {
   "cell_type": "code",
   "execution_count": null,
   "id": "55e1ab4c-709e-4eae-99aa-002e3add710b",
   "metadata": {},
   "outputs": [],
   "source": [
    "# Eth test account private keys\n",
    "ACCT0KEY='0xcb1a18dff8cfcee16202bf86f1f89f8b3881107b8192cd06836fda9dbc0fde1b'\n",
    "ACCT1KEY='0xa54f24f80839b659fc44fbb19492507bc734ea572f6f5672787cd8e9a198bf28'\n",
    "ACCT2KEY='0x824f9e081f93102ca26e9e696bb6804079a5e4e3fca3a05216e2b6e0538fcab9'\n",
    "ACCT3KEY='0x3e56e9b2db8389123a03816c37dd4515e07077483fbe865156a2d8f6003b6725'\n",
    "ACCT4KEY='0xca55c5904f97405816f8d24c5e7810aaec2aa347ea0e1f920f19eca05669ae7b'\n",
    "ACCT5KEY='0x6100006a16d6a0fd065f62165e64d412920afd0e8fc59956ad7a9116e363b72e'\n",
    "ACCT6KEY='0x55b0e7919eb08e618dbddf025341094eefc0db60244736c1faac1412d68868f3'\n",
    "ACCT7KEY='0x81b475051c4686cffe815e50216a9bac397c0e5d9108170823b290d41823fa8a'\n",
    "ACCT8KEY='0xc3599ced1484dc8eccbb477cf8c318ca48ef1f2aac81a10a3774fe40d3b678de'\n",
    "ACCT9KEY='0xf9832eeac47db42efeb2eca01e6479bfde00fda8fdd0624d45efd0e4b9ddcd3b'"
   ]
  },
  {
   "cell_type": "code",
   "execution_count": null,
   "id": "21794c99-a473-4667-8d53-4cea1de5ad7b",
   "metadata": {},
   "outputs": [],
   "source": [
    "# MB test account addresses\n",
    "MBACCT0='0xf24FF3a9CF04c71Dbc94D0b566f7A27B94566cac'\n",
    "MBACCT1='0x3Cd0A705a2DC65e5b1E1205896BaA2be8A07c6e0'\n",
    "MBACCT2='0x798d4Ba9baf0064Ec19eB4F0a1a45785ae9D6DFc'\n",
    "MBACCT3='0x773539d4Ac0e786233D90A233654ccEE26a613D9'\n",
    "MBACCT4='0xFf64d3F6efE2317EE2807d223a0Bdc4c0c49dfDB'\n",
    "MBACCT5='0xC0F0f4ab324C46e55D02D0033343B4Be8A55532d'\n",
    "MBACCT6='0x7BF369283338E12C90514468aa3868A551AB2929'\n",
    "MBACCT7='0x931f3600a299fd9B24cEfB3BfF79388D19804BeA'\n",
    "MBACCT8='0xC41C5F1123ECCd5ce233578B2e7ebd5693869d73'\n",
    "MBACCT9='0x2898FE7a42Be376C8BC7AF536A940F7Fd5aDd423'"
   ]
  },
  {
   "cell_type": "code",
   "execution_count": null,
   "id": "7b55c0ab-ede1-4d9a-bfbb-b46a459b6be8",
   "metadata": {},
   "outputs": [],
   "source": [
    "# MB test account private keys\n",
    "\n",
    "MBACCT0KEY='0x5fb92d6e98884f76de468fa3f6278f8807c48bebc13595d45af5bdc4da702133'\n",
    "MBACCT1KEY='0x8075991ce870b93a8870eca0c0f91913d12f47948ca0fd25b49c6fa7cdbeee8b'\n",
    "MBACCT2KEY='0x0b6e18cafb6ed99687ec547bd28139cafdd2bffe70e6b688025de6b445aa5c5b'\n",
    "MBACCT3KEY='0x39539ab1876910bbf3a223d84a29e28f1cb4e2e456503e7e91ed39b2e7223d68'\n",
    "MBACCT4KEY='0x7dce9bc8babb68fec1409be38c8e1a52650206a7ed90ff956ae8a6d15eeaaef4'\n",
    "MBACCT5KEY='0xb9d2ea9a615f3165812e8d44de0d24da9bbd164b65c4f0573e1ce2c8dbd9c8df'\n",
    "MBACCT6KEY='0x96b8a38e12e1a31dee1eab2fffdf9d9990045f5b37e44d8cc27766ef294acf18'\n",
    "MBACCT7KEY='0x0d6dcaaef49272a5411896be8ad16c01c35d6f8c18873387b71fbc734759b0ab'\n",
    "MBACCT8KEY='0x4c42532034540267bf568198ccec4cb822a025da542861fcb146a5fab6433ff8'\n",
    "MBACCT9KEY='0x94c49300a58d576011096bcb006aa06f5a91b34b4383891e8029c21dc39fbb8b'"
   ]
  },
  {
   "cell_type": "markdown",
   "id": "d962f84a-750a-4133-9308-d8fef594a180",
   "metadata": {},
   "source": [
    "## Fiddy Eth deployment\n",
    "\n",
    "1. Pick account for deploying FIDDY\n",
    "2. Deploy it\n",
    "3. Grab the address\n",
    "\n",
    "\n",
    "\n",
    "\n",
    "\n",
    "\n",
    "\n"
   ]
  },
  {
   "cell_type": "code",
   "execution_count": null,
   "id": "64f0e3e3-9422-49b8-8a47-077e8926f22f",
   "metadata": {},
   "outputs": [],
   "source": [
    "# Eth deployment account\n",
    "print('export DEPLOYER_KEY={}'.format(ACCT0KEY))\n",
    "print('export OWNER_ADDRESS={}'.format(ACCT0))"
   ]
  },
  {
   "cell_type": "code",
   "execution_count": null,
   "id": "72beba41-84b1-4bc9-a280-61f1a11e2fb2",
   "metadata": {},
   "outputs": [],
   "source": [
    "home = ! echo $HOME\n",
    "exec_home = home[0] + '/code/cctp-components'\n",
    "print(exec_home)"
   ]
  },
  {
   "cell_type": "code",
   "execution_count": null,
   "id": "47bf5a9d-39c1-4c8a-b5f0-335c6b1b9501",
   "metadata": {
    "scrolled": true
   },
   "outputs": [],
   "source": [
    "# Fiddy deployment\n",
    "!cd {exec_home} && DEPLOYER_KEY={ACCT0KEY} OWNER_ADDRESS={ACCT0} forge script script/Token.s.sol:DeployScript --broadcast --rpc-url http://127.0.0.1:8545 --extra-output-files abi --extra-output-files bin\n"
   ]
  },
  {
   "cell_type": "code",
   "execution_count": null,
   "id": "2e0f787e-b8da-4b5a-8aae-8301d9d2e0bf",
   "metadata": {},
   "outputs": [],
   "source": [
    "%%bash -s \"$exec_home\" --out FIDDY_ETH_ADDRESS\n",
    "cd $1\n",
    "ls\n",
    "node script/deploy-details.js"
   ]
  },
  {
   "cell_type": "code",
   "execution_count": null,
   "id": "1393e98e-fad7-4c79-8dc9-3b1434568c32",
   "metadata": {},
   "outputs": [],
   "source": [
    "FIDDY_ETH_ADDRESS = FIDDY_ETH_ADDRESS.strip()\n",
    "print(FIDDY_ETH_ADDRESS)"
   ]
  },
  {
   "cell_type": "markdown",
   "id": "ab10bc62-75b5-4b20-91e6-72a9a250ced3",
   "metadata": {},
   "source": [
    "## Fiddy Polygon deployment\n",
    "\n",
    "1. Pick account for deploying FIDDY\n",
    "2. Deploy it\n",
    "3. Grab the address"
   ]
  },
  {
   "cell_type": "code",
   "execution_count": null,
   "id": "75c7caa9-360a-448d-a5f7-dcdcf7bb0187",
   "metadata": {},
   "outputs": [],
   "source": [
    "# Polygon config\n",
    "import os\n",
    "\n",
    "PG=os.environ['PG']\n",
    "PGKEY='0x' + os.environ['PGKEY']\n",
    "PG_URL=os.environ['PG_URL']\n",
    "print(PG_URL)"
   ]
  },
  {
   "cell_type": "code",
   "execution_count": null,
   "id": "24b15fce-4396-4853-aa4d-d366e821bdaf",
   "metadata": {},
   "outputs": [],
   "source": [
    "# PG deployment\n",
    "!cd {exec_home} && PG_DEPLOYER_KEY={PGKEY} PG_OWNER_ADDRESS={PG} forge script -vvvv script/PGToken.s.sol:DeployScript  --broadcast --verify --rpc-url {PG_URL} --extra-output-files abi --extra-output-files bin"
   ]
  },
  {
   "cell_type": "code",
   "execution_count": null,
   "id": "76929450-b1fa-4115-abbc-2da2ae69a170",
   "metadata": {},
   "outputs": [],
   "source": [
    "%%bash -s \"$exec_home\" --out POLYGON_FIDDY_ADDRESS\n",
    "cd $1\n",
    "ls\n",
    "node script/pgdeploy-details.js"
   ]
  },
  {
   "cell_type": "code",
   "execution_count": null,
   "id": "53037a22-35d3-4ec0-8837-399a4ce509d7",
   "metadata": {},
   "outputs": [],
   "source": [
    "POLYGON_FIDDY_ADDRESS = POLYGON_FIDDY_ADDRESS.strip()\n",
    "print(POLYGON_FIDDY_ADDRESS)"
   ]
  },
  {
   "cell_type": "markdown",
   "id": "80587993-47be-4403-8f6a-c74d2ea21d9d",
   "metadata": {},
   "source": [
    "## CCTP Set Up - Ethereum\n",
    "\n",
    "### Precompute Polygon Messenger"
   ]
  },
  {
   "cell_type": "code",
   "execution_count": null,
   "id": "c232d8ca-0421-46f2-a4fd-b9858964d289",
   "metadata": {},
   "outputs": [],
   "source": [
    "polygonDeployer = PG\n",
    "print(polygonDeployer)"
   ]
  },
  {
   "cell_type": "code",
   "execution_count": null,
   "id": "faf144e8-6f75-416c-8142-a60df55ab70d",
   "metadata": {},
   "outputs": [],
   "source": [
    "# Adapted from https://github.com/circlefin/evm-cctp-contracts/blob/master/scripts/precomputeRemoteMessengerAddress.py\n",
    "\n",
    "from web3 import Web3\n",
    "\n",
    "import os\n",
    "import rlp\n",
    "\n",
    "def compute_address(sender, nonce):\n",
    "    \"\"\"\n",
    "    Computes the address for a deployed contract given the address\n",
    "    of the sender and the current nonce.\n",
    "    \"\"\"\n",
    "    sender_as_bytes = Web3.toBytes(hexstr=sender)\n",
    "    contract_address = Web3.toHex(Web3.keccak(rlp.encode([sender_as_bytes, nonce])))[-40:]\n",
    "    return contract_address\n",
    "\n",
    "def precompute_remote_token_messenger_address(remote_rpc_url, remote_deployer):\n",
    "    \"\"\"\n",
    "    Computes expected address for remote token messenger contract on the\n",
    "    input remote_rpc_url\n",
    "    \"\"\"\n",
    "    remote_token_messenger_deployer = remote_deployer\n",
    "    remote_domain_node = Web3(Web3.HTTPProvider(remote_rpc_url))\n",
    "\n",
    "    remote_token_messenger_deployer_nonce =  remote_domain_node.eth.get_transaction_count(remote_token_messenger_deployer)\n",
    "    remote_token_messenger_address = compute_address(remote_token_messenger_deployer, remote_token_messenger_deployer_nonce)\n",
    "\n",
    "    return remote_token_messenger_address\n",
    "\n"
   ]
  },
  {
   "cell_type": "code",
   "execution_count": null,
   "id": "cdbaee5d-8064-4d55-8897-482dee5c3503",
   "metadata": {},
   "outputs": [],
   "source": [
    "polygonTokenMessengerAddress = precompute_remote_token_messenger_address(PG_URL, polygonDeployer)\n",
    "print(polygonTokenMessengerAddress)"
   ]
  },
  {
   "cell_type": "code",
   "execution_count": null,
   "id": "90a4d801-de8f-4f5b-9908-9dca547a7ee8",
   "metadata": {},
   "outputs": [],
   "source": [
    "home = ! echo $HOME\n",
    "cctp_home = home[0] + '/code/evm-cctp-contracts'\n",
    "print(cctp_home)"
   ]
  },
  {
   "cell_type": "code",
   "execution_count": null,
   "id": "d599f5c3-f687-440d-a6db-4f9c8a277cbd",
   "metadata": {},
   "outputs": [],
   "source": [
    "%%bash -s \"$cctp_home\" \"$ACCT0\" \"$ACCT0KEY\" \"$FIDDY_ETH_ADDRESS\" \"$POLYGON_FIDDY_ADDRESS\" \"$polygonTokenMessengerAddress\"\n",
    "\n",
    "cd $1\n",
    "ls $1\n",
    "echo $2\n",
    "export MESSAGE_TRANSMITTER_DEPLOYER_KEY=$3\n",
    "export TOKEN_MESSENGER_DEPLOYER_KEY=$3\n",
    "export TOKEN_MINTER_DEPLOYER_KEY=$3\n",
    "export TOKEN_CONTROLLER_DEPLOYER_KEY=$3\n",
    "export ATTESTER_ADDRESS=$2\n",
    "export USDC_CONTRACT_ADDRESS=$4\n",
    "export TOKEN_CONTROLLER_ADDRESS=$2\n",
    "export BURN_LIMIT_PER_MESSAGE=1000\n",
    "export REMOTE_USDC_CONTRACT_ADDRESS=$5\n",
    "export DOMAIN=1\n",
    "export REMOTE_DOMAIN=2\n",
    "export MESSAGE_TRANSMITTER_PAUSER_ADDRESS=$2\n",
    "export TOKEN_MINTER_PAUSER_ADDRESS=$2\n",
    "export MESSAGE_TRANSMITTER_RESCUER_ADDRESS=$2\n",
    "export TOKEN_MESSENGER_RESCUER_ADDRESS=$2\n",
    "export TOKEN_MINTER_RESCUER_ADDRESS=$2\n",
    "export REMOTE_TOKEN_MESSENGER_ADDRESS=$6\n",
    "\n",
    "\n",
    "make simulate RPC_URL=http://localhost:8545 SENDER=$2"
   ]
  },
  {
   "cell_type": "code",
   "execution_count": null,
   "id": "4b7e11ff-bd35-4384-b328-baf693cce8eb",
   "metadata": {},
   "outputs": [],
   "source": [
    "%%bash -s \"$cctp_home\" \"$ACCT0\" \"$ACCT0KEY\" \"$FIDDY_ETH_ADDRESS\" \"$POLYGON_FIDDY_ADDRESS\" \"$polygonTokenMessengerAddress\"\n",
    "\n",
    "cd $1\n",
    "ls $1\n",
    "echo $2\n",
    "export MESSAGE_TRANSMITTER_DEPLOYER_KEY=$3\n",
    "export TOKEN_MESSENGER_DEPLOYER_KEY=$3\n",
    "export TOKEN_MINTER_DEPLOYER_KEY=$3\n",
    "export TOKEN_CONTROLLER_DEPLOYER_KEY=$3\n",
    "export ATTESTER_ADDRESS=$2\n",
    "export USDC_CONTRACT_ADDRESS=$4\n",
    "export TOKEN_CONTROLLER_ADDRESS=$2\n",
    "export BURN_LIMIT_PER_MESSAGE=1000\n",
    "export REMOTE_USDC_CONTRACT_ADDRESS=$5\n",
    "export DOMAIN=1\n",
    "export REMOTE_DOMAIN=2\n",
    "export MESSAGE_TRANSMITTER_PAUSER_ADDRESS=$2\n",
    "export TOKEN_MINTER_PAUSER_ADDRESS=$2\n",
    "export MESSAGE_TRANSMITTER_RESCUER_ADDRESS=$2\n",
    "export TOKEN_MESSENGER_RESCUER_ADDRESS=$2\n",
    "export TOKEN_MINTER_RESCUER_ADDRESS=$2\n",
    "export REMOTE_TOKEN_MESSENGER_ADDRESS=$6\n",
    "\n",
    "\n",
    "make deploy RPC_URL=http://localhost:8545 SENDER=$2\n"
   ]
  },
  {
   "cell_type": "code",
   "execution_count": null,
   "id": "8f0f4826-dc3e-4ef6-b8ac-6da84a9cb0bb",
   "metadata": {},
   "outputs": [],
   "source": [
    "#export CCTPCTX=$HOME/code/evm-cctp-contracts/broadcast/deploy.s.sol/31337/run-latest.json\n",
    "cctp_ctx = home[0] + '/code/evm-cctp-contracts/broadcast/deploy.s.sol/31337/run-latest.json'\n",
    "print(cctp_ctx)"
   ]
  },
  {
   "cell_type": "code",
   "execution_count": null,
   "id": "4b0f18b3-da77-4872-9859-6597d03f2b92",
   "metadata": {},
   "outputs": [],
   "source": [
    "%%bash -s \"$exec_home\" \"$cctp_ctx\" --out CCTP_AGGREGATE\n",
    "cd $1\n",
    "export CCTPCTX=$2\n",
    "ls\n",
    "node script/cctp-details.js"
   ]
  },
  {
   "cell_type": "code",
   "execution_count": null,
   "id": "00a63a1f-b4fd-4fe0-804e-d61281c90473",
   "metadata": {},
   "outputs": [],
   "source": [
    "CCTP_AGGREGATE = CCTP_AGGREGATE.strip()\n",
    "parts = CCTP_AGGREGATE.split(':')\n",
    "print(parts)"
   ]
  },
  {
   "cell_type": "code",
   "execution_count": null,
   "id": "a02b5b70-f988-41f4-8e27-01ab05550fcc",
   "metadata": {},
   "outputs": [],
   "source": [
    "ethMessageTransmitter = parts[0]\n",
    "ethTokenMessenger = parts[1]\n",
    "ethTokenMinter = parts[2]"
   ]
  },
  {
   "cell_type": "markdown",
   "id": "4a23882a-a13b-41e1-839e-7eca9f5e3611",
   "metadata": {},
   "source": [
    "## Working with Fiddy and CCTP on Eth"
   ]
  },
  {
   "cell_type": "code",
   "execution_count": null,
   "id": "96cc8a67-9975-4cb3-bff4-0f50ab4a62b3",
   "metadata": {},
   "outputs": [],
   "source": [
    "fiddyAbiFile = home[0] + '/code/cctp-components/out/Token.sol/FiddyCent.json'"
   ]
  },
  {
   "cell_type": "code",
   "execution_count": null,
   "id": "92162157-d49e-4861-b8c1-4c98de3721ca",
   "metadata": {},
   "outputs": [],
   "source": [
    "import json\n",
    "\n",
    "with open(fiddyAbiFile) as f:\n",
    "    fiddy_json = json.load(f)\n",
    "\n",
    "fiddyAbi = fiddy_json['abi']\n"
   ]
  },
  {
   "cell_type": "code",
   "execution_count": null,
   "id": "00a4742e-19ea-4d93-81a1-9d5477ac0058",
   "metadata": {},
   "outputs": [],
   "source": [
    "from web3 import Web3"
   ]
  },
  {
   "cell_type": "code",
   "execution_count": null,
   "id": "8444f73d-d3a4-45ed-81bd-60edf6919a74",
   "metadata": {},
   "outputs": [],
   "source": [
    "w3 = Web3(Web3.HTTPProvider('http://127.0.0.1:8545'))"
   ]
  },
  {
   "cell_type": "code",
   "execution_count": null,
   "id": "98b88c42-c81d-43ff-89b7-1511d489202c",
   "metadata": {},
   "outputs": [],
   "source": [
    "fiddy = w3.eth.contract(address=FIDDY_ETH_ADDRESS, abi=fiddyAbi)"
   ]
  },
  {
   "cell_type": "code",
   "execution_count": null,
   "id": "edd1f49d-8793-4d47-a899-29627101c932",
   "metadata": {},
   "outputs": [],
   "source": [
    "# Initial balance\n",
    "fiddy.functions.balanceOf(ACCT1).call()"
   ]
  },
  {
   "cell_type": "code",
   "execution_count": null,
   "id": "eec1c7d2-1483-492c-b39f-4fbd1c141512",
   "metadata": {},
   "outputs": [],
   "source": [
    "# Transfer some fiddy coin to acct1\n",
    "tx = fiddy.functions.transfer(ACCT1, 100).build_transaction(\n",
    "    {\n",
    "        \"from\":ACCT0,\n",
    "        \"nonce\": w3.eth.get_transaction_count(ACCT0),\n",
    "    }\n",
    ")"
   ]
  },
  {
   "cell_type": "code",
   "execution_count": null,
   "id": "db602f1e-777c-4dd6-a089-fdf3e9871686",
   "metadata": {},
   "outputs": [],
   "source": [
    "signed_tx = w3.eth.account.sign_transaction(tx, ACCT0KEY)"
   ]
  },
  {
   "cell_type": "code",
   "execution_count": null,
   "id": "971760d4-170a-42e7-ac36-4b283fb83bb6",
   "metadata": {},
   "outputs": [],
   "source": [
    "tx_hash = w3.eth.send_raw_transaction(signed_tx.rawTransaction)\n",
    "tx_receipt = w3.eth.wait_for_transaction_receipt(tx_hash)\n",
    "\n",
    "print(f\"Tx successful with hash: { tx_receipt.transactionHash.hex() }\")"
   ]
  },
  {
   "cell_type": "code",
   "execution_count": null,
   "id": "e412b111-24ac-479c-9a38-e31eb6ec11d2",
   "metadata": {},
   "outputs": [],
   "source": [
    "fiddy.functions.balanceOf(ACCT1).call()"
   ]
  },
  {
   "cell_type": "code",
   "execution_count": null,
   "id": "096f9669-0d1b-4448-82b7-3f2cd11e0d06",
   "metadata": {},
   "outputs": [],
   "source": [
    "# Check the allowance for ACCT1 on the messenger contract\n",
    "fiddy.functions.allowance(ACCT1, ethTokenMessenger).call()"
   ]
  },
  {
   "cell_type": "code",
   "execution_count": null,
   "id": "4c0df835-63da-4fc9-927e-9464ffb91004",
   "metadata": {},
   "outputs": [],
   "source": [
    "# Set an allowance\n",
    "tx = fiddy.functions.approve(ethTokenMessenger, 100).build_transaction(\n",
    "    {\n",
    "        \"from\":ACCT1,\n",
    "        \"nonce\": w3.eth.get_transaction_count(ACCT1),\n",
    "    }\n",
    ")"
   ]
  },
  {
   "cell_type": "code",
   "execution_count": null,
   "id": "642951d8-e937-4624-a0e4-c9fe6b6ad62d",
   "metadata": {},
   "outputs": [],
   "source": [
    "signed_tx = w3.eth.account.sign_transaction(tx, ACCT1KEY)\n",
    "tx_hash = w3.eth.send_raw_transaction(signed_tx.rawTransaction)\n",
    "tx_receipt = w3.eth.wait_for_transaction_receipt(tx_hash)\n",
    "\n",
    "print(f\"Tx successful with hash: { tx_receipt.transactionHash.hex() }\")\n",
    "print(f\"New allowance: { fiddy.functions.allowance(ACCT1, ethTokenMessenger).call() }\")"
   ]
  },
  {
   "cell_type": "markdown",
   "id": "d3a4c5c6-0d5b-4ddf-9b3f-7872937d6669",
   "metadata": {},
   "source": [
    "## Deposit for Burn - Eth Side"
   ]
  },
  {
   "cell_type": "code",
   "execution_count": null,
   "id": "ea68c918-5a77-4123-9475-77e23fba18fd",
   "metadata": {},
   "outputs": [],
   "source": [
    "ethTokenMessengerAbiFile = home[0] + '/code/evm-cctp-contracts/out/TokenMessenger.sol/TokenMessenger.json'\n",
    "print(ethTokenMessengerAbiFile)"
   ]
  },
  {
   "cell_type": "code",
   "execution_count": null,
   "id": "ca15916d-fc61-4fb2-91dd-c9c4af3cc01c",
   "metadata": {},
   "outputs": [],
   "source": [
    "with open(ethTokenMessengerAbiFile) as f:\n",
    "    tm_json = json.load(f)\n",
    "\n",
    "ethTokenMessengerAbi = tm_json['abi']"
   ]
  },
  {
   "cell_type": "code",
   "execution_count": null,
   "id": "e221c947-8c61-46b8-a0f8-25bf2c8ef4e1",
   "metadata": {},
   "outputs": [],
   "source": [
    "tokenMessenger = w3.eth.contract(address=ethTokenMessenger, abi=ethTokenMessengerAbi)"
   ]
  },
  {
   "cell_type": "code",
   "execution_count": null,
   "id": "d6c5e530-9ea6-4848-b7dd-a19eb941ab85",
   "metadata": {},
   "outputs": [],
   "source": [
    "# Deposit some coinage for burn - args are amount, destination domain, mint recipient, contract that burns the deposit\n",
    "tx = tokenMessenger.functions.depositForBurn(1, 2, PG, FIDDY_ETH_ADDRESS).build_transaction(\n",
    "     {\n",
    "        \"from\":ACCT1,\n",
    "        \"nonce\": w3.eth.get_transaction_count(ACCT1),\n",
    "    }\n",
    ")"
   ]
  },
  {
   "cell_type": "code",
   "execution_count": null,
   "id": "0f0290dd-c038-4f8b-b4fc-c986c266e907",
   "metadata": {},
   "outputs": [],
   "source": [
    "signed_tx = w3.eth.account.sign_transaction(tx, ACCT1KEY)\n",
    "tx_hash = w3.eth.send_raw_transaction(signed_tx.rawTransaction)\n",
    "tx_receipt = w3.eth.wait_for_transaction_receipt(tx_hash)\n",
    "print(tx_receipt)\n",
    "print(f\"Tx successful with hash: { tx_receipt.transactionHash.hex() }\")"
   ]
  },
  {
   "cell_type": "code",
   "execution_count": null,
   "id": "dfb255cd-de6e-45a6-be58-618c4020e8fd",
   "metadata": {},
   "outputs": [],
   "source": [
    "fiddy.functions.balanceOf(ACCT1).call()"
   ]
  },
  {
   "cell_type": "code",
   "execution_count": null,
   "id": "e438b122-1758-4d33-ba21-a5e4767a093b",
   "metadata": {},
   "outputs": [],
   "source": [
    "fiddy.functions.totalSupply().call()"
   ]
  },
  {
   "cell_type": "markdown",
   "id": "e467c863-82f0-49c9-b4b2-d6027866cbec",
   "metadata": {},
   "source": [
    "## Message Transmitter Events"
   ]
  },
  {
   "cell_type": "code",
   "execution_count": null,
   "id": "6535fb1f-b0a9-4d96-9766-19abca55b8ee",
   "metadata": {},
   "outputs": [],
   "source": [
    "ethTransmitterAbiFile = home[0] + '/code/evm-cctp-contracts/out/MessageTransmitter.sol/MessageTransmitter.json'\n",
    "print(ethTransmitterAbiFile)"
   ]
  },
  {
   "cell_type": "code",
   "execution_count": null,
   "id": "75a24463-21d2-4558-9a66-5e2173dcd372",
   "metadata": {},
   "outputs": [],
   "source": [
    "with open(ethTransmitterAbiFile) as f:\n",
    "    mt_json = json.load(f)\n",
    "\n",
    "ethTransmitterAbi = mt_json['abi']"
   ]
  },
  {
   "cell_type": "code",
   "execution_count": null,
   "id": "2197113b-9d3c-4fcc-b0f3-6119259180b4",
   "metadata": {},
   "outputs": [],
   "source": [
    "messageTransmitter = w3.eth.contract(address=ethMessageTransmitter, abi=ethTransmitterAbi)"
   ]
  },
  {
   "cell_type": "code",
   "execution_count": null,
   "id": "1d4c7979-b9dc-49dd-a203-52f476184dbc",
   "metadata": {},
   "outputs": [],
   "source": [
    "messageSentEvents = messageTransmitter.events.MessageSent.getLogs(fromBlock=1)\n",
    "print(messageSentEvents)"
   ]
  },
  {
   "cell_type": "code",
   "execution_count": null,
   "id": "b2dac009-a030-4ef7-a215-8e9a66f22236",
   "metadata": {},
   "outputs": [],
   "source": [
    "type(messageSentEvents)"
   ]
  },
  {
   "cell_type": "code",
   "execution_count": null,
   "id": "c57558e9-c965-4fa3-a999-25a1ea64d419",
   "metadata": {},
   "outputs": [],
   "source": [
    "len(messageSentEvents)"
   ]
  },
  {
   "cell_type": "code",
   "execution_count": null,
   "id": "58627cd5-11c7-4d4c-9c2e-f5562c79623b",
   "metadata": {},
   "outputs": [],
   "source": [
    "lastMessageSentEvent = messageSentEvents[len(messageSentEvents) - 1]"
   ]
  },
  {
   "cell_type": "code",
   "execution_count": null,
   "id": "3632d48c-c807-4c21-9495-8c564562f040",
   "metadata": {},
   "outputs": [],
   "source": [
    "lastMessageSentEvent"
   ]
  },
  {
   "cell_type": "code",
   "execution_count": null,
   "id": "e6a87a7d-970b-46f9-93a6-b04ce4190fdd",
   "metadata": {},
   "outputs": [],
   "source": [
    "messageSentBytes = lastMessageSentEvent.args.message\n",
    "print(messageSentBytes)"
   ]
  },
  {
   "cell_type": "markdown",
   "id": "951ddc75-5b70-441a-b97b-311d8ea2560e",
   "metadata": {},
   "source": [
    "## Attestation\n",
    "\n",
    "* Event is MessageSent\n",
    "* Solidity definition is `event MessageSent(bytes message)`\n",
    "    * In cctpcli the listener calls an API to store the bytes component of the message\n",
    "* Here's how the messsage is signed in golangture, nil\r\n",
    "}"
   ]
  },
  {
   "cell_type": "markdown",
   "id": "026ada84-a698-4a99-b6ee-f9daf9ba201a",
   "metadata": {},
   "source": [
    "```console\n",
    "func signMessage(message []byte, attestorKey *ecdsa.PrivateKey) ([]byte, error) {\n",
    "\tmsgHash := crypto.Keccak256Hash(message)\n",
    "\tstamp := []byte(\"\\x19Ethereum Signed Message:\\n32\")\n",
    "\tsignature, err := crypto.Sign(crypto.Keccak256Hash(stamp, msgHash.Bytes()).Bytes(), attestorKey)\n",
    "\tif err != nil {\n",
    "\t\treturn nil, err\n",
    "\t}\n",
    "\n",
    "\tif signature[crypto.RecoveryIDOffset] == 0 || signature[crypto.RecoveryIDOffset] == 1 {\n",
    "\t\tsignature[crypto.RecoveryIDOffset] += 27\n",
    "\t}\n",
    "\treturn signature, nil\n",
    "}\n",
    "```"
   ]
  },
  {
   "cell_type": "code",
   "execution_count": null,
   "id": "47dbe377-acbf-496d-80b4-fd5b58f2e8c9",
   "metadata": {},
   "outputs": [],
   "source": [
    "# Friom above we have the messageSent bytes\n",
    "messageSentBytes"
   ]
  },
  {
   "cell_type": "code",
   "execution_count": null,
   "id": "95327e35-28e4-4dfe-99d9-848868b1ed15",
   "metadata": {},
   "outputs": [],
   "source": [
    "mbHash = Web3.keccak(messageSentBytes)\n",
    "signedHash = w3.eth.account.signHash(mbHash, private_key=ACCT0KEY)"
   ]
  },
  {
   "cell_type": "code",
   "execution_count": null,
   "id": "cc17307f-2488-4596-9996-529914fed451",
   "metadata": {},
   "outputs": [],
   "source": [
    "messageSentBytes.hex()"
   ]
  },
  {
   "cell_type": "code",
   "execution_count": null,
   "id": "5a8c2d6c-8f96-417f-88d4-0a00f9c60048",
   "metadata": {},
   "outputs": [],
   "source": [
    "from eth_account.messages import encode_defunct\n",
    "encode_defunct(messageSentBytes)"
   ]
  },
  {
   "cell_type": "markdown",
   "id": "327241fd-6355-4af2-b46e-24b5acb936ff",
   "metadata": {},
   "source": [
    "If we just encode the bytes the size of the message is 248, and will not match what we produced with the golang version, and it signs the hash of the bytes. So let's try that."
   ]
  },
  {
   "cell_type": "code",
   "execution_count": null,
   "id": "2ddb5c6c-ce4c-495b-b860-38dd672051d2",
   "metadata": {},
   "outputs": [],
   "source": [
    "encode_defunct(Web3.keccak(messageSentBytes))"
   ]
  },
  {
   "cell_type": "code",
   "execution_count": null,
   "id": "15e4ce0a-8bfa-431a-bb2b-873e76cefa49",
   "metadata": {},
   "outputs": [],
   "source": [
    "# Put it all together\n",
    "message = encode_defunct(Web3.keccak(messageSentBytes))\n",
    "signedMessage = w3.eth.account.sign_message(message, private_key=ACCT0KEY)"
   ]
  },
  {
   "cell_type": "code",
   "execution_count": null,
   "id": "5a46e8ba-53e9-4301-9801-20d0ebbc30ed",
   "metadata": {},
   "outputs": [],
   "source": [
    "signedMessage"
   ]
  },
  {
   "cell_type": "code",
   "execution_count": null,
   "id": "45ca0a2a-042e-4fce-908e-50a33c140dd3",
   "metadata": {},
   "outputs": [],
   "source": [
    "signedMessage.signature"
   ]
  },
  {
   "cell_type": "code",
   "execution_count": null,
   "id": "8b71dded-b637-4c57-a5c0-314b08ad73c6",
   "metadata": {},
   "outputs": [],
   "source": [
    "message.body.hex"
   ]
  },
  {
   "cell_type": "markdown",
   "id": "87d16364-4d3f-4eef-be17-6384dbd918c0",
   "metadata": {},
   "source": [
    "## Polygon CCTP Deployment\n",
    "\n"
   ]
  },
  {
   "cell_type": "code",
   "execution_count": null,
   "id": "520a57b6-4bae-47e3-87ae-782c2103113d",
   "metadata": {},
   "outputs": [],
   "source": [
    "%%bash -s \"$cctp_home\" \"$PG\" \"$PGKEY\" \"$POLYGON_FIDDY_ADDRESS\" \"$FIDDY_ETH_ADDRESS\" \"$ACCT0\" \"$PG_URL\" \"$ethTokenMessenger\"\n",
    "\n",
    "cd $1\n",
    "ls $1\n",
    "echo $2\n",
    "export MESSAGE_TRANSMITTER_DEPLOYER_KEY=$3\n",
    "export TOKEN_MESSENGER_DEPLOYER_KEY=$3\n",
    "export TOKEN_MINTER_DEPLOYER_KEY=$3\n",
    "export TOKEN_CONTROLLER_DEPLOYER_KEY=$3\n",
    "export ATTESTER_ADDRESS=$6\n",
    "export USDC_CONTRACT_ADDRESS=$4\n",
    "export TOKEN_CONTROLLER_ADDRESS=$2\n",
    "export BURN_LIMIT_PER_MESSAGE=1000\n",
    "export REMOTE_USDC_CONTRACT_ADDRESS=$5\n",
    "export DOMAIN=2\n",
    "export REMOTE_DOMAIN=1\n",
    "export MESSAGE_TRANSMITTER_PAUSER_ADDRESS=$2\n",
    "export TOKEN_MINTER_PAUSER_ADDRESS=$2\n",
    "export MESSAGE_TRANSMITTER_RESCUER_ADDRESS=$2\n",
    "export TOKEN_MESSENGER_RESCUER_ADDRESS=$2\n",
    "export TOKEN_MINTER_RESCUER_ADDRESS=$2\n",
    "export REMOTE_TOKEN_MESSENGER_ADDRESS=$8\n",
    "\n",
    "\n",
    "make simulate RPC_URL=$7 SENDER=$2"
   ]
  },
  {
   "cell_type": "code",
   "execution_count": null,
   "id": "ba8fb81a-88dc-4b90-a9c8-9c5537f6ecb8",
   "metadata": {},
   "outputs": [],
   "source": [
    "%%bash -s \"$cctp_home\" \"$PG\" \"$PGKEY\" \"$POLYGON_FIDDY_ADDRESS\" \"$FIDDY_ETH_ADDRESS\" \"$ACCT0\" \"$PG_URL\" \"$ethTokenMessenger\"\n",
    "\n",
    "cd $1\n",
    "ls $1\n",
    "echo $2\n",
    "export MESSAGE_TRANSMITTER_DEPLOYER_KEY=$3\n",
    "export TOKEN_MESSENGER_DEPLOYER_KEY=$3\n",
    "export TOKEN_MINTER_DEPLOYER_KEY=$3\n",
    "export TOKEN_CONTROLLER_DEPLOYER_KEY=$3\n",
    "export ATTESTER_ADDRESS=$6\n",
    "export USDC_CONTRACT_ADDRESS=$4\n",
    "export TOKEN_CONTROLLER_ADDRESS=$2\n",
    "export BURN_LIMIT_PER_MESSAGE=1000\n",
    "export REMOTE_USDC_CONTRACT_ADDRESS=$5\n",
    "export DOMAIN=2\n",
    "export REMOTE_DOMAIN=1\n",
    "export MESSAGE_TRANSMITTER_PAUSER_ADDRESS=$2\n",
    "export TOKEN_MINTER_PAUSER_ADDRESS=$2\n",
    "export MESSAGE_TRANSMITTER_RESCUER_ADDRESS=$2\n",
    "export TOKEN_MESSENGER_RESCUER_ADDRESS=$2\n",
    "export TOKEN_MINTER_RESCUER_ADDRESS=$2\n",
    "export REMOTE_TOKEN_MESSENGER_ADDRESS=$8\n",
    "\n",
    "\n",
    "make deploy RPC_URL=$7 SENDER=$2"
   ]
  },
  {
   "cell_type": "code",
   "execution_count": null,
   "id": "e73bf510-d22f-4412-9468-2b6c1278d8d0",
   "metadata": {},
   "outputs": [],
   "source": [
    "#export CCTPCTX=$HOME/code/evm-cctp-contracts/broadcast/deploy.s.sol/1281/run-latest.json\n",
    "cctp_ctx = home[0] + '/code/evm-cctp-contracts/broadcast/deploy.s.sol/80001/run-latest.json'\n",
    "print(cctp_ctx)"
   ]
  },
  {
   "cell_type": "code",
   "execution_count": null,
   "id": "fc1e2a98-e361-4a6e-a8c1-6a3511d5bb56",
   "metadata": {},
   "outputs": [],
   "source": [
    "%%bash -s \"$exec_home\" \"$cctp_ctx\" --out CCTP_AGGREGATE\n",
    "cd $1\n",
    "export CCTPCTX=$2\n",
    "ls\n",
    "node script/cctp-details.js"
   ]
  },
  {
   "cell_type": "code",
   "execution_count": null,
   "id": "ed1705b9-d828-4d01-ad04-73a559ffc160",
   "metadata": {},
   "outputs": [],
   "source": [
    "CCTP_AGGREGATE"
   ]
  },
  {
   "cell_type": "code",
   "execution_count": null,
   "id": "500c69bc-041b-4c1b-82ce-59608b35231b",
   "metadata": {},
   "outputs": [],
   "source": [
    "CCTP_AGGREGATE = CCTP_AGGREGATE.strip()\n",
    "parts = CCTP_AGGREGATE.split(':')\n",
    "print(parts)"
   ]
  },
  {
   "cell_type": "code",
   "execution_count": null,
   "id": "5e23bae5-ab04-4e68-9e6e-bde3900f6501",
   "metadata": {},
   "outputs": [],
   "source": [
    "pgMessageTransmitterAddr = parts[0]\n",
    "pgTokenMessengerAddr = parts[1]\n",
    "pgTokenMinterAddr = parts[2]"
   ]
  },
  {
   "cell_type": "code",
   "execution_count": null,
   "id": "892b476c-8d8d-4326-9d95-1676589239a7",
   "metadata": {},
   "outputs": [],
   "source": [
    "print('pg transmitter: {}'.format(pgMessageTransmitterAddr))\n",
    "print('pg token mess: {}'.format(pgTokenMessengerAddr))\n",
    "print('pg token inter: {}'.format(pgTokenMinterAddr))"
   ]
  },
  {
   "cell_type": "markdown",
   "id": "e97e6543-6964-4c50-8c5e-d46a735673bc",
   "metadata": {},
   "source": [
    "## Redeem Using Attested Message"
   ]
  },
  {
   "cell_type": "code",
   "execution_count": null,
   "id": "a91755f3-514d-4db6-8499-6af75b590af8",
   "metadata": {},
   "outputs": [],
   "source": [
    "mbw3 = Web3(Web3.HTTPProvider(PG_URL))"
   ]
  },
  {
   "cell_type": "code",
   "execution_count": null,
   "id": "83eeb6e1-edfc-4514-98e2-e5f42c427cde",
   "metadata": {},
   "outputs": [],
   "source": [
    "mbw3.eth.get_balance(PG)"
   ]
  },
  {
   "cell_type": "code",
   "execution_count": null,
   "id": "5fbbce01-ae52-4f21-a09f-b3d7f4fba4a9",
   "metadata": {},
   "outputs": [],
   "source": [
    "pgMessageTransmitterAddr"
   ]
  },
  {
   "cell_type": "code",
   "execution_count": null,
   "id": "7bb64ce7-f747-40db-8a04-f36bcea8ea35",
   "metadata": {},
   "outputs": [],
   "source": [
    "ethTransmitterAbiFile = home[0] + '/code/evm-cctp-contracts/out/MessageTransmitter.sol/MessageTransmitter.json'\n",
    "print(ethTransmitterAbiFile)"
   ]
  },
  {
   "cell_type": "code",
   "execution_count": null,
   "id": "bf96c6b6-a6bb-44f7-86c0-c1504a4c34e7",
   "metadata": {},
   "outputs": [],
   "source": [
    "# To redeem on polygon, we call ReceiveMessage on message transmitter\n",
    "pgMessageTransmitter = mbw3.eth.contract(address=pgMessageTransmitterAddr, abi=ethTransmitterAbi)"
   ]
  },
  {
   "cell_type": "code",
   "execution_count": null,
   "id": "8316bde5-7cf4-49ba-b0e6-517884720343",
   "metadata": {},
   "outputs": [],
   "source": [
    "pgMessageTransmitter.functions.localDomain().call()"
   ]
  },
  {
   "cell_type": "code",
   "execution_count": null,
   "id": "b3b530c6-e203-4538-be3e-9a804552fd12",
   "metadata": {},
   "outputs": [],
   "source": [
    "pgMessageTransmitter.functions.nextAvailableNonce().call()"
   ]
  },
  {
   "cell_type": "code",
   "execution_count": null,
   "id": "13aaeefe-c2ee-4e98-85cc-732abda236fc",
   "metadata": {},
   "outputs": [],
   "source": [
    "pgMessageTransmitter.functions.getNumEnabledAttesters().call()"
   ]
  },
  {
   "cell_type": "code",
   "execution_count": null,
   "id": "ef4f6dfa-6a67-4094-b317-019bbaf24a51",
   "metadata": {},
   "outputs": [],
   "source": [
    "pgMessageTransmitter.functions.getEnabledAttester(0).call()"
   ]
  },
  {
   "cell_type": "code",
   "execution_count": null,
   "id": "ab3ac74f-90c2-49f8-95da-cf8bec9fd4f7",
   "metadata": {},
   "outputs": [],
   "source": [
    "messageSentBytes"
   ]
  },
  {
   "cell_type": "code",
   "execution_count": null,
   "id": "cf6512fd-8948-47d1-b405-e2cd35dfe107",
   "metadata": {},
   "outputs": [],
   "source": []
  },
  {
   "cell_type": "code",
   "execution_count": null,
   "id": "005991e2-c1ae-4dab-9931-6e4c931baf51",
   "metadata": {},
   "outputs": [],
   "source": [
    "pgMessageTransmitter.functions.isEnabledAttester(ACCT0).call()"
   ]
  },
  {
   "cell_type": "code",
   "execution_count": null,
   "id": "dd4eaea3-0d44-4456-b13e-625a9aef6b17",
   "metadata": {},
   "outputs": [],
   "source": [
    "tx = pgMessageTransmitter.functions.receiveMessage(messageSentBytes,signedHash.signature).build_transaction({\n",
    "    \"from\":PG,\n",
    "    \"nonce\": w3.eth.get_transaction_count(PG),\n",
    "})"
   ]
  },
  {
   "cell_type": "code",
   "execution_count": null,
   "id": "2c78bcf9-210d-488d-8b50-47cf5a64960a",
   "metadata": {},
   "outputs": [],
   "source": []
  }
 ],
 "metadata": {
  "kernelspec": {
   "display_name": "Python 3 (ipykernel)",
   "language": "python",
   "name": "python3"
  },
  "language_info": {
   "codemirror_mode": {
    "name": "ipython",
    "version": 3
   },
   "file_extension": ".py",
   "mimetype": "text/x-python",
   "name": "python",
   "nbconvert_exporter": "python",
   "pygments_lexer": "ipython3",
   "version": "3.8.10"
  }
 },
 "nbformat": 4,
 "nbformat_minor": 5
}
