{
 "cells": [
  {
   "cell_type": "markdown",
   "id": "eaaf3272-ecfa-433b-a2c7-5b25ea8933c4",
   "metadata": {},
   "source": [
    "## Deployment\n",
    "\n",
    "Deployment notes and scripts\n",
    "\n",
    "Prior to starting Jupyter be sure node js is avaiable - set it via nvm if needed."
   ]
  },
  {
   "cell_type": "code",
   "execution_count": null,
   "id": "4df8ac36-d0d0-495e-9d2c-dfe73c66ece6",
   "metadata": {},
   "outputs": [],
   "source": [
    "# Eth test account addresses\n",
    "ACCT0='0x892BB2e4F6b14a2B5b82Ba8d33E5925D42D4431F'\n",
    "ACCT1='0x9949f7e672a568bB3EBEB777D5e8D1c1107e96E5'\n",
    "ACCT2='0x835F0Aa692b8eBCdEa8E64742e5Bce30303669c2'\n",
    "ACCT3='0x7bA7d161F9E8B707694f434d65c218a1F0853B1C'\n",
    "ACCT4='0xB4C3D79CDC0eb7A8576a8bf224Bbc6Bec790c320'\n",
    "ACCT5='0x5Ad35F89D8C1d03089BDe2578Ce43883E3f2A7B0'\n",
    "ACCT6='0x0234643975F308b76d1241897e7d70b02C155daa'\n",
    "ACCT7='0x5199524B11e801c52161CA76dB9BFD72f4a4E1E1'\n",
    "ACCT8='0x549381D65fe61046911d11743D5c0941Ed704640'\n",
    "ACCT9='0x73dA1eD554De26C467d97ADE090af6d52851745E'"
   ]
  },
  {
   "cell_type": "code",
   "execution_count": null,
   "id": "55e1ab4c-709e-4eae-99aa-002e3add710b",
   "metadata": {},
   "outputs": [],
   "source": [
    "# Eth test account private keys\n",
    "ACCT0KEY='0xcb1a18dff8cfcee16202bf86f1f89f8b3881107b8192cd06836fda9dbc0fde1b'\n",
    "ACCT1KEY='0xa54f24f80839b659fc44fbb19492507bc734ea572f6f5672787cd8e9a198bf28'\n",
    "ACCT2KEY='0x824f9e081f93102ca26e9e696bb6804079a5e4e3fca3a05216e2b6e0538fcab9'\n",
    "ACCT3KEY='0x3e56e9b2db8389123a03816c37dd4515e07077483fbe865156a2d8f6003b6725'\n",
    "ACCT4KEY='0xca55c5904f97405816f8d24c5e7810aaec2aa347ea0e1f920f19eca05669ae7b'\n",
    "ACCT5KEY='0x6100006a16d6a0fd065f62165e64d412920afd0e8fc59956ad7a9116e363b72e'\n",
    "ACCT6KEY='0x55b0e7919eb08e618dbddf025341094eefc0db60244736c1faac1412d68868f3'\n",
    "ACCT7KEY='0x81b475051c4686cffe815e50216a9bac397c0e5d9108170823b290d41823fa8a'\n",
    "ACCT8KEY='0xc3599ced1484dc8eccbb477cf8c318ca48ef1f2aac81a10a3774fe40d3b678de'\n",
    "ACCT9KEY='0xf9832eeac47db42efeb2eca01e6479bfde00fda8fdd0624d45efd0e4b9ddcd3b'"
   ]
  },
  {
   "cell_type": "code",
   "execution_count": null,
   "id": "21794c99-a473-4667-8d53-4cea1de5ad7b",
   "metadata": {},
   "outputs": [],
   "source": [
    "# MB test account addresses\n",
    "MBACCT0='0xf24FF3a9CF04c71Dbc94D0b566f7A27B94566cac'\n",
    "MBACCT1='0x3Cd0A705a2DC65e5b1E1205896BaA2be8A07c6e0'\n",
    "MBACCT2='0x798d4Ba9baf0064Ec19eB4F0a1a45785ae9D6DFc'\n",
    "MBACCT3='0x773539d4Ac0e786233D90A233654ccEE26a613D9'\n",
    "MBACCT4='0xFf64d3F6efE2317EE2807d223a0Bdc4c0c49dfDB'\n",
    "MBACCT5='0xC0F0f4ab324C46e55D02D0033343B4Be8A55532d'\n",
    "MBACCT6='0x7BF369283338E12C90514468aa3868A551AB2929'\n",
    "MBACCT7='0x931f3600a299fd9B24cEfB3BfF79388D19804BeA'\n",
    "MBACCT8='0xC41C5F1123ECCd5ce233578B2e7ebd5693869d73'\n",
    "MBACCT9='0x2898FE7a42Be376C8BC7AF536A940F7Fd5aDd423'"
   ]
  },
  {
   "cell_type": "code",
   "execution_count": null,
   "id": "7b55c0ab-ede1-4d9a-bfbb-b46a459b6be8",
   "metadata": {},
   "outputs": [],
   "source": [
    "# MB test account private keys\n",
    "\n",
    "MBACCT0KEY='0x5fb92d6e98884f76de468fa3f6278f8807c48bebc13595d45af5bdc4da702133'\n",
    "MBACCT1KEY='0x8075991ce870b93a8870eca0c0f91913d12f47948ca0fd25b49c6fa7cdbeee8b'\n",
    "MBACCT2KEY='0x0b6e18cafb6ed99687ec547bd28139cafdd2bffe70e6b688025de6b445aa5c5b'\n",
    "MBACCT3KEY='0x39539ab1876910bbf3a223d84a29e28f1cb4e2e456503e7e91ed39b2e7223d68'\n",
    "MBACCT4KEY='0x7dce9bc8babb68fec1409be38c8e1a52650206a7ed90ff956ae8a6d15eeaaef4'\n",
    "MBACCT5KEY='0xb9d2ea9a615f3165812e8d44de0d24da9bbd164b65c4f0573e1ce2c8dbd9c8df'\n",
    "MBACCT6KEY='0x96b8a38e12e1a31dee1eab2fffdf9d9990045f5b37e44d8cc27766ef294acf18'\n",
    "MBACCT7KEY='0x0d6dcaaef49272a5411896be8ad16c01c35d6f8c18873387b71fbc734759b0ab'\n",
    "MBACCT8KEY='0x4c42532034540267bf568198ccec4cb822a025da542861fcb146a5fab6433ff8'\n",
    "MBACCT9KEY='0x94c49300a58d576011096bcb006aa06f5a91b34b4383891e8029c21dc39fbb8b'"
   ]
  },
  {
   "cell_type": "markdown",
   "id": "d962f84a-750a-4133-9308-d8fef594a180",
   "metadata": {},
   "source": [
    "## Eth deployment\n",
    "\n",
    "1. Pick account for deploying FIDDY\n",
    "2. Deploy it\n",
    "3. Grab the address\n",
    "4. Pick the remote account for deployment of CCTP\n",
    "5. Precompute the remote messenger address\n",
    "6. Deploy\n",
    "\n",
    "\n",
    "\n",
    "\n",
    "\n",
    "\n"
   ]
  },
  {
   "cell_type": "code",
   "execution_count": null,
   "id": "64f0e3e3-9422-49b8-8a47-077e8926f22f",
   "metadata": {},
   "outputs": [],
   "source": [
    "# Eth deployment account\n",
    "print('export DEPLOYER_KEY={}'.format(ACCT0KEY))\n",
    "print('export OWNER_ADDRESS={}'.format(ACCT0))"
   ]
  },
  {
   "cell_type": "code",
   "execution_count": null,
   "id": "72beba41-84b1-4bc9-a280-61f1a11e2fb2",
   "metadata": {},
   "outputs": [],
   "source": [
    "home = ! echo $HOME\n",
    "exec_home = home[0] + '/code/cctp-components'\n",
    "print(exec_home)"
   ]
  },
  {
   "cell_type": "code",
   "execution_count": null,
   "id": "47bf5a9d-39c1-4c8a-b5f0-335c6b1b9501",
   "metadata": {
    "scrolled": true
   },
   "outputs": [],
   "source": [
    "# Fiddy deployment\n",
    "!cd {exec_home} && DEPLOYER_KEY={ACCT0KEY} OWNER_ADDRESS={ACCT0} forge script script/Token.s.sol:DeployScript --broadcast --rpc-url http://127.0.0.1:8545 --extra-output-files abi --extra-output-files bin\n"
   ]
  },
  {
   "cell_type": "code",
   "execution_count": null,
   "id": "2e0f787e-b8da-4b5a-8aae-8301d9d2e0bf",
   "metadata": {},
   "outputs": [],
   "source": [
    "%%bash -s \"$exec_home\" --out FIDDY_ETH_ADDRESS\n",
    "cd $1\n",
    "ls\n",
    "node script/deploy-details.js"
   ]
  },
  {
   "cell_type": "code",
   "execution_count": null,
   "id": "1393e98e-fad7-4c79-8dc9-3b1434568c32",
   "metadata": {},
   "outputs": [],
   "source": [
    "print(FIDDY_ETH_ADDRESS)"
   ]
  },
  {
   "cell_type": "code",
   "execution_count": null,
   "id": "5a97e5ac-f650-4742-ac81-18b4b3da2d44",
   "metadata": {},
   "outputs": [],
   "source": []
  }
 ],
 "metadata": {
  "kernelspec": {
   "display_name": "Python 3 (ipykernel)",
   "language": "python",
   "name": "python3"
  },
  "language_info": {
   "codemirror_mode": {
    "name": "ipython",
    "version": 3
   },
   "file_extension": ".py",
   "mimetype": "text/x-python",
   "name": "python",
   "nbconvert_exporter": "python",
   "pygments_lexer": "ipython3",
   "version": "3.8.10"
  }
 },
 "nbformat": 4,
 "nbformat_minor": 5
}
