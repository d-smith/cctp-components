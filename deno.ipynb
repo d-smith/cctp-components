{
 "cells": [
  {
   "cell_type": "code",
   "execution_count": null,
   "id": "e71b2f75-e846-4ffe-b1c6-bb9c85cb6fee",
   "metadata": {},
   "outputs": [],
   "source": [
    "console.log(\"ding it\")"
   ]
  },
  {
   "cell_type": "code",
   "execution_count": null,
   "id": "8ee66740-2618-44b5-aaa5-f573ba71399a",
   "metadata": {},
   "outputs": [],
   "source": [
    "Deno.env.get('HOME')"
   ]
  },
  {
   "cell_type": "code",
   "execution_count": null,
   "id": "50e0df7b-a889-4787-afba-e749829d5171",
   "metadata": {},
   "outputs": [],
   "source": [
    "let abiFile = Deno.env.get('HOME') + '/code/evm-cctp-contracts/out/TokenMessenger.sol/TokenMessenger.json';\n",
    "console.log(abiFile)"
   ]
  },
  {
   "cell_type": "code",
   "execution_count": null,
   "id": "de7ce078-2cc6-490a-bd50-63209713910c",
   "metadata": {},
   "outputs": [],
   "source": [
    "async function getJson(filePath: string) {\n",
    "    try {\n",
    "        return JSON.parse(await Deno.readTextFile(filePath));\n",
    "    } catch(e) {\n",
    "        console.log(filePath+': '+e.message);\n",
    "    }\n",
    "}"
   ]
  },
  {
   "cell_type": "code",
   "execution_count": null,
   "id": "8142e74a-2cd5-448d-bfd9-16494bd10865",
   "metadata": {},
   "outputs": [],
   "source": [
    "let tokenMessenderContract = await getJson(abiFile)"
   ]
  },
  {
   "cell_type": "code",
   "execution_count": null,
   "id": "44b43251-cfb1-49d9-aa96-ed90e489e8be",
   "metadata": {},
   "outputs": [],
   "source": [
    "console.log(tokenMessenderContract)"
   ]
  },
  {
   "cell_type": "code",
   "execution_count": null,
   "id": "2ce9a2d7-c005-48cc-b484-28742518f3f7",
   "metadata": {},
   "outputs": [],
   "source": []
  }
 ],
 "metadata": {
  "kernelspec": {
   "display_name": "Deno",
   "language": "typescript",
   "name": "deno"
  },
  "language_info": {
   "file_extension": ".ts",
   "mimetype": "text/x.typescript",
   "name": "typescript",
   "nb_converter": "script",
   "pygments_lexer": "typescript",
   "version": "5.2.2"
  }
 },
 "nbformat": 4,
 "nbformat_minor": 5
}
